{
 "cells": [
  {
   "cell_type": "markdown",
   "id": "f8a4f887-69ee-48e3-ae15-6d3364644b73",
   "metadata": {},
   "source": [
    "## Using Spacy Library"
   ]
  },
  {
   "cell_type": "code",
   "execution_count": 2,
   "id": "835a56af-048e-4a80-9055-59f0def02a33",
   "metadata": {},
   "outputs": [],
   "source": [
    "import spacy"
   ]
  },
  {
   "cell_type": "markdown",
   "id": "61d5d0c5-70d0-45a0-aec3-4375a7306c68",
   "metadata": {},
   "source": [
    "Spacy library is Object Oriented, while the NLTK is String Processing"
   ]
  },
  {
   "cell_type": "code",
   "execution_count": 3,
   "id": "f1ab6928-1713-456f-a560-d90c7d4370a3",
   "metadata": {},
   "outputs": [],
   "source": [
    "nlp = spacy.load(\"en_core_web_sm\")\n",
    "doc = nlp(\"Dr. Smith, renowned for his groundbreaking research in neuroscience, will deliver the keynote address at the conference. After years of dedicated study, Sarah finally achieved her dream of becoming Dr. Johnson, earning her Ph.D. in astrophysics.\")"
   ]
  },
  {
   "cell_type": "markdown",
   "id": "b9b78559-babe-48d9-8572-b2618928dd97",
   "metadata": {},
   "source": [
    "#### 1. Sentence Tokenization"
   ]
  },
  {
   "cell_type": "code",
   "execution_count": 4,
   "id": "65da6bef-8a5c-4d0a-bfe6-265924d1814f",
   "metadata": {},
   "outputs": [
    {
     "name": "stdout",
     "output_type": "stream",
     "text": [
      "Dr. Smith, renowned for his groundbreaking research in neuroscience, will deliver the keynote address at the conference.\n",
      "After years of dedicated study, Sarah finally achieved her dream of becoming Dr. Johnson, earning her Ph.D. in astrophysics.\n"
     ]
    }
   ],
   "source": [
    "for sentence in doc.sents:\n",
    "    print(sentence)"
   ]
  },
  {
   "cell_type": "markdown",
   "id": "fd05354c-3008-4d76-9e3b-d3c0d3f10d1d",
   "metadata": {},
   "source": [
    "Here, we can see these two sentences is properly segmented/tokenized without just splitting from '.'."
   ]
  },
  {
   "cell_type": "markdown",
   "id": "1472dc88-581c-497e-81c7-66aced218b75",
   "metadata": {},
   "source": [
    "#### 2. Word Tokenization"
   ]
  },
  {
   "cell_type": "code",
   "execution_count": 6,
   "id": "e4680f03-2d7e-4995-beb8-0d907bff75f0",
   "metadata": {},
   "outputs": [
    {
     "name": "stdout",
     "output_type": "stream",
     "text": [
      "Dr.\n",
      "Smith\n",
      ",\n",
      "renowned\n",
      "for\n",
      "his\n",
      "groundbreaking\n",
      "research\n",
      "in\n",
      "neuroscience\n",
      ",\n",
      "will\n",
      "deliver\n",
      "the\n",
      "keynote\n",
      "address\n",
      "at\n",
      "the\n",
      "conference\n",
      ".\n",
      "After\n",
      "years\n",
      "of\n",
      "dedicated\n",
      "study\n",
      ",\n",
      "Sarah\n",
      "finally\n",
      "achieved\n",
      "her\n",
      "dream\n",
      "of\n",
      "becoming\n",
      "Dr.\n",
      "Johnson\n",
      ",\n",
      "earning\n",
      "her\n",
      "Ph.D.\n",
      "in\n",
      "astrophysics\n",
      ".\n"
     ]
    }
   ],
   "source": [
    "for sentence in doc.sents:\n",
    "    for word in sentence:\n",
    "        print(word)"
   ]
  },
  {
   "cell_type": "markdown",
   "id": "d08bff63-a80b-49b4-a542-9476354bd0f4",
   "metadata": {},
   "source": [
    "## Using NLTK Library"
   ]
  },
  {
   "cell_type": "code",
   "execution_count": 7,
   "id": "4c17a57b-843e-41b3-9f97-dc303874b44c",
   "metadata": {},
   "outputs": [],
   "source": [
    "import nltk"
   ]
  },
  {
   "cell_type": "markdown",
   "id": "49834744-b5c8-4524-960f-5db8521187d2",
   "metadata": {},
   "source": [
    "NLTK is more likely a DSLR camera, where we have to set up everything. While Spacy likes a mobile phone that comes with pre-defined settings."
   ]
  },
  {
   "cell_type": "markdown",
   "id": "97575436-c98b-4f6f-b727-90cfcf72042c",
   "metadata": {},
   "source": [
    "#### 1. Sentence Tokenization"
   ]
  },
  {
   "cell_type": "code",
   "execution_count": 9,
   "id": "43cabd1f-d6a3-4c98-a857-eabfd96cc6b9",
   "metadata": {},
   "outputs": [],
   "source": [
    "from nltk.tokenize import sent_tokenize"
   ]
  },
  {
   "cell_type": "code",
   "execution_count": 10,
   "id": "08311e7e-013c-4a7b-9a3d-ef939e51fc14",
   "metadata": {},
   "outputs": [
    {
     "data": {
      "text/plain": [
       "['Dr. Smith, renowned for his groundbreaking research in neuroscience, will deliver the keynote address at the conference.',\n",
       " 'After years of dedicated study, Sarah finally achieved her dream of becoming Dr. Johnson, earning her Ph.D. in astrophysics.']"
      ]
     },
     "execution_count": 10,
     "metadata": {},
     "output_type": "execute_result"
    }
   ],
   "source": [
    "sent_tokenize(\"Dr. Smith, renowned for his groundbreaking research in neuroscience, will deliver the keynote address at the conference. After years of dedicated study, Sarah finally achieved her dream of becoming Dr. Johnson, earning her Ph.D. in astrophysics.\")"
   ]
  },
  {
   "cell_type": "markdown",
   "id": "aada6c29-41a8-45b4-a223-1fec7b610f2a",
   "metadata": {},
   "source": [
    "#### 2. Word Tokenization"
   ]
  },
  {
   "cell_type": "code",
   "execution_count": 11,
   "id": "2b7af48f-e023-48b8-b98b-8ee630d2541a",
   "metadata": {},
   "outputs": [],
   "source": [
    "from nltk.tokenize import word_tokenize"
   ]
  },
  {
   "cell_type": "code",
   "execution_count": 12,
   "id": "c2a16488-b95c-4694-8082-30d05a3f3576",
   "metadata": {},
   "outputs": [
    {
     "data": {
      "text/plain": [
       "['Dr.',\n",
       " 'Smith',\n",
       " ',',\n",
       " 'renowned',\n",
       " 'for',\n",
       " 'his',\n",
       " 'groundbreaking',\n",
       " 'research',\n",
       " 'in',\n",
       " 'neuroscience',\n",
       " ',',\n",
       " 'will',\n",
       " 'deliver',\n",
       " 'the',\n",
       " 'keynote',\n",
       " 'address',\n",
       " 'at',\n",
       " 'the',\n",
       " 'conference',\n",
       " '.',\n",
       " 'After',\n",
       " 'years',\n",
       " 'of',\n",
       " 'dedicated',\n",
       " 'study',\n",
       " ',',\n",
       " 'Sarah',\n",
       " 'finally',\n",
       " 'achieved',\n",
       " 'her',\n",
       " 'dream',\n",
       " 'of',\n",
       " 'becoming',\n",
       " 'Dr.',\n",
       " 'Johnson',\n",
       " ',',\n",
       " 'earning',\n",
       " 'her',\n",
       " 'Ph.D.',\n",
       " 'in',\n",
       " 'astrophysics',\n",
       " '.']"
      ]
     },
     "execution_count": 12,
     "metadata": {},
     "output_type": "execute_result"
    }
   ],
   "source": [
    "word_tokenize(\"Dr. Smith, renowned for his groundbreaking research in neuroscience, will deliver the keynote address at the conference. After years of dedicated study, Sarah finally achieved her dream of becoming Dr. Johnson, earning her Ph.D. in astrophysics.\")"
   ]
  },
  {
   "cell_type": "code",
   "execution_count": null,
   "id": "ada3a1a7-7cd2-41dd-b526-300e84313c60",
   "metadata": {},
   "outputs": [],
   "source": []
  }
 ],
 "metadata": {
  "kernelspec": {
   "display_name": "Python 3 (ipykernel)",
   "language": "python",
   "name": "python3"
  },
  "language_info": {
   "codemirror_mode": {
    "name": "ipython",
    "version": 3
   },
   "file_extension": ".py",
   "mimetype": "text/x-python",
   "name": "python",
   "nbconvert_exporter": "python",
   "pygments_lexer": "ipython3",
   "version": "3.11.5"
  }
 },
 "nbformat": 4,
 "nbformat_minor": 5
}
