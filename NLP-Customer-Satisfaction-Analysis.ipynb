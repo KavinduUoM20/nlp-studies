{
 "cells": [
  {
   "cell_type": "markdown",
   "id": "399c32c5-1b16-4aca-b32b-1f067898e228",
   "metadata": {},
   "source": [
    "# Customer Satisfaction Analysis"
   ]
  },
  {
   "cell_type": "markdown",
   "id": "d107be7b-ed09-4839-bd78-cbf757eeafac",
   "metadata": {},
   "source": [
    "1. Loading the customer reviews dataset\n",
    "2. Clean and preprocess the reviews\n",
    "3. Tokenize the reviews and removing the stop words\n",
    "4. Exploring the tokens and product categories\n",
    "5. Extracting the adjectives in the reviews\n",
    "6. Finding the sentiment of each review"
   ]
  },
  {
   "cell_type": "markdown",
   "id": "a21b56b9-175a-4b65-b37b-87c2be014947",
   "metadata": {},
   "source": [
    "#### Import Modules"
   ]
  },
  {
   "cell_type": "code",
   "execution_count": 6,
   "id": "db918375-f6e2-48c3-88f4-40e7fb98501f",
   "metadata": {},
   "outputs": [
    {
     "name": "stderr",
     "output_type": "stream",
     "text": [
      "[nltk_data] Downloading package stopwords to\n",
      "[nltk_data]     C:\\Users\\Acer\\AppData\\Roaming\\nltk_data...\n",
      "[nltk_data]   Package stopwords is already up-to-date!\n",
      "[nltk_data] Downloading package punkt to\n",
      "[nltk_data]     C:\\Users\\Acer\\AppData\\Roaming\\nltk_data...\n",
      "[nltk_data]   Package punkt is already up-to-date!\n",
      "[nltk_data] Downloading package averaged_perceptron_tagger to\n",
      "[nltk_data]     C:\\Users\\Acer\\AppData\\Roaming\\nltk_data...\n",
      "[nltk_data]   Package averaged_perceptron_tagger is already up-to-\n",
      "[nltk_data]       date!\n",
      "[nltk_data] Downloading package vader_lexicon to\n",
      "[nltk_data]     C:\\Users\\Acer\\AppData\\Roaming\\nltk_data...\n",
      "[nltk_data]   Package vader_lexicon is already up-to-date!\n"
     ]
    }
   ],
   "source": [
    "import pandas as pd \n",
    "import string \n",
    "\n",
    "# Importing Natural Language Processing toolkit \n",
    "import nltk\n",
    "\n",
    "# Downloading the NLTK english stop words\n",
    "nltk.download('stopwords')\n",
    "\n",
    "# Downloading the NLTK sentence tokenizer\n",
    "nltk.download('punkt')\n",
    "\n",
    "# Downloading the NLTK POS Tagger\n",
    "nltk.download('averaged_perceptron_tagger')\n",
    "\n",
    "# Downloading the NLTK Vader Lexicon\n",
    "nltk.download('vader_lexicon')\n",
    "\n",
    "# Importing the NLTK english stop words \n",
    "from nltk.corpus import stopwords\n",
    "\n",
    "# Importing frequency distribution from NLTK\n",
    "from nltk.probability import FreqDist\n",
    "\n",
    "# Importing VADER dictionary. It is a rule-based sentiment analyzer\n",
    "from nltk.sentiment import SentimentIntensityAnalyzer\n",
    "\n",
    "# Importing data visualization modules \n",
    "from wordcloud import WordCloud\n",
    "import plotly.express as px \n",
    "import matplotlib.pyplot as plt"
   ]
  },
  {
   "cell_type": "markdown",
   "id": "62c50b5d-d2c0-47b7-86c1-9d73e97b9bf2",
   "metadata": {},
   "source": [
    "#### 1. Load Dataset"
   ]
  },
  {
   "cell_type": "code",
   "execution_count": 5,
   "id": "2610a507-d43a-49af-a48b-167137d48cdd",
   "metadata": {},
   "outputs": [],
   "source": [
    "data = pd.read_csv(\"./public/reviews-dataset.csv\")"
   ]
  },
  {
   "cell_type": "markdown",
   "id": "079e2823-ab68-4448-84d7-685f24db2660",
   "metadata": {},
   "source": [
    "Check first 5 elements"
   ]
  },
  {
   "cell_type": "code",
   "execution_count": 8,
   "id": "30638905-f005-4a50-97a7-8d5f85bb57e8",
   "metadata": {},
   "outputs": [
    {
     "data": {
      "text/html": [
       "<div>\n",
       "<style scoped>\n",
       "    .dataframe tbody tr th:only-of-type {\n",
       "        vertical-align: middle;\n",
       "    }\n",
       "\n",
       "    .dataframe tbody tr th {\n",
       "        vertical-align: top;\n",
       "    }\n",
       "\n",
       "    .dataframe thead th {\n",
       "        text-align: right;\n",
       "    }\n",
       "</style>\n",
       "<table border=\"1\" class=\"dataframe\">\n",
       "  <thead>\n",
       "    <tr style=\"text-align: right;\">\n",
       "      <th></th>\n",
       "      <th>product_review</th>\n",
       "      <th>product_category</th>\n",
       "    </tr>\n",
       "  </thead>\n",
       "  <tbody>\n",
       "    <tr>\n",
       "      <th>0</th>\n",
       "      <td>I love, love, love this jumpsuit. it's fun, fl...</td>\n",
       "      <td>Bottoms</td>\n",
       "    </tr>\n",
       "    <tr>\n",
       "      <th>1</th>\n",
       "      <td>Beautifully made pants and on trend with the f...</td>\n",
       "      <td>Bottoms</td>\n",
       "    </tr>\n",
       "    <tr>\n",
       "      <th>2</th>\n",
       "      <td>I never would have given these pants a second ...</td>\n",
       "      <td>Bottoms</td>\n",
       "    </tr>\n",
       "    <tr>\n",
       "      <th>3</th>\n",
       "      <td>These pants are even better in person. the onl...</td>\n",
       "      <td>Bottoms</td>\n",
       "    </tr>\n",
       "    <tr>\n",
       "      <th>4</th>\n",
       "      <td>The silhouette and length of this skirt and le...</td>\n",
       "      <td>Bottoms</td>\n",
       "    </tr>\n",
       "  </tbody>\n",
       "</table>\n",
       "</div>"
      ],
      "text/plain": [
       "                                      product_review product_category\n",
       "0  I love, love, love this jumpsuit. it's fun, fl...          Bottoms\n",
       "1  Beautifully made pants and on trend with the f...          Bottoms\n",
       "2  I never would have given these pants a second ...          Bottoms\n",
       "3  These pants are even better in person. the onl...          Bottoms\n",
       "4  The silhouette and length of this skirt and le...          Bottoms"
      ]
     },
     "execution_count": 8,
     "metadata": {},
     "output_type": "execute_result"
    }
   ],
   "source": [
    "data.head()"
   ]
  },
  {
   "cell_type": "markdown",
   "id": "036dbfd7-4040-4758-980d-dd3bba91f175",
   "metadata": {},
   "source": [
    "Check the shape of the DataFrame"
   ]
  },
  {
   "cell_type": "code",
   "execution_count": 9,
   "id": "1439ba64-4e37-4889-8568-0301824650c9",
   "metadata": {},
   "outputs": [
    {
     "data": {
      "text/plain": [
       "(3376, 2)"
      ]
     },
     "execution_count": 9,
     "metadata": {},
     "output_type": "execute_result"
    }
   ],
   "source": [
    "data.shape"
   ]
  },
  {
   "cell_type": "markdown",
   "id": "2d678d26-5340-40d6-b4d9-ec8a0de2be1f",
   "metadata": {},
   "source": [
    "Check one product review"
   ]
  },
  {
   "cell_type": "code",
   "execution_count": 10,
   "id": "f067b982-6b82-4e5c-b5c8-cc1d8814cc38",
   "metadata": {},
   "outputs": [
    {
     "data": {
      "text/plain": [
       "\"I love, love, love this jumpsuit. it's fun, flirty, and fabulous! every time i wear it, i get nothing but great compliments!\""
      ]
     },
     "execution_count": 10,
     "metadata": {},
     "output_type": "execute_result"
    }
   ],
   "source": [
    "data.product_review[0]"
   ]
  },
  {
   "cell_type": "markdown",
   "id": "d425f5d2-2afa-44e9-baf6-9cbb1c34bc8b",
   "metadata": {},
   "source": [
    "Check #.of Reviews pre Category"
   ]
  },
  {
   "cell_type": "code",
   "execution_count": 13,
   "id": "2715d29b-ace8-45b3-852e-2832f6834696",
   "metadata": {},
   "outputs": [
    {
     "data": {
      "text/plain": [
       "product_category\n",
       "Bottoms     685\n",
       "Dresses     681\n",
       "Tops        680\n",
       "Jackets     680\n",
       "Intimate    650\n",
       "Name: count, dtype: int64"
      ]
     },
     "execution_count": 13,
     "metadata": {},
     "output_type": "execute_result"
    }
   ],
   "source": [
    "data.product_category.value_counts()"
   ]
  },
  {
   "cell_type": "markdown",
   "id": "925e14b8-b8ba-4b1f-b458-066a448bdb66",
   "metadata": {},
   "source": [
    "#### 2. Clean Dataset"
   ]
  },
  {
   "cell_type": "markdown",
   "id": "8a3f7bf2-06f6-4747-9a74-904a00267568",
   "metadata": {},
   "source": [
    "Convert the reviews into Lower Case"
   ]
  },
  {
   "cell_type": "code",
   "execution_count": 16,
   "id": "a06e21a1-cc3a-428a-bc36-63b89849e1a1",
   "metadata": {},
   "outputs": [
    {
     "data": {
      "text/plain": [
       "\"i love, love, love this jumpsuit. it's fun, flirty, and fabulous! every time i wear it, i get nothing but great compliments!\""
      ]
     },
     "execution_count": 16,
     "metadata": {},
     "output_type": "execute_result"
    }
   ],
   "source": [
    "review = data.product_review[0]\n",
    "review.lower()"
   ]
  },
  {
   "cell_type": "code",
   "execution_count": 18,
   "id": "408bcbc6-7d14-4db9-beb2-d859b864bfaa",
   "metadata": {},
   "outputs": [],
   "source": [
    "data.product_review = data.product_review.str.lower()"
   ]
  },
  {
   "cell_type": "code",
   "execution_count": 19,
   "id": "94abc9a3-b4d2-4627-9472-9639f0d8cdc6",
   "metadata": {},
   "outputs": [
    {
     "data": {
      "text/html": [
       "<div>\n",
       "<style scoped>\n",
       "    .dataframe tbody tr th:only-of-type {\n",
       "        vertical-align: middle;\n",
       "    }\n",
       "\n",
       "    .dataframe tbody tr th {\n",
       "        vertical-align: top;\n",
       "    }\n",
       "\n",
       "    .dataframe thead th {\n",
       "        text-align: right;\n",
       "    }\n",
       "</style>\n",
       "<table border=\"1\" class=\"dataframe\">\n",
       "  <thead>\n",
       "    <tr style=\"text-align: right;\">\n",
       "      <th></th>\n",
       "      <th>product_review</th>\n",
       "      <th>product_category</th>\n",
       "    </tr>\n",
       "  </thead>\n",
       "  <tbody>\n",
       "    <tr>\n",
       "      <th>0</th>\n",
       "      <td>i love, love, love this jumpsuit. it's fun, fl...</td>\n",
       "      <td>Bottoms</td>\n",
       "    </tr>\n",
       "    <tr>\n",
       "      <th>1</th>\n",
       "      <td>beautifully made pants and on trend with the f...</td>\n",
       "      <td>Bottoms</td>\n",
       "    </tr>\n",
       "    <tr>\n",
       "      <th>2</th>\n",
       "      <td>i never would have given these pants a second ...</td>\n",
       "      <td>Bottoms</td>\n",
       "    </tr>\n",
       "    <tr>\n",
       "      <th>3</th>\n",
       "      <td>these pants are even better in person. the onl...</td>\n",
       "      <td>Bottoms</td>\n",
       "    </tr>\n",
       "    <tr>\n",
       "      <th>4</th>\n",
       "      <td>the silhouette and length of this skirt and le...</td>\n",
       "      <td>Bottoms</td>\n",
       "    </tr>\n",
       "  </tbody>\n",
       "</table>\n",
       "</div>"
      ],
      "text/plain": [
       "                                      product_review product_category\n",
       "0  i love, love, love this jumpsuit. it's fun, fl...          Bottoms\n",
       "1  beautifully made pants and on trend with the f...          Bottoms\n",
       "2  i never would have given these pants a second ...          Bottoms\n",
       "3  these pants are even better in person. the onl...          Bottoms\n",
       "4  the silhouette and length of this skirt and le...          Bottoms"
      ]
     },
     "execution_count": 19,
     "metadata": {},
     "output_type": "execute_result"
    }
   ],
   "source": [
    "data.head()"
   ]
  },
  {
   "cell_type": "markdown",
   "id": "66bc5a69-89c7-4d4a-80cd-4539c24668de",
   "metadata": {},
   "source": [
    "Removing puctuations"
   ]
  },
  {
   "cell_type": "code",
   "execution_count": 20,
   "id": "b7bfff85-f48f-4d75-a523-479d75d13ca3",
   "metadata": {},
   "outputs": [
    {
     "data": {
      "text/plain": [
       "'i love love love this jumpsuit its fun flirty and fabulous every time i wear it i get nothing but great compliments'"
      ]
     },
     "execution_count": 20,
     "metadata": {},
     "output_type": "execute_result"
    }
   ],
   "source": [
    "data.product_review[0].translate(str.maketrans('','',string.punctuation))"
   ]
  },
  {
   "cell_type": "code",
   "execution_count": 21,
   "id": "ffad1d7b-b8f9-4a9b-b77f-3df4aeb39aae",
   "metadata": {},
   "outputs": [],
   "source": [
    "data.product_review = data.product_review.str.translate(str.maketrans('','',string.punctuation))"
   ]
  },
  {
   "cell_type": "code",
   "execution_count": 23,
   "id": "7bf1a423-d0dd-4f63-97d0-2bf015605a38",
   "metadata": {},
   "outputs": [
    {
     "data": {
      "text/plain": [
       "0    i love love love this jumpsuit its fun flirty ...\n",
       "1    beautifully made pants and on trend with the f...\n",
       "2    i never would have given these pants a second ...\n",
       "3    these pants are even better in person the only...\n",
       "4    the silhouette and length of this skirt and le...\n",
       "Name: product_review, dtype: object"
      ]
     },
     "execution_count": 23,
     "metadata": {},
     "output_type": "execute_result"
    }
   ],
   "source": [
    "data.product_review.head()"
   ]
  },
  {
   "cell_type": "markdown",
   "id": "1f05d079-eeab-4af7-ad5a-1e57e565a1c7",
   "metadata": {},
   "source": [
    "#### 3. Tokenize & Remove Stopwords"
   ]
  },
  {
   "cell_type": "markdown",
   "id": "ee4857b7-f399-48cb-b65b-59a85bb0d570",
   "metadata": {},
   "source": [
    "Tokenize Reviews"
   ]
  },
  {
   "cell_type": "code",
   "execution_count": 25,
   "id": "a8b6483e-0867-425c-b805-29743c7ab6f4",
   "metadata": {},
   "outputs": [],
   "source": [
    "tokens = nltk.word_tokenize(data.product_review[0])"
   ]
  },
  {
   "cell_type": "code",
   "execution_count": 26,
   "id": "bee49f5d-e9fb-4a81-8e36-28da811c7c23",
   "metadata": {},
   "outputs": [
    {
     "data": {
      "text/plain": [
       "['i',\n",
       " 'love',\n",
       " 'love',\n",
       " 'love',\n",
       " 'this',\n",
       " 'jumpsuit',\n",
       " 'its',\n",
       " 'fun',\n",
       " 'flirty',\n",
       " 'and',\n",
       " 'fabulous',\n",
       " 'every',\n",
       " 'time',\n",
       " 'i',\n",
       " 'wear',\n",
       " 'it',\n",
       " 'i',\n",
       " 'get',\n",
       " 'nothing',\n",
       " 'but',\n",
       " 'great',\n",
       " 'compliments']"
      ]
     },
     "execution_count": 26,
     "metadata": {},
     "output_type": "execute_result"
    }
   ],
   "source": [
    "tokens"
   ]
  },
  {
   "cell_type": "markdown",
   "id": "9793cfb3-96f3-43ef-855d-4d87c9d3ecb1",
   "metadata": {},
   "source": [
    "Remove the Stopwords (Common words (e.g., \"the,\" \"and,\" \"is\") that appear frequently in a language and have little semantic value)"
   ]
  },
  {
   "cell_type": "code",
   "execution_count": 28,
   "id": "36e4ef43-2d66-4a6d-816e-d6df8b08fedf",
   "metadata": {},
   "outputs": [],
   "source": [
    "en_stopwords = stopwords.words(\"English\")\n",
    "en_stopwords.extend(['im','its','youre','thing','cant','dont','doesnt'])"
   ]
  },
  {
   "cell_type": "code",
   "execution_count": 29,
   "id": "2e4dabb1-4cfc-42a2-b3da-0b2aa279cd6e",
   "metadata": {},
   "outputs": [
    {
     "data": {
      "text/plain": [
       "['love',\n",
       " 'love',\n",
       " 'love',\n",
       " 'jumpsuit',\n",
       " 'fun',\n",
       " 'flirty',\n",
       " 'fabulous',\n",
       " 'every',\n",
       " 'time',\n",
       " 'wear',\n",
       " 'get',\n",
       " 'nothing',\n",
       " 'great',\n",
       " 'compliments']"
      ]
     },
     "execution_count": 29,
     "metadata": {},
     "output_type": "execute_result"
    }
   ],
   "source": [
    "[t for t in tokens if t not in en_stopwords]"
   ]
  },
  {
   "cell_type": "code",
   "execution_count": 31,
   "id": "5088b571-5171-4683-ac3c-f887716b9ec4",
   "metadata": {},
   "outputs": [],
   "source": [
    "data['product_review_tokenized'] = data.product_review.apply(nltk.word_tokenize)"
   ]
  },
  {
   "cell_type": "code",
   "execution_count": 32,
   "id": "082a1ad2-e05f-4ccf-9e3b-a53e059d16a4",
   "metadata": {},
   "outputs": [
    {
     "data": {
      "text/html": [
       "<div>\n",
       "<style scoped>\n",
       "    .dataframe tbody tr th:only-of-type {\n",
       "        vertical-align: middle;\n",
       "    }\n",
       "\n",
       "    .dataframe tbody tr th {\n",
       "        vertical-align: top;\n",
       "    }\n",
       "\n",
       "    .dataframe thead th {\n",
       "        text-align: right;\n",
       "    }\n",
       "</style>\n",
       "<table border=\"1\" class=\"dataframe\">\n",
       "  <thead>\n",
       "    <tr style=\"text-align: right;\">\n",
       "      <th></th>\n",
       "      <th>product_review</th>\n",
       "      <th>product_category</th>\n",
       "      <th>product_review_tokenized</th>\n",
       "    </tr>\n",
       "  </thead>\n",
       "  <tbody>\n",
       "    <tr>\n",
       "      <th>0</th>\n",
       "      <td>i love love love this jumpsuit its fun flirty ...</td>\n",
       "      <td>Bottoms</td>\n",
       "      <td>[i, love, love, love, this, jumpsuit, its, fun...</td>\n",
       "    </tr>\n",
       "    <tr>\n",
       "      <th>1</th>\n",
       "      <td>beautifully made pants and on trend with the f...</td>\n",
       "      <td>Bottoms</td>\n",
       "      <td>[beautifully, made, pants, and, on, trend, wit...</td>\n",
       "    </tr>\n",
       "    <tr>\n",
       "      <th>2</th>\n",
       "      <td>i never would have given these pants a second ...</td>\n",
       "      <td>Bottoms</td>\n",
       "      <td>[i, never, would, have, given, these, pants, a...</td>\n",
       "    </tr>\n",
       "    <tr>\n",
       "      <th>3</th>\n",
       "      <td>these pants are even better in person the only...</td>\n",
       "      <td>Bottoms</td>\n",
       "      <td>[these, pants, are, even, better, in, person, ...</td>\n",
       "    </tr>\n",
       "    <tr>\n",
       "      <th>4</th>\n",
       "      <td>the silhouette and length of this skirt and le...</td>\n",
       "      <td>Bottoms</td>\n",
       "      <td>[the, silhouette, and, length, of, this, skirt...</td>\n",
       "    </tr>\n",
       "  </tbody>\n",
       "</table>\n",
       "</div>"
      ],
      "text/plain": [
       "                                      product_review product_category  \\\n",
       "0  i love love love this jumpsuit its fun flirty ...          Bottoms   \n",
       "1  beautifully made pants and on trend with the f...          Bottoms   \n",
       "2  i never would have given these pants a second ...          Bottoms   \n",
       "3  these pants are even better in person the only...          Bottoms   \n",
       "4  the silhouette and length of this skirt and le...          Bottoms   \n",
       "\n",
       "                            product_review_tokenized  \n",
       "0  [i, love, love, love, this, jumpsuit, its, fun...  \n",
       "1  [beautifully, made, pants, and, on, trend, wit...  \n",
       "2  [i, never, would, have, given, these, pants, a...  \n",
       "3  [these, pants, are, even, better, in, person, ...  \n",
       "4  [the, silhouette, and, length, of, this, skirt...  "
      ]
     },
     "execution_count": 32,
     "metadata": {},
     "output_type": "execute_result"
    }
   ],
   "source": [
    "data.head()"
   ]
  },
  {
   "cell_type": "markdown",
   "id": "a9b31396-2b3a-4fd4-a04f-63a4f703e609",
   "metadata": {},
   "source": [
    "Remove all stopwords"
   ]
  },
  {
   "cell_type": "code",
   "execution_count": 34,
   "id": "a068f439-06e7-4ea6-b114-85066598596d",
   "metadata": {},
   "outputs": [
    {
     "data": {
      "text/html": [
       "<div>\n",
       "<style scoped>\n",
       "    .dataframe tbody tr th:only-of-type {\n",
       "        vertical-align: middle;\n",
       "    }\n",
       "\n",
       "    .dataframe tbody tr th {\n",
       "        vertical-align: top;\n",
       "    }\n",
       "\n",
       "    .dataframe thead th {\n",
       "        text-align: right;\n",
       "    }\n",
       "</style>\n",
       "<table border=\"1\" class=\"dataframe\">\n",
       "  <thead>\n",
       "    <tr style=\"text-align: right;\">\n",
       "      <th></th>\n",
       "      <th>product_review</th>\n",
       "      <th>product_category</th>\n",
       "      <th>product_review_tokenized</th>\n",
       "      <th>cleaned_tokens</th>\n",
       "    </tr>\n",
       "  </thead>\n",
       "  <tbody>\n",
       "    <tr>\n",
       "      <th>0</th>\n",
       "      <td>i love love love this jumpsuit its fun flirty ...</td>\n",
       "      <td>Bottoms</td>\n",
       "      <td>[i, love, love, love, this, jumpsuit, its, fun...</td>\n",
       "      <td>[love, love, love, jumpsuit, fun, flirty, fabu...</td>\n",
       "    </tr>\n",
       "    <tr>\n",
       "      <th>1</th>\n",
       "      <td>beautifully made pants and on trend with the f...</td>\n",
       "      <td>Bottoms</td>\n",
       "      <td>[beautifully, made, pants, and, on, trend, wit...</td>\n",
       "      <td>[beautifully, made, pants, trend, flared, crop...</td>\n",
       "    </tr>\n",
       "    <tr>\n",
       "      <th>2</th>\n",
       "      <td>i never would have given these pants a second ...</td>\n",
       "      <td>Bottoms</td>\n",
       "      <td>[i, never, would, have, given, these, pants, a...</td>\n",
       "      <td>[never, would, given, pants, second, look, onl...</td>\n",
       "    </tr>\n",
       "    <tr>\n",
       "      <th>3</th>\n",
       "      <td>these pants are even better in person the only...</td>\n",
       "      <td>Bottoms</td>\n",
       "      <td>[these, pants, are, even, better, in, person, ...</td>\n",
       "      <td>[pants, even, better, person, downside, need, ...</td>\n",
       "    </tr>\n",
       "    <tr>\n",
       "      <th>4</th>\n",
       "      <td>the silhouette and length of this skirt and le...</td>\n",
       "      <td>Bottoms</td>\n",
       "      <td>[the, silhouette, and, length, of, this, skirt...</td>\n",
       "      <td>[silhouette, length, skirt, length, flattering...</td>\n",
       "    </tr>\n",
       "  </tbody>\n",
       "</table>\n",
       "</div>"
      ],
      "text/plain": [
       "                                      product_review product_category  \\\n",
       "0  i love love love this jumpsuit its fun flirty ...          Bottoms   \n",
       "1  beautifully made pants and on trend with the f...          Bottoms   \n",
       "2  i never would have given these pants a second ...          Bottoms   \n",
       "3  these pants are even better in person the only...          Bottoms   \n",
       "4  the silhouette and length of this skirt and le...          Bottoms   \n",
       "\n",
       "                            product_review_tokenized  \\\n",
       "0  [i, love, love, love, this, jumpsuit, its, fun...   \n",
       "1  [beautifully, made, pants, and, on, trend, wit...   \n",
       "2  [i, never, would, have, given, these, pants, a...   \n",
       "3  [these, pants, are, even, better, in, person, ...   \n",
       "4  [the, silhouette, and, length, of, this, skirt...   \n",
       "\n",
       "                                      cleaned_tokens  \n",
       "0  [love, love, love, jumpsuit, fun, flirty, fabu...  \n",
       "1  [beautifully, made, pants, trend, flared, crop...  \n",
       "2  [never, would, given, pants, second, look, onl...  \n",
       "3  [pants, even, better, person, downside, need, ...  \n",
       "4  [silhouette, length, skirt, length, flattering...  "
      ]
     },
     "execution_count": 34,
     "metadata": {},
     "output_type": "execute_result"
    }
   ],
   "source": [
    "def remove_stopwords(tokens):\n",
    "    return [t for t in tokens if t not in en_stopwords]\n",
    "\n",
    "data['cleaned_tokens'] = data.product_review_tokenized.apply(remove_stopwords)\n",
    "data.head()"
   ]
  },
  {
   "cell_type": "markdown",
   "id": "4afb6ff8-8f4c-4161-984d-596cb16d2bc7",
   "metadata": {},
   "source": [
    "Recreate the reviews from the cleaned tokens"
   ]
  },
  {
   "cell_type": "code",
   "execution_count": 37,
   "id": "7c2d9502-4c5b-4b27-ae2a-1eeceae28f73",
   "metadata": {},
   "outputs": [
    {
     "data": {
      "text/plain": [
       "'love love love jumpsuit fun flirty fabulous every time wear get nothing great compliments'"
      ]
     },
     "execution_count": 37,
     "metadata": {},
     "output_type": "execute_result"
    }
   ],
   "source": [
    "tokens = data.cleaned_tokens[0]\n",
    "' '.join(tokens)"
   ]
  },
  {
   "cell_type": "code",
   "execution_count": 38,
   "id": "fbb705c6-2b0a-4a51-b78f-e1250cc1ed86",
   "metadata": {},
   "outputs": [
    {
     "data": {
      "text/html": [
       "<div>\n",
       "<style scoped>\n",
       "    .dataframe tbody tr th:only-of-type {\n",
       "        vertical-align: middle;\n",
       "    }\n",
       "\n",
       "    .dataframe tbody tr th {\n",
       "        vertical-align: top;\n",
       "    }\n",
       "\n",
       "    .dataframe thead th {\n",
       "        text-align: right;\n",
       "    }\n",
       "</style>\n",
       "<table border=\"1\" class=\"dataframe\">\n",
       "  <thead>\n",
       "    <tr style=\"text-align: right;\">\n",
       "      <th></th>\n",
       "      <th>product_review</th>\n",
       "      <th>product_category</th>\n",
       "      <th>product_review_tokenized</th>\n",
       "      <th>cleaned_tokens</th>\n",
       "      <th>product_review_cleaned</th>\n",
       "    </tr>\n",
       "  </thead>\n",
       "  <tbody>\n",
       "    <tr>\n",
       "      <th>0</th>\n",
       "      <td>i love love love this jumpsuit its fun flirty ...</td>\n",
       "      <td>Bottoms</td>\n",
       "      <td>[i, love, love, love, this, jumpsuit, its, fun...</td>\n",
       "      <td>[love, love, love, jumpsuit, fun, flirty, fabu...</td>\n",
       "      <td>love love love jumpsuit fun flirty fabulous ev...</td>\n",
       "    </tr>\n",
       "    <tr>\n",
       "      <th>1</th>\n",
       "      <td>beautifully made pants and on trend with the f...</td>\n",
       "      <td>Bottoms</td>\n",
       "      <td>[beautifully, made, pants, and, on, trend, wit...</td>\n",
       "      <td>[beautifully, made, pants, trend, flared, crop...</td>\n",
       "      <td>beautifully made pants trend flared crop much ...</td>\n",
       "    </tr>\n",
       "    <tr>\n",
       "      <th>2</th>\n",
       "      <td>i never would have given these pants a second ...</td>\n",
       "      <td>Bottoms</td>\n",
       "      <td>[i, never, would, have, given, these, pants, a...</td>\n",
       "      <td>[never, would, given, pants, second, look, onl...</td>\n",
       "      <td>never would given pants second look online per...</td>\n",
       "    </tr>\n",
       "    <tr>\n",
       "      <th>3</th>\n",
       "      <td>these pants are even better in person the only...</td>\n",
       "      <td>Bottoms</td>\n",
       "      <td>[these, pants, are, even, better, in, person, ...</td>\n",
       "      <td>[pants, even, better, person, downside, need, ...</td>\n",
       "      <td>pants even better person downside need dry cle...</td>\n",
       "    </tr>\n",
       "    <tr>\n",
       "      <th>4</th>\n",
       "      <td>the silhouette and length of this skirt and le...</td>\n",
       "      <td>Bottoms</td>\n",
       "      <td>[the, silhouette, and, length, of, this, skirt...</td>\n",
       "      <td>[silhouette, length, skirt, length, flattering...</td>\n",
       "      <td>silhouette length skirt length flattering clas...</td>\n",
       "    </tr>\n",
       "  </tbody>\n",
       "</table>\n",
       "</div>"
      ],
      "text/plain": [
       "                                      product_review product_category  \\\n",
       "0  i love love love this jumpsuit its fun flirty ...          Bottoms   \n",
       "1  beautifully made pants and on trend with the f...          Bottoms   \n",
       "2  i never would have given these pants a second ...          Bottoms   \n",
       "3  these pants are even better in person the only...          Bottoms   \n",
       "4  the silhouette and length of this skirt and le...          Bottoms   \n",
       "\n",
       "                            product_review_tokenized  \\\n",
       "0  [i, love, love, love, this, jumpsuit, its, fun...   \n",
       "1  [beautifully, made, pants, and, on, trend, wit...   \n",
       "2  [i, never, would, have, given, these, pants, a...   \n",
       "3  [these, pants, are, even, better, in, person, ...   \n",
       "4  [the, silhouette, and, length, of, this, skirt...   \n",
       "\n",
       "                                      cleaned_tokens  \\\n",
       "0  [love, love, love, jumpsuit, fun, flirty, fabu...   \n",
       "1  [beautifully, made, pants, trend, flared, crop...   \n",
       "2  [never, would, given, pants, second, look, onl...   \n",
       "3  [pants, even, better, person, downside, need, ...   \n",
       "4  [silhouette, length, skirt, length, flattering...   \n",
       "\n",
       "                              product_review_cleaned  \n",
       "0  love love love jumpsuit fun flirty fabulous ev...  \n",
       "1  beautifully made pants trend flared crop much ...  \n",
       "2  never would given pants second look online per...  \n",
       "3  pants even better person downside need dry cle...  \n",
       "4  silhouette length skirt length flattering clas...  "
      ]
     },
     "execution_count": 38,
     "metadata": {},
     "output_type": "execute_result"
    }
   ],
   "source": [
    "data['product_review_cleaned'] = data.cleaned_tokens.apply(lambda x: ' '.join(x))\n",
    "data.head()"
   ]
  },
  {
   "cell_type": "markdown",
   "id": "6f5add65-d94a-4594-908b-9ce33458df6a",
   "metadata": {},
   "source": [
    "#### 4. Explore Tokens and Product Categories"
   ]
  },
  {
   "cell_type": "code",
   "execution_count": 39,
   "id": "f75d50c9-87e9-40cf-8123-73bfd1504dbe",
   "metadata": {},
   "outputs": [
    {
     "data": {
      "text/plain": [
       "product_category\n",
       "Bottoms     685\n",
       "Dresses     681\n",
       "Tops        680\n",
       "Jackets     680\n",
       "Intimate    650\n",
       "Name: count, dtype: int64"
      ]
     },
     "execution_count": 39,
     "metadata": {},
     "output_type": "execute_result"
    }
   ],
   "source": [
    "data.product_category.value_counts()"
   ]
  },
  {
   "cell_type": "markdown",
   "id": "029d11ac-6b73-4850-9a6f-4c7775bcf872",
   "metadata": {},
   "source": [
    "We select Tops, to find all related tokens for the Tops category."
   ]
  },
  {
   "cell_type": "code",
   "execution_count": 44,
   "id": "ff4616bc-7c49-4e34-86fe-84f1fffbd2f1",
   "metadata": {},
   "outputs": [
    {
     "data": {
      "text/plain": [
       "['shirt',\n",
       " 'flattering',\n",
       " 'due',\n",
       " 'adjustable',\n",
       " 'front',\n",
       " 'tie',\n",
       " 'perfect',\n",
       " 'length',\n",
       " 'wear',\n",
       " 'leggings',\n",
       " 'sleeveless',\n",
       " 'pairs',\n",
       " 'well',\n",
       " 'cardigan',\n",
       " 'love',\n",
       " 'shirt',\n",
       " 'aded',\n",
       " 'basket',\n",
       " 'hte',\n",
       " 'last',\n",
       " 'mintue',\n",
       " 'see',\n",
       " 'would',\n",
       " 'look',\n",
       " 'like',\n",
       " 'person',\n",
       " 'store',\n",
       " 'pick',\n",
       " 'went',\n",
       " 'teh',\n",
       " 'darkler',\n",
       " 'color',\n",
       " 'pale',\n",
       " 'hte',\n",
       " 'color',\n",
       " 'really',\n",
       " 'gorgeous',\n",
       " 'turns',\n",
       " 'mathced',\n",
       " 'everythiing',\n",
       " 'trying',\n",
       " 'prefectly',\n",
       " 'little',\n",
       " 'baggy',\n",
       " 'hte',\n",
       " 'xs',\n",
       " 'hte',\n",
       " 'msallet',\n",
       " 'size',\n",
       " 'bummer',\n",
       " 'petite',\n",
       " 'decided',\n",
       " 'jkeep',\n",
       " 'though',\n",
       " 'said',\n",
       " 'matvehd',\n",
       " 'everything',\n",
       " 'ejans',\n",
       " 'pants',\n",
       " '3',\n",
       " 'skirts',\n",
       " 'waas',\n",
       " 'trying',\n",
       " 'kept',\n",
       " 'oops',\n",
       " 'took',\n",
       " 'chance',\n",
       " 'blouse',\n",
       " 'glad',\n",
       " 'wasnt',\n",
       " 'crazy',\n",
       " 'blouse',\n",
       " 'photographed',\n",
       " 'model',\n",
       " 'paired',\n",
       " 'whit',\n",
       " 'white',\n",
       " 'pants',\n",
       " 'worked',\n",
       " 'perfectly',\n",
       " 'crisp',\n",
       " 'clean',\n",
       " 'would',\n",
       " 'describe',\n",
       " 'launders',\n",
       " 'well',\n",
       " 'fits',\n",
       " 'great',\n",
       " 'drape',\n",
       " 'perfect',\n",
       " 'wear',\n",
       " 'tucked',\n",
       " 'go',\n",
       " 'wrong',\n",
       " 'love',\n",
       " 'shirt',\n",
       " 'first',\n",
       " 'saw',\n",
       " 'wasnt',\n",
       " 'sure',\n",
       " 'shirt',\n",
       " 'dress',\n",
       " 'since',\n",
       " 'seethrough',\n",
       " 'wear',\n",
       " 'like',\n",
       " 'dress',\n",
       " 'need',\n",
       " 'slip',\n",
       " 'wear',\n",
       " 'leggings',\n",
       " 'bought',\n",
       " 'slip',\n",
       " 'wore',\n",
       " 'tie',\n",
       " 'back',\n",
       " 'rocked',\n",
       " 'white',\n",
       " 'wedges',\n",
       " 'could',\n",
       " 'also',\n",
       " 'wear',\n",
       " 'vest',\n",
       " 'careful',\n",
       " 'buttons',\n",
       " 'havent',\n",
       " 'fall',\n",
       " 'yet',\n",
       " 'feel',\n",
       " 'like',\n",
       " 'overall',\n",
       " 'great',\n",
       " 'occasion',\n",
       " 'fun',\n",
       " 'wear',\n",
       " 'sweater',\n",
       " 'comfy',\n",
       " 'classic',\n",
       " 'balances',\n",
       " 'quirky',\n",
       " 'handknit',\n",
       " 'look',\n",
       " 'beautiful',\n",
       " 'color',\n",
       " 'practical',\n",
       " 'fit',\n",
       " 'bit',\n",
       " 'cropped',\n",
       " 'boxy',\n",
       " 'part',\n",
       " 'style',\n",
       " 'others',\n",
       " 'mentioned',\n",
       " 'gaps',\n",
       " 'knit',\n",
       " 'make',\n",
       " 'seethrough',\n",
       " 'opinion',\n",
       " 'makes',\n",
       " 'perfect',\n",
       " 'layering',\n",
       " 'like',\n",
       " 'longer',\n",
       " 'camisole',\n",
       " 'showing',\n",
       " 'underneath',\n",
       " 'wearing',\n",
       " 'little',\n",
       " 'dress',\n",
       " 'warm',\n",
       " 'still',\n",
       " 'thin',\n",
       " 'enough',\n",
       " 'fit',\n",
       " 'jacket',\n",
       " 'coat',\n",
       " 'ordered',\n",
       " 'small',\n",
       " '56',\n",
       " '135',\n",
       " 'size',\n",
       " '4',\n",
       " 'medium',\n",
       " 'mom',\n",
       " '53',\n",
       " '130',\n",
       " 'size',\n",
       " '8',\n",
       " 'gorgeous',\n",
       " 'beautifully',\n",
       " 'draped',\n",
       " 'weightwarmth',\n",
       " 'ill',\n",
       " 'need',\n",
       " 'houston',\n",
       " 'fall',\n",
       " 'winter',\n",
       " 'looks',\n",
       " 'polished',\n",
       " 'snapped',\n",
       " 'unsnapped',\n",
       " 'ageappropriate',\n",
       " 'mom',\n",
       " '60s',\n",
       " '30s',\n",
       " 'look',\n",
       " 'amazing',\n",
       " 'skinny',\n",
       " 'jeans',\n",
       " 'leggings',\n",
       " 'ordered',\n",
       " 'gray',\n",
       " 'true',\n",
       " 'photos',\n",
       " 'great',\n",
       " 'casual',\n",
       " 'top',\n",
       " 'flare',\n",
       " 'looks',\n",
       " 'cute',\n",
       " 'grey',\n",
       " 'pilcro',\n",
       " 'stet',\n",
       " 'jeans',\n",
       " 'flattering',\n",
       " 'peplum',\n",
       " 'back',\n",
       " 'nice',\n",
       " 'cut',\n",
       " 'shoulders',\n",
       " 'neckline',\n",
       " 'beautiful',\n",
       " 'top',\n",
       " 'unique',\n",
       " 'ordinary',\n",
       " 'bought',\n",
       " 'usual',\n",
       " 'medium',\n",
       " 'found',\n",
       " 'fits',\n",
       " 'tight',\n",
       " 'across',\n",
       " 'chest',\n",
       " 'although',\n",
       " 'baby',\n",
       " 'year',\n",
       " 'nursing',\n",
       " 'could',\n",
       " 'bought',\n",
       " 'would',\n",
       " 'size',\n",
       " 'poncho',\n",
       " 'cute',\n",
       " 'love',\n",
       " 'plaid',\n",
       " 'check',\n",
       " 'design',\n",
       " 'colors',\n",
       " 'look',\n",
       " 'like',\n",
       " 'sorbet',\n",
       " 'cream',\n",
       " 'pair',\n",
       " 'well',\n",
       " 'turtleneck',\n",
       " 'jeans',\n",
       " 'pencil',\n",
       " 'skirt',\n",
       " 'heels',\n",
       " 'love',\n",
       " 'look',\n",
       " 'fall',\n",
       " 'roll',\n",
       " 'right',\n",
       " 'spring',\n",
       " 'great',\n",
       " 'buy',\n",
       " 'tried',\n",
       " 'today',\n",
       " 'local',\n",
       " 'retailer',\n",
       " 'comfortable',\n",
       " 'flattering',\n",
       " 'bad',\n",
       " 'picture',\n",
       " 'online',\n",
       " 'model',\n",
       " 'tucking',\n",
       " 'skirt',\n",
       " 'see',\n",
       " 'ruching',\n",
       " 'across',\n",
       " 'front',\n",
       " 'little',\n",
       " 'dressier',\n",
       " 'alternative',\n",
       " 'plain',\n",
       " 'tee',\n",
       " 'reasonably',\n",
       " 'priced',\n",
       " 'retailer',\n",
       " '58',\n",
       " 'generally',\n",
       " 'wear',\n",
       " '6',\n",
       " 'small',\n",
       " 'fit',\n",
       " 'well',\n",
       " 'probably',\n",
       " 'back',\n",
       " 'black',\n",
       " 'love',\n",
       " 'top',\n",
       " 'wear',\n",
       " 'time',\n",
       " 'problem',\n",
       " 'tell',\n",
       " 'wear',\n",
       " 'time',\n",
       " 'fabric',\n",
       " 'started',\n",
       " 'fade',\n",
       " 'id',\n",
       " 'still',\n",
       " 'recommend',\n",
       " 'comfortable',\n",
       " 'comfortable',\n",
       " 'material',\n",
       " 'good',\n",
       " 'cut',\n",
       " 'sleeves',\n",
       " 'flattering',\n",
       " 'sweater',\n",
       " 'perfect',\n",
       " 'fallits',\n",
       " 'roomy',\n",
       " 'warm',\n",
       " 'super',\n",
       " 'comfy',\n",
       " 'color',\n",
       " 'really',\n",
       " 'pops',\n",
       " 'really',\n",
       " 'cute',\n",
       " 'top',\n",
       " 'embroidery',\n",
       " 'collar',\n",
       " 'bib',\n",
       " 'top',\n",
       " 'beautiful',\n",
       " 'unique',\n",
       " 'received',\n",
       " 'lots',\n",
       " 'compliments',\n",
       " 'questions',\n",
       " 'got',\n",
       " 'rather',\n",
       " 'busty',\n",
       " 'top',\n",
       " 'medium',\n",
       " 'fit',\n",
       " 'well',\n",
       " 'small',\n",
       " 'probably',\n",
       " 'wouldve',\n",
       " 'fit',\n",
       " 'better',\n",
       " 'still',\n",
       " 'super',\n",
       " 'adorable',\n",
       " 'absolutely',\n",
       " 'love',\n",
       " 'bib',\n",
       " 'tee',\n",
       " 'probably',\n",
       " 'favorite',\n",
       " 'retailer',\n",
       " 'purchase',\n",
       " 'time',\n",
       " '57',\n",
       " '140',\n",
       " 'pounds',\n",
       " 'small',\n",
       " 'perfect',\n",
       " 'fit',\n",
       " 'typically',\n",
       " 'wear',\n",
       " 'either',\n",
       " 'tops',\n",
       " 'soft',\n",
       " 'comfortable',\n",
       " 'shirt',\n",
       " 'unusual',\n",
       " 'asymmetrical',\n",
       " 'seam',\n",
       " 'appears',\n",
       " 'along',\n",
       " 'front',\n",
       " 'righthand',\n",
       " 'side',\n",
       " 'garment',\n",
       " 'model',\n",
       " 'positioned',\n",
       " 'see',\n",
       " 'detail',\n",
       " 'picture',\n",
       " 'attached',\n",
       " 'picture',\n",
       " 'includes',\n",
       " 'front',\n",
       " 'seam',\n",
       " 'actually',\n",
       " 'like',\n",
       " 'seam',\n",
       " 'creates',\n",
       " 'visual',\n",
       " 'interest',\n",
       " 'adds',\n",
       " 'little',\n",
       " 'bit',\n",
       " 'ruching',\n",
       " 'helps',\n",
       " 'hide',\n",
       " 'belly',\n",
       " 'cowl',\n",
       " 'neck',\n",
       " 'well',\n",
       " 'done',\n",
       " 'two',\n",
       " 'layers',\n",
       " 'form',\n",
       " 'cowl',\n",
       " 'ive',\n",
       " 'found',\n",
       " 'means',\n",
       " 'wardrobe',\n",
       " 'malfun',\n",
       " 'adorable',\n",
       " 'top',\n",
       " 'find',\n",
       " 'extremely',\n",
       " 'comfortable',\n",
       " 'usually',\n",
       " 'buy',\n",
       " 'prints',\n",
       " 'one',\n",
       " 'feminine',\n",
       " 'looks',\n",
       " 'great',\n",
       " 'dark',\n",
       " 'wash',\n",
       " 'jeans',\n",
       " '36d',\n",
       " 'medium',\n",
       " 'perfect',\n",
       " 'fit',\n",
       " 'recently',\n",
       " 'got',\n",
       " 'sale',\n",
       " 'looking',\n",
       " 'forever',\n",
       " 'wish',\n",
       " 'list',\n",
       " 'happy',\n",
       " 'comfortable',\n",
       " 'long',\n",
       " 'enough',\n",
       " 'torso',\n",
       " '53',\n",
       " 'pattern',\n",
       " 'front',\n",
       " 'flattering',\n",
       " 'comfortable',\n",
       " 'shirt',\n",
       " 'light',\n",
       " 'weight',\n",
       " 'top',\n",
       " 'lovely',\n",
       " 'floral',\n",
       " 'colors',\n",
       " 'great',\n",
       " 'springsummer',\n",
       " 'white',\n",
       " 'jeans',\n",
       " 'love',\n",
       " 'everything',\n",
       " 'one',\n",
       " 'september',\n",
       " 'makes',\n",
       " 'loved',\n",
       " 'top',\n",
       " 'really',\n",
       " 'happy',\n",
       " 'find',\n",
       " 'sale',\n",
       " 'love',\n",
       " 'top',\n",
       " 'kept',\n",
       " 'eyeing',\n",
       " 'online',\n",
       " 'wavering',\n",
       " 'size',\n",
       " 'since',\n",
       " 'postbaby',\n",
       " 'body',\n",
       " 'little',\n",
       " 'wonky',\n",
       " 'went',\n",
       " 'xsp',\n",
       " 'miraculously',\n",
       " 'works',\n",
       " 'perfectly',\n",
       " 'would',\n",
       " 'say',\n",
       " 'run',\n",
       " 'little',\n",
       " 'large',\n",
       " 'love',\n",
       " 'length',\n",
       " 'usually',\n",
       " 'go',\n",
       " 'petite',\n",
       " 'sizes',\n",
       " 'retailer',\n",
       " 'like',\n",
       " 'longer',\n",
       " 'lengths',\n",
       " 'regular',\n",
       " 'perfect',\n",
       " 'give',\n",
       " 'top',\n",
       " 'looks',\n",
       " 'lovely',\n",
       " 'soft',\n",
       " 'comfortable',\n",
       " 'goto',\n",
       " 'top',\n",
       " 'season',\n",
       " 'short',\n",
       " 'torso',\n",
       " 'works',\n",
       " 'well',\n",
       " '34c',\n",
       " 'bought',\n",
       " '0',\n",
       " 'theres',\n",
       " 'much',\n",
       " 'stretch',\n",
       " 'fabric',\n",
       " 'fitted',\n",
       " 'chest',\n",
       " 'uncomfortable',\n",
       " 'way',\n",
       " 'definitely',\n",
       " 'hang',\n",
       " 'extra',\n",
       " 'fabric',\n",
       " 'like',\n",
       " 'model',\n",
       " 'zipper',\n",
       " 'goes',\n",
       " 'almost',\n",
       " 'way',\n",
       " 'bottom',\n",
       " 'easier',\n",
       " 'get',\n",
       " 'makes',\n",
       " 'lack',\n",
       " 'stretch',\n",
       " 'n',\n",
       " 'fabric',\n",
       " 'unlike',\n",
       " 'another',\n",
       " 'reviewer',\n",
       " 'found',\n",
       " 'went',\n",
       " 'really',\n",
       " 'well',\n",
       " 'navy',\n",
       " 'pants',\n",
       " 'wore',\n",
       " 'business',\n",
       " 'meeting',\n",
       " 'blazer',\n",
       " 'wi',\n",
       " 'drawn',\n",
       " 'baby',\n",
       " 'doll',\n",
       " 'boxy',\n",
       " 'shirts',\n",
       " 'immediately',\n",
       " 'tried',\n",
       " 'store',\n",
       " 'petite',\n",
       " '52',\n",
       " 'usually',\n",
       " 'shirts',\n",
       " 'lot',\n",
       " 'fabric',\n",
       " 'swallow',\n",
       " 'whole',\n",
       " 'one',\n",
       " 'still',\n",
       " 'cute',\n",
       " 'lot',\n",
       " 'fabric',\n",
       " 'picture',\n",
       " 'lets',\n",
       " 'think',\n",
       " 'still',\n",
       " 'super',\n",
       " 'cute',\n",
       " 'flattering',\n",
       " 'would',\n",
       " 'definitely',\n",
       " 'check',\n",
       " 'size',\n",
       " 'chart',\n",
       " 'read',\n",
       " 'comments',\n",
       " 'see',\n",
       " 'someone',\n",
       " 'size',\n",
       " 'description',\n",
       " 'recommended',\n",
       " 'specific',\n",
       " 'size',\n",
       " 'body',\n",
       " 'type',\n",
       " 'petite',\n",
       " 'weigh',\n",
       " '110',\n",
       " 'lbs',\n",
       " 'usually',\n",
       " 'size',\n",
       " 'brand',\n",
       " 'small',\n",
       " 'perfect',\n",
       " '135lbs',\n",
       " 'top',\n",
       " 'luxurious',\n",
       " 'casual',\n",
       " 'feel',\n",
       " 'beautiful',\n",
       " 'obsessed',\n",
       " 'want',\n",
       " 'wear',\n",
       " 'everyday',\n",
       " 'wears',\n",
       " 'little',\n",
       " 'long',\n",
       " 'drapey',\n",
       " 'little',\n",
       " 'tight',\n",
       " 'rolls',\n",
       " 'arms',\n",
       " 'loved',\n",
       " 'top',\n",
       " 'great',\n",
       " 'design',\n",
       " 'comfortable',\n",
       " 'unique',\n",
       " 'soft',\n",
       " 'material',\n",
       " 'purchased',\n",
       " 'top',\n",
       " 'antro',\n",
       " 'store',\n",
       " 'last',\n",
       " 'week',\n",
       " 'quality',\n",
       " 'wonderful',\n",
       " 'greenish',\n",
       " 'blue',\n",
       " 'color',\n",
       " 'unique',\n",
       " 'blouse',\n",
       " 'beautiful',\n",
       " 'stretchy',\n",
       " 'camsiole',\n",
       " 'attached',\n",
       " 'shoulders',\n",
       " 'removed',\n",
       " 'snaps',\n",
       " 'tooks',\n",
       " 'great',\n",
       " 'worn',\n",
       " 'two',\n",
       " 'different',\n",
       " 'ways',\n",
       " 'wore',\n",
       " 'campole',\n",
       " 'peeks',\n",
       " 'blouse',\n",
       " 'bottom',\n",
       " 'also',\n",
       " 'looks',\n",
       " 'great',\n",
       " 'camisole',\n",
       " 'worn',\n",
       " 'wish',\n",
       " 'would',\n",
       " 'come',\n",
       " 'petite',\n",
       " 'size',\n",
       " 'touch',\n",
       " 'big',\n",
       " 'shoulders',\n",
       " 'neckli',\n",
       " 'top',\n",
       " 'much',\n",
       " 'prettier',\n",
       " 'real',\n",
       " 'life',\n",
       " 'model',\n",
       " 'pattern',\n",
       " 'texture',\n",
       " 'lovely',\n",
       " 'peplum',\n",
       " 'surprisingly',\n",
       " 'flattering',\n",
       " 'definitely',\n",
       " 'short',\n",
       " 'side',\n",
       " 'think',\n",
       " 'gives',\n",
       " 'modern',\n",
       " 'look',\n",
       " 'fabric',\n",
       " 'stretch',\n",
       " 'still',\n",
       " 'think',\n",
       " 'fits',\n",
       " 'tts',\n",
       " 'large',\n",
       " 'chest',\n",
       " 'may',\n",
       " 'want',\n",
       " 'go',\n",
       " 'size',\n",
       " 'otherwise',\n",
       " 'would',\n",
       " 'order',\n",
       " 'normal',\n",
       " 'size',\n",
       " 'purchased',\n",
       " 'top',\n",
       " 'online',\n",
       " 'received',\n",
       " 'pleased',\n",
       " 'elegant',\n",
       " 'cut',\n",
       " 'yet',\n",
       " 'casual',\n",
       " 'fabric',\n",
       " 'love',\n",
       " 'sleeves',\n",
       " 'run',\n",
       " 'longerads',\n",
       " 'overall',\n",
       " 'look',\n",
       " 'also',\n",
       " 'loved',\n",
       " 'v',\n",
       " 'necklineenhances',\n",
       " 'feel',\n",
       " 'overall',\n",
       " 'style',\n",
       " 'various',\n",
       " 'necklaces',\n",
       " 'top',\n",
       " 'limitless',\n",
       " 'options',\n",
       " 'color',\n",
       " 'states',\n",
       " 'mosswhich',\n",
       " 'usually',\n",
       " 'think',\n",
       " 'greenish',\n",
       " 'browni',\n",
       " 'found',\n",
       " 'taupe',\n",
       " 'would',\n",
       " 'liked',\n",
       " 'green',\n",
       " 'tones',\n",
       " 'however',\n",
       " 'still',\n",
       " 'fantastic',\n",
       " 'f',\n",
       " 'top',\n",
       " 'absolutely',\n",
       " 'stunning',\n",
       " 'purchased',\n",
       " 'white',\n",
       " 'one',\n",
       " 'received',\n",
       " 'fits',\n",
       " 'nicelya',\n",
       " 'little',\n",
       " 'big',\n",
       " 'side',\n",
       " 'believe',\n",
       " 'looks',\n",
       " 'better',\n",
       " 'way',\n",
       " 'look',\n",
       " 'great',\n",
       " 'everything',\n",
       " 'well',\n",
       " 'constructed',\n",
       " 'looks',\n",
       " 'unique',\n",
       " 'love',\n",
       " 'bought',\n",
       " 'lovely',\n",
       " 'silkvelvet',\n",
       " 'shirt',\n",
       " 'quotskyquot',\n",
       " 'color',\n",
       " 'teal',\n",
       " 'blue',\n",
       " 'side',\n",
       " 'sky',\n",
       " 'blue',\n",
       " 'disappointed',\n",
       " 'definitely',\n",
       " 'darker',\n",
       " 'appears',\n",
       " 'photo',\n",
       " 'still',\n",
       " 'luxurious',\n",
       " 'wellmade',\n",
       " 'beauty',\n",
       " 'sassy',\n",
       " 'appeal',\n",
       " 'drapes',\n",
       " 'like',\n",
       " 'snake',\n",
       " 'slithering',\n",
       " 'body',\n",
       " 'comes',\n",
       " 'attitude',\n",
       " 'shirt',\n",
       " 'exactly',\n",
       " 'pictured',\n",
       " 'burnt',\n",
       " 'orange',\n",
       " 'color',\n",
       " 'love',\n",
       " 'received',\n",
       " 'numerous',\n",
       " 'compliments',\n",
       " 'paired',\n",
       " 'jeans',\n",
       " 'tucked',\n",
       " 'fun',\n",
       " 'skirt',\n",
       " 'fits',\n",
       " 'true',\n",
       " 'size',\n",
       " 'normally',\n",
       " 'wear',\n",
       " 'small',\n",
       " 'retailer',\n",
       " 'however',\n",
       " 'slightest',\n",
       " 'bit',\n",
       " 'tight',\n",
       " 'shoulders',\n",
       " 'would',\n",
       " 'give',\n",
       " 'top',\n",
       " '55',\n",
       " 'read',\n",
       " 'first',\n",
       " 'review',\n",
       " 'ordered',\n",
       " 'small',\n",
       " 'medium',\n",
       " 'thought',\n",
       " 'would',\n",
       " 'run',\n",
       " 'small',\n",
       " 'totally',\n",
       " 'disagree',\n",
       " 'reviewer',\n",
       " 'find',\n",
       " 'top',\n",
       " 'runs',\n",
       " 'true',\n",
       " 'size',\n",
       " 'even',\n",
       " 'generous',\n",
       " 'sky',\n",
       " 'color',\n",
       " 'pretty',\n",
       " 'top',\n",
       " 'dressed',\n",
       " 'nice',\n",
       " 'heels',\n",
       " 'necklace',\n",
       " 'comfy',\n",
       " 'casual',\n",
       " 'usually',\n",
       " 'wear',\n",
       " 'small',\n",
       " 'hh',\n",
       " 'brand',\n",
       " 'one',\n",
       " 'true',\n",
       " 'fit',\n",
       " '52',\n",
       " 'broad',\n",
       " 'shoulders',\n",
       " '120',\n",
       " 'lb',\n",
       " 'color',\n",
       " 'perfect',\n",
       " 'fall',\n",
       " 'winter',\n",
       " 'inside',\n",
       " 'collar',\n",
       " 'photo',\n",
       " 'shows',\n",
       " 'subtle',\n",
       " 'plaid',\n",
       " 'lining',\n",
       " 'lining',\n",
       " 'unexpected',\n",
       " 'bonus',\n",
       " 'adds',\n",
       " 'even',\n",
       " 'dimension',\n",
       " 'shirt',\n",
       " 'sleeves',\n",
       " 'turned',\n",
       " 'fit',\n",
       " 'true',\n",
       " 'size',\n",
       " 'stressed',\n",
       " 'velvet',\n",
       " 'fabric',\n",
       " 'current',\n",
       " 'season',\n",
       " 'going',\n",
       " 'enjoy',\n",
       " 'wearing',\n",
       " 'shirt',\n",
       " 'perfect',\n",
       " 'striped',\n",
       " 'tshirt',\n",
       " 'cute',\n",
       " 'little',\n",
       " 'buttons',\n",
       " 'front',\n",
       " 'wonderful',\n",
       " 'accent',\n",
       " 'one',\n",
       " 'different',\n",
       " 'love',\n",
       " 'reading',\n",
       " 'previous',\n",
       " 'reviews',\n",
       " 'ordered',\n",
       " 'size',\n",
       " 'larger',\n",
       " 'glad',\n",
       " 'fits',\n",
       " 'perfectly',\n",
       " '5411532dd',\n",
       " 'went',\n",
       " 'regular',\n",
       " 'beautiful',\n",
       " 'wait',\n",
       " 'wear',\n",
       " 'top',\n",
       " 'super',\n",
       " 'comfy',\n",
       " 'casual',\n",
       " 'slitdesign',\n",
       " 'front',\n",
       " 'gives',\n",
       " 'stylish',\n",
       " 'look',\n",
       " 'average',\n",
       " 'white',\n",
       " 'long',\n",
       " 'sleeve',\n",
       " 'tee',\n",
       " 'would',\n",
       " 'definitely',\n",
       " 'recommend',\n",
       " 'blouse',\n",
       " 'perfect',\n",
       " 'creation',\n",
       " 'perfectweight',\n",
       " 'cotton',\n",
       " 'many',\n",
       " 'many',\n",
       " ...]"
      ]
     },
     "execution_count": 44,
     "metadata": {},
     "output_type": "execute_result"
    }
   ],
   "source": [
    "tops_tokens = []\n",
    "\n",
    "for x in data[data.product_category == 'Tops'].cleaned_tokens:\n",
    "    tops_tokens.extend(x)\n",
    "\n",
    "tops_tokens"
   ]
  },
  {
   "cell_type": "markdown",
   "id": "54dc5b3c-e7ff-402b-9736-13e2c3c810cf",
   "metadata": {},
   "source": [
    "Find the 20 most common tokens for 'Tops'"
   ]
  },
  {
   "cell_type": "code",
   "execution_count": 45,
   "id": "7e25e161-e5c6-4bc4-9e8b-879485f24249",
   "metadata": {},
   "outputs": [
    {
     "data": {
      "text/plain": [
       "[('love', 337),\n",
       " ('top', 334),\n",
       " ('wear', 233),\n",
       " ('great', 229),\n",
       " ('size', 211),\n",
       " ('color', 185),\n",
       " ('shirt', 172),\n",
       " ('fit', 167),\n",
       " ('perfect', 146),\n",
       " ('small', 141),\n",
       " ('like', 140),\n",
       " ('soft', 136),\n",
       " ('flattering', 128),\n",
       " ('little', 120),\n",
       " ('one', 119),\n",
       " ('sweater', 118),\n",
       " ('fits', 112),\n",
       " ('bought', 111),\n",
       " ('well', 109),\n",
       " ('would', 109)]"
      ]
     },
     "execution_count": 45,
     "metadata": {},
     "output_type": "execute_result"
    }
   ],
   "source": [
    "freq_dist = FreqDist(tops_tokens)\n",
    "freq_dist.most_common(20)"
   ]
  },
  {
   "cell_type": "markdown",
   "id": "0ccf5bdb-6e4c-4dee-9bf4-9549cfd60848",
   "metadata": {},
   "source": [
    "Find the 20 most common tokens for 'Dresses'"
   ]
  },
  {
   "cell_type": "code",
   "execution_count": 46,
   "id": "f10e5a4b-40b2-4f0d-930c-63acf3cd7317",
   "metadata": {},
   "outputs": [
    {
     "data": {
      "text/plain": [
       "[('dress', 1062),\n",
       " ('like', 321),\n",
       " ('fabric', 254),\n",
       " ('would', 220),\n",
       " ('size', 207),\n",
       " ('fit', 207),\n",
       " ('back', 166),\n",
       " ('look', 157),\n",
       " ('really', 154),\n",
       " ('love', 152),\n",
       " ('ordered', 146),\n",
       " ('material', 139),\n",
       " ('small', 128),\n",
       " ('looks', 119),\n",
       " ('looked', 118),\n",
       " ('much', 111),\n",
       " ('also', 106),\n",
       " ('top', 105),\n",
       " ('wear', 105),\n",
       " ('way', 103)]"
      ]
     },
     "execution_count": 46,
     "metadata": {},
     "output_type": "execute_result"
    }
   ],
   "source": [
    "dress_tokens = []\n",
    "\n",
    "for x in data[data.product_category == 'Dresses'].cleaned_tokens:\n",
    "    dress_tokens.extend(x)\n",
    "\n",
    "freq_dist = FreqDist(dress_tokens)\n",
    "freq_dist.most_common(20)"
   ]
  },
  {
   "cell_type": "markdown",
   "id": "b1771410-31f7-4f45-8b87-ca75d62c7d70",
   "metadata": {},
   "source": [
    "#### 5. Extracting Adjectives"
   ]
  },
  {
   "cell_type": "code",
   "execution_count": 47,
   "id": "028b4d51-1543-4478-a5c7-764a7d48930d",
   "metadata": {},
   "outputs": [
    {
     "data": {
      "text/html": [
       "<div>\n",
       "<style scoped>\n",
       "    .dataframe tbody tr th:only-of-type {\n",
       "        vertical-align: middle;\n",
       "    }\n",
       "\n",
       "    .dataframe tbody tr th {\n",
       "        vertical-align: top;\n",
       "    }\n",
       "\n",
       "    .dataframe thead th {\n",
       "        text-align: right;\n",
       "    }\n",
       "</style>\n",
       "<table border=\"1\" class=\"dataframe\">\n",
       "  <thead>\n",
       "    <tr style=\"text-align: right;\">\n",
       "      <th></th>\n",
       "      <th>product_review</th>\n",
       "      <th>product_category</th>\n",
       "      <th>product_review_tokenized</th>\n",
       "      <th>cleaned_tokens</th>\n",
       "      <th>product_review_cleaned</th>\n",
       "    </tr>\n",
       "  </thead>\n",
       "  <tbody>\n",
       "    <tr>\n",
       "      <th>0</th>\n",
       "      <td>i love love love this jumpsuit its fun flirty ...</td>\n",
       "      <td>Bottoms</td>\n",
       "      <td>[i, love, love, love, this, jumpsuit, its, fun...</td>\n",
       "      <td>[love, love, love, jumpsuit, fun, flirty, fabu...</td>\n",
       "      <td>love love love jumpsuit fun flirty fabulous ev...</td>\n",
       "    </tr>\n",
       "    <tr>\n",
       "      <th>1</th>\n",
       "      <td>beautifully made pants and on trend with the f...</td>\n",
       "      <td>Bottoms</td>\n",
       "      <td>[beautifully, made, pants, and, on, trend, wit...</td>\n",
       "      <td>[beautifully, made, pants, trend, flared, crop...</td>\n",
       "      <td>beautifully made pants trend flared crop much ...</td>\n",
       "    </tr>\n",
       "    <tr>\n",
       "      <th>2</th>\n",
       "      <td>i never would have given these pants a second ...</td>\n",
       "      <td>Bottoms</td>\n",
       "      <td>[i, never, would, have, given, these, pants, a...</td>\n",
       "      <td>[never, would, given, pants, second, look, onl...</td>\n",
       "      <td>never would given pants second look online per...</td>\n",
       "    </tr>\n",
       "    <tr>\n",
       "      <th>3</th>\n",
       "      <td>these pants are even better in person the only...</td>\n",
       "      <td>Bottoms</td>\n",
       "      <td>[these, pants, are, even, better, in, person, ...</td>\n",
       "      <td>[pants, even, better, person, downside, need, ...</td>\n",
       "      <td>pants even better person downside need dry cle...</td>\n",
       "    </tr>\n",
       "    <tr>\n",
       "      <th>4</th>\n",
       "      <td>the silhouette and length of this skirt and le...</td>\n",
       "      <td>Bottoms</td>\n",
       "      <td>[the, silhouette, and, length, of, this, skirt...</td>\n",
       "      <td>[silhouette, length, skirt, length, flattering...</td>\n",
       "      <td>silhouette length skirt length flattering clas...</td>\n",
       "    </tr>\n",
       "  </tbody>\n",
       "</table>\n",
       "</div>"
      ],
      "text/plain": [
       "                                      product_review product_category  \\\n",
       "0  i love love love this jumpsuit its fun flirty ...          Bottoms   \n",
       "1  beautifully made pants and on trend with the f...          Bottoms   \n",
       "2  i never would have given these pants a second ...          Bottoms   \n",
       "3  these pants are even better in person the only...          Bottoms   \n",
       "4  the silhouette and length of this skirt and le...          Bottoms   \n",
       "\n",
       "                            product_review_tokenized  \\\n",
       "0  [i, love, love, love, this, jumpsuit, its, fun...   \n",
       "1  [beautifully, made, pants, and, on, trend, wit...   \n",
       "2  [i, never, would, have, given, these, pants, a...   \n",
       "3  [these, pants, are, even, better, in, person, ...   \n",
       "4  [the, silhouette, and, length, of, this, skirt...   \n",
       "\n",
       "                                      cleaned_tokens  \\\n",
       "0  [love, love, love, jumpsuit, fun, flirty, fabu...   \n",
       "1  [beautifully, made, pants, trend, flared, crop...   \n",
       "2  [never, would, given, pants, second, look, onl...   \n",
       "3  [pants, even, better, person, downside, need, ...   \n",
       "4  [silhouette, length, skirt, length, flattering...   \n",
       "\n",
       "                              product_review_cleaned  \n",
       "0  love love love jumpsuit fun flirty fabulous ev...  \n",
       "1  beautifully made pants trend flared crop much ...  \n",
       "2  never would given pants second look online per...  \n",
       "3  pants even better person downside need dry cle...  \n",
       "4  silhouette length skirt length flattering clas...  "
      ]
     },
     "execution_count": 47,
     "metadata": {},
     "output_type": "execute_result"
    }
   ],
   "source": [
    "data.head()"
   ]
  },
  {
   "cell_type": "markdown",
   "id": "d4497c69-214f-43c4-a877-a32ab04d2920",
   "metadata": {},
   "source": [
    "Parts of Speech (POS) Tagging"
   ]
  },
  {
   "cell_type": "code",
   "execution_count": 48,
   "id": "4bfb064d-1084-4661-a609-f911f813a29a",
   "metadata": {},
   "outputs": [
    {
     "data": {
      "text/plain": [
       "[('i', 'NN'),\n",
       " ('love', 'VBP'),\n",
       " ('love', 'NN'),\n",
       " ('love', 'NN'),\n",
       " ('this', 'DT'),\n",
       " ('jumpsuit', 'NN'),\n",
       " ('its', 'PRP$'),\n",
       " ('fun', 'NN'),\n",
       " ('flirty', 'NN'),\n",
       " ('and', 'CC'),\n",
       " ('fabulous', 'JJ'),\n",
       " ('every', 'DT'),\n",
       " ('time', 'NN'),\n",
       " ('i', 'NN'),\n",
       " ('wear', 'VBP'),\n",
       " ('it', 'PRP'),\n",
       " ('i', 'JJ'),\n",
       " ('get', 'VBP'),\n",
       " ('nothing', 'NN'),\n",
       " ('but', 'CC'),\n",
       " ('great', 'JJ'),\n",
       " ('compliments', 'NNS')]"
      ]
     },
     "execution_count": 48,
     "metadata": {},
     "output_type": "execute_result"
    }
   ],
   "source": [
    "nltk.pos_tag(data.product_review_tokenized[0])"
   ]
  },
  {
   "cell_type": "markdown",
   "id": "88a49426-f5b9-404a-b556-a6876159d645",
   "metadata": {},
   "source": [
    "POS Tagging for all the Tokens"
   ]
  },
  {
   "cell_type": "code",
   "execution_count": 49,
   "id": "c613a79e-6594-4e43-96d7-e246817ad7e7",
   "metadata": {},
   "outputs": [
    {
     "data": {
      "text/html": [
       "<div>\n",
       "<style scoped>\n",
       "    .dataframe tbody tr th:only-of-type {\n",
       "        vertical-align: middle;\n",
       "    }\n",
       "\n",
       "    .dataframe tbody tr th {\n",
       "        vertical-align: top;\n",
       "    }\n",
       "\n",
       "    .dataframe thead th {\n",
       "        text-align: right;\n",
       "    }\n",
       "</style>\n",
       "<table border=\"1\" class=\"dataframe\">\n",
       "  <thead>\n",
       "    <tr style=\"text-align: right;\">\n",
       "      <th></th>\n",
       "      <th>product_review</th>\n",
       "      <th>product_category</th>\n",
       "      <th>product_review_tokenized</th>\n",
       "      <th>cleaned_tokens</th>\n",
       "      <th>product_review_cleaned</th>\n",
       "      <th>POS_tokens</th>\n",
       "    </tr>\n",
       "  </thead>\n",
       "  <tbody>\n",
       "    <tr>\n",
       "      <th>0</th>\n",
       "      <td>i love love love this jumpsuit its fun flirty ...</td>\n",
       "      <td>Bottoms</td>\n",
       "      <td>[i, love, love, love, this, jumpsuit, its, fun...</td>\n",
       "      <td>[love, love, love, jumpsuit, fun, flirty, fabu...</td>\n",
       "      <td>love love love jumpsuit fun flirty fabulous ev...</td>\n",
       "      <td>[(i, NN), (love, VBP), (love, NN), (love, NN),...</td>\n",
       "    </tr>\n",
       "    <tr>\n",
       "      <th>1</th>\n",
       "      <td>beautifully made pants and on trend with the f...</td>\n",
       "      <td>Bottoms</td>\n",
       "      <td>[beautifully, made, pants, and, on, trend, wit...</td>\n",
       "      <td>[beautifully, made, pants, trend, flared, crop...</td>\n",
       "      <td>beautifully made pants trend flared crop much ...</td>\n",
       "      <td>[(beautifully, RB), (made, VBN), (pants, NNS),...</td>\n",
       "    </tr>\n",
       "    <tr>\n",
       "      <th>2</th>\n",
       "      <td>i never would have given these pants a second ...</td>\n",
       "      <td>Bottoms</td>\n",
       "      <td>[i, never, would, have, given, these, pants, a...</td>\n",
       "      <td>[never, would, given, pants, second, look, onl...</td>\n",
       "      <td>never would given pants second look online per...</td>\n",
       "      <td>[(i, NN), (never, RB), (would, MD), (have, VB)...</td>\n",
       "    </tr>\n",
       "    <tr>\n",
       "      <th>3</th>\n",
       "      <td>these pants are even better in person the only...</td>\n",
       "      <td>Bottoms</td>\n",
       "      <td>[these, pants, are, even, better, in, person, ...</td>\n",
       "      <td>[pants, even, better, person, downside, need, ...</td>\n",
       "      <td>pants even better person downside need dry cle...</td>\n",
       "      <td>[(these, DT), (pants, NNS), (are, VBP), (even,...</td>\n",
       "    </tr>\n",
       "    <tr>\n",
       "      <th>4</th>\n",
       "      <td>the silhouette and length of this skirt and le...</td>\n",
       "      <td>Bottoms</td>\n",
       "      <td>[the, silhouette, and, length, of, this, skirt...</td>\n",
       "      <td>[silhouette, length, skirt, length, flattering...</td>\n",
       "      <td>silhouette length skirt length flattering clas...</td>\n",
       "      <td>[(the, DT), (silhouette, NN), (and, CC), (leng...</td>\n",
       "    </tr>\n",
       "  </tbody>\n",
       "</table>\n",
       "</div>"
      ],
      "text/plain": [
       "                                      product_review product_category  \\\n",
       "0  i love love love this jumpsuit its fun flirty ...          Bottoms   \n",
       "1  beautifully made pants and on trend with the f...          Bottoms   \n",
       "2  i never would have given these pants a second ...          Bottoms   \n",
       "3  these pants are even better in person the only...          Bottoms   \n",
       "4  the silhouette and length of this skirt and le...          Bottoms   \n",
       "\n",
       "                            product_review_tokenized  \\\n",
       "0  [i, love, love, love, this, jumpsuit, its, fun...   \n",
       "1  [beautifully, made, pants, and, on, trend, wit...   \n",
       "2  [i, never, would, have, given, these, pants, a...   \n",
       "3  [these, pants, are, even, better, in, person, ...   \n",
       "4  [the, silhouette, and, length, of, this, skirt...   \n",
       "\n",
       "                                      cleaned_tokens  \\\n",
       "0  [love, love, love, jumpsuit, fun, flirty, fabu...   \n",
       "1  [beautifully, made, pants, trend, flared, crop...   \n",
       "2  [never, would, given, pants, second, look, onl...   \n",
       "3  [pants, even, better, person, downside, need, ...   \n",
       "4  [silhouette, length, skirt, length, flattering...   \n",
       "\n",
       "                              product_review_cleaned  \\\n",
       "0  love love love jumpsuit fun flirty fabulous ev...   \n",
       "1  beautifully made pants trend flared crop much ...   \n",
       "2  never would given pants second look online per...   \n",
       "3  pants even better person downside need dry cle...   \n",
       "4  silhouette length skirt length flattering clas...   \n",
       "\n",
       "                                          POS_tokens  \n",
       "0  [(i, NN), (love, VBP), (love, NN), (love, NN),...  \n",
       "1  [(beautifully, RB), (made, VBN), (pants, NNS),...  \n",
       "2  [(i, NN), (never, RB), (would, MD), (have, VB)...  \n",
       "3  [(these, DT), (pants, NNS), (are, VBP), (even,...  \n",
       "4  [(the, DT), (silhouette, NN), (and, CC), (leng...  "
      ]
     },
     "execution_count": 49,
     "metadata": {},
     "output_type": "execute_result"
    }
   ],
   "source": [
    "data['POS_tokens'] = data.product_review_tokenized.apply(nltk.pos_tag)\n",
    "data.head()"
   ]
  },
  {
   "cell_type": "markdown",
   "id": "59348131-2bdd-4687-8a34-76eb57fc2780",
   "metadata": {},
   "source": [
    "Extract Adjectives used in text"
   ]
  },
  {
   "cell_type": "code",
   "execution_count": 50,
   "id": "0092eb0c-bea7-403e-a2d3-d31d6540b813",
   "metadata": {},
   "outputs": [
    {
     "data": {
      "text/html": [
       "<div>\n",
       "<style scoped>\n",
       "    .dataframe tbody tr th:only-of-type {\n",
       "        vertical-align: middle;\n",
       "    }\n",
       "\n",
       "    .dataframe tbody tr th {\n",
       "        vertical-align: top;\n",
       "    }\n",
       "\n",
       "    .dataframe thead th {\n",
       "        text-align: right;\n",
       "    }\n",
       "</style>\n",
       "<table border=\"1\" class=\"dataframe\">\n",
       "  <thead>\n",
       "    <tr style=\"text-align: right;\">\n",
       "      <th></th>\n",
       "      <th>product_review</th>\n",
       "      <th>product_category</th>\n",
       "      <th>product_review_tokenized</th>\n",
       "      <th>cleaned_tokens</th>\n",
       "      <th>product_review_cleaned</th>\n",
       "      <th>POS_tokens</th>\n",
       "      <th>adjectives</th>\n",
       "    </tr>\n",
       "  </thead>\n",
       "  <tbody>\n",
       "    <tr>\n",
       "      <th>0</th>\n",
       "      <td>i love love love this jumpsuit its fun flirty ...</td>\n",
       "      <td>Bottoms</td>\n",
       "      <td>[i, love, love, love, this, jumpsuit, its, fun...</td>\n",
       "      <td>[love, love, love, jumpsuit, fun, flirty, fabu...</td>\n",
       "      <td>love love love jumpsuit fun flirty fabulous ev...</td>\n",
       "      <td>[(i, NN), (love, VBP), (love, NN), (love, NN),...</td>\n",
       "      <td>[fabulous, i, great]</td>\n",
       "    </tr>\n",
       "    <tr>\n",
       "      <th>1</th>\n",
       "      <td>beautifully made pants and on trend with the f...</td>\n",
       "      <td>Bottoms</td>\n",
       "      <td>[beautifully, made, pants, and, on, trend, wit...</td>\n",
       "      <td>[beautifully, made, pants, trend, flared, crop...</td>\n",
       "      <td>beautifully made pants trend flared crop much ...</td>\n",
       "      <td>[(beautifully, RB), (made, VBN), (pants, NNS),...</td>\n",
       "      <td>[flared, much]</td>\n",
       "    </tr>\n",
       "    <tr>\n",
       "      <th>2</th>\n",
       "      <td>i never would have given these pants a second ...</td>\n",
       "      <td>Bottoms</td>\n",
       "      <td>[i, never, would, have, given, these, pants, a...</td>\n",
       "      <td>[never, would, given, pants, second, look, onl...</td>\n",
       "      <td>never would given pants second look online per...</td>\n",
       "      <td>[(i, NN), (never, RB), (would, MD), (have, VB)...</td>\n",
       "      <td>[second, much, cuter, right, small, loose, navy]</td>\n",
       "    </tr>\n",
       "    <tr>\n",
       "      <th>3</th>\n",
       "      <td>these pants are even better in person the only...</td>\n",
       "      <td>Bottoms</td>\n",
       "      <td>[these, pants, are, even, better, in, person, ...</td>\n",
       "      <td>[pants, even, better, person, downside, need, ...</td>\n",
       "      <td>pants even better person downside need dry cle...</td>\n",
       "      <td>[(these, DT), (pants, NNS), (are, VBP), (even,...</td>\n",
       "      <td>[only, dry]</td>\n",
       "    </tr>\n",
       "    <tr>\n",
       "      <th>4</th>\n",
       "      <td>the silhouette and length of this skirt and le...</td>\n",
       "      <td>Bottoms</td>\n",
       "      <td>[the, silhouette, and, length, of, this, skirt...</td>\n",
       "      <td>[silhouette, length, skirt, length, flattering...</td>\n",
       "      <td>silhouette length skirt length flattering clas...</td>\n",
       "      <td>[(the, DT), (silhouette, NN), (and, CC), (leng...</td>\n",
       "      <td>[classic, comfortable, favorite, different, hi...</td>\n",
       "    </tr>\n",
       "  </tbody>\n",
       "</table>\n",
       "</div>"
      ],
      "text/plain": [
       "                                      product_review product_category  \\\n",
       "0  i love love love this jumpsuit its fun flirty ...          Bottoms   \n",
       "1  beautifully made pants and on trend with the f...          Bottoms   \n",
       "2  i never would have given these pants a second ...          Bottoms   \n",
       "3  these pants are even better in person the only...          Bottoms   \n",
       "4  the silhouette and length of this skirt and le...          Bottoms   \n",
       "\n",
       "                            product_review_tokenized  \\\n",
       "0  [i, love, love, love, this, jumpsuit, its, fun...   \n",
       "1  [beautifully, made, pants, and, on, trend, wit...   \n",
       "2  [i, never, would, have, given, these, pants, a...   \n",
       "3  [these, pants, are, even, better, in, person, ...   \n",
       "4  [the, silhouette, and, length, of, this, skirt...   \n",
       "\n",
       "                                      cleaned_tokens  \\\n",
       "0  [love, love, love, jumpsuit, fun, flirty, fabu...   \n",
       "1  [beautifully, made, pants, trend, flared, crop...   \n",
       "2  [never, would, given, pants, second, look, onl...   \n",
       "3  [pants, even, better, person, downside, need, ...   \n",
       "4  [silhouette, length, skirt, length, flattering...   \n",
       "\n",
       "                              product_review_cleaned  \\\n",
       "0  love love love jumpsuit fun flirty fabulous ev...   \n",
       "1  beautifully made pants trend flared crop much ...   \n",
       "2  never would given pants second look online per...   \n",
       "3  pants even better person downside need dry cle...   \n",
       "4  silhouette length skirt length flattering clas...   \n",
       "\n",
       "                                          POS_tokens  \\\n",
       "0  [(i, NN), (love, VBP), (love, NN), (love, NN),...   \n",
       "1  [(beautifully, RB), (made, VBN), (pants, NNS),...   \n",
       "2  [(i, NN), (never, RB), (would, MD), (have, VB)...   \n",
       "3  [(these, DT), (pants, NNS), (are, VBP), (even,...   \n",
       "4  [(the, DT), (silhouette, NN), (and, CC), (leng...   \n",
       "\n",
       "                                          adjectives  \n",
       "0                               [fabulous, i, great]  \n",
       "1                                     [flared, much]  \n",
       "2   [second, much, cuter, right, small, loose, navy]  \n",
       "3                                        [only, dry]  \n",
       "4  [classic, comfortable, favorite, different, hi...  "
      ]
     },
     "execution_count": 50,
     "metadata": {},
     "output_type": "execute_result"
    }
   ],
   "source": [
    "def extract_adj(tokens):\n",
    "    adjectives = []\n",
    "    for x in tokens:\n",
    "        if x[1] in ['JJ','JJR','JJS']:\n",
    "            adjectives.append(x[0])\n",
    "\n",
    "    return adjectives\n",
    "\n",
    "data['adjectives'] = data.POS_tokens.apply(extract_adj)\n",
    "data.head()"
   ]
  },
  {
   "cell_type": "markdown",
   "id": "5f8e2431-0521-4a14-8999-399b6a66fb26",
   "metadata": {},
   "source": [
    "Combine all adjectives for tops"
   ]
  },
  {
   "cell_type": "code",
   "execution_count": 52,
   "id": "c842c25a-6fdb-42bc-908b-b9bda50e3498",
   "metadata": {},
   "outputs": [
    {
     "data": {
      "text/plain": [
       "'flattering due adjustable perfect cardigan last i pale gorgeous little hte ejans i glad i white crisp clean i great perfect wear cant wrong wasnt seethrough white careful i great comfy classic quirky beautiful practical cropped boxy perfect longer camisole little thin small gorgeous unsnapped skinny true great casual flare grey back nice beautiful ordinary usual tight chest i cute plaid great local comfortable bad little dressier small black top comfortable comfortable good perfect roomy warm cute collar beautiful unique busty top small wouldve fit better adorable bib favorite small perfect soft comfortable unusual asymmetrical front visual little ive adorable i comfortable feminine great dark perfect wish happy comfortable flattering comfortable light top lovely floral great white top happy top online little i little large petite longer regular perfect give soft comfortable short much uncomfortable doesnt easier navy boxy whole cute more fabric i super read same specific petite weigh small perfect luxurious casual everyday little long little tight top great comfortable unique soft last wonderful greenish unique beautiful i great worn different great only petite touch big much real short i modern large normal top pleased elegant casual overall overall various mosswhich greenish more green fantastic stunning white nicelya big i great unique lovely quotskyquot teal blue luxurious sassy i numerous true small slightest tight first small i small top true generous top nice comfy casual small hh true broad perfect inside unexpected more true stressed current perfect cute little wonderful different previous larger glad i beautiful super casual more stylish average white long perfect many many easy hot humid easy many casual reversible appropriate great much other scratchy sensitive perfect mild light fitted bottom other cute comfortable true small roomy narrow top perfect different comfortable tunic curvy few extra perfect good negative gorgeous deeper true i large fitted top green super petite long little lost much second i different bare i hot right metallic little large ive current ive top feminine small swing fabric soft im more neutral white many white cute greatest fabulous i sure favorite other great nice ultra skinny pregnant wrong feminine light cami great white perfect warmer casual big such big flattering great gorgeous top nice soft i full loose pretty straight soft other white flattering other several flattering easy dressy soft comfortable adorable cute navy ok much adorable im big odd few new favorite top tunic other delicate open upper feminine light hot able appropriate most extraordinary least pretty nice big perfect subtle petite usual narrower ok athletic great cant wrong great usual smaller generous little beautiful i anxious smaller little longer little shorter tts little biggest nice comfortable casual i super natural tunic little large top perfect small extra small forth i top regular small longer much low white unique skinny ankle stylish super soft sure looser large top cute great many blue soft little shorter i prettier im athletic little small i fitted great stylish comfortable top large great pretty top full shorter softer true i usual sleeve true favorite perfect first many comfy sloppy many favorite other nice i live i larger tough i right much top great top much nice tight light ive gotten several different pretty deep doesnt much top i true regular petite i short see nude perfect comfortable easy i similar flattering great blue happy short usual beautiful printed small perfect smaller popular due hot soft warm outside i favorite great awesome soft positive previous worth full little small perfect great sleeve right beautiful polka sweet pretty long unique thin beautiful small busted i smaller usual full full small much ample regular full better little shorter i top dont interesting top closer overall lightweight due soft easy great blue gorgeous interesting short happy thick thick short special black i silky beautiful many enormous bottom white flattering much online chic stylish great chillier plain short long sleeved more elaborate many gorgeous sleeve unfinished frayed noticeable unique gold sticky sticky humid sticky sticky wasnt sure top glad print great denim loose top little short true small beautiful gold i top nice soft good basic many sure top enough top nice petite regular good busy same soft soft soft small black cropped bottom quality small flowy short comfortable feminine beautiful fit favorite new red gorgeous large ethereal pretty same composed hottest super soft black short petite great outfit oversized small black many charlie flat great casual visual blackwhite great casual curvy special navy stripe cute nautical boxy unimpressive i cute clingy comfortable little sure bad tall long flattering i fantastic flowy i much romantic girly short right athletic rave true plush funky i im different great able only petite top glad short super boxy other local itchy small long oversized i i right larger i same smaller petite other petite few great super sure i wool cool skeptical first black white versatile interesting bright similar regular fine im super short thick white cute i navy vintage slinky great white large small mid more fun nice such great unique beautiful appropriate normal small more little tunic great beautiful soft warm perfect new little soft light worn casual nice soft comfortable beautiful accurate perfect extra casual elegant same adorable loose soft bottom clingy soft i happy black closed lace little much open cami comfortable whole little longer super awesome true normal small beautiful little higher sure similar beautiful top little extra usual great great skirt tts flattering comfortable nice true nice good great red black nice flattering much ive olive red black i enough black simple true fitted due unflattering close laceup most super immodest black fabric soft thick nice great super fat good black great super great i black first green greatnot cheap least cute beautiful colorful nice lightweight fine other wish i older more personal accurate lovely unique unique romantic sheer nude camisole small i normal special comfortable asis huge crazy fresh feminine flattering great denim happy soo cool good top nightworthy front embossed usual patterned nice vibrant nice i great little loose little elastic i perfect top mixed top special timewhen curatorial beautifullymade topquite dramatic comfortable ive many ive wonderful pretty new dark boho flattering top happy pretty different floral interesting unique comfortable due true fit great bohemian smaller larger only i larger asymmetrical new second other small top i tad i figure perfect beautiful coral mixed little large comfortable unique special favorite many beautiful soft bigger i black back great casual perfect little flattering black necessary larger usual great easy top sure great little long beautiful dressier skinny aesthetic gorgeous happy top soft cute super comfortable xs lovely pale complementary nice nice perfect adequate petite short flowy more swing cute due thin hard true top flattering nice nice darn soft top lower easy black creamy white top brownish yellow creamy white beautiful petite available beautiful unique sure fabulous bohochic sophisticated special elegant great beautiful more multiple tight r top super long due happy sweet flowy great yellow floral front narrow bra nude plastic big unique nice great little transitional blkblk floral usual top quirky i comfortable chilly top western black cute soft top great small comfortable great cardigan blazer super bright red perfect light little loose boxy bust overall regular short wear petite due other short regular happy comfortable top great skinny small tts slim length longer petite red thicker other cashmere stick much large shorter huge loose red i little flat sure i gorgeous i amazing unique top light white beautiful red large high fabulous top top comfortable true classy unique pretty many girlie fun shorter short long beautiful large large nice basic pale prettier i great denim olive green white comfy casual front different smaller white different perfect little softer heavier pretty lightweight comfy stylish indigoblue nice different narrow fine true small other same many i slight straight rough casual last sure itchy great great short long standard huge perfect i flowy best shorter more little boxy petite best similar exact much i black super only slight negative i neckline worth giant many perfect saturday great fit elastic soft great ish fit great washed more white i cute first many comfortable expensive adorable flattering white much ft little favorite much i white good different great favorite dark white able nude cute little pictured small same pictured fabric super grey top white brown pretty didnt big generous great feeling fashionable essential soft warm fashionable acrylicnylonwool functional disagree other small short true itchy i basic neckline soft comfortable white blue additional overall comfy nice neutral i overall small different wearable white opted i available waisted short i regular big flattering chest v classic great black nude black white pricey beautiful soft itchy important vibrant bright i small perfect shapeless mild better pic nice nice glad many perfect cool warm excellent top tall tunic shorter pattern soft fabric nice comfortable casual adorable effortless chic close nice endless comfortable cute top true great snuglooked fine i little bust better top nude inappropriate beautiful fashionable good viscose pretty feminine great great true local i top pretty im curvy true slight only beautiful tunic short worn soft flattering different similar exquisite longer prettier special small medium i small much large closer skinny top great i many many great such great little more black shirt little same top black skinny black lighter im i ok extra worn petite i i general perfect perfect casual skinny long black pale i basic great comfortable black little good usual great great skinny small short wide small little short great great lightweight skinny white first much light blue amazing long back comfortable loose cardigan pretty red black boxy spectacular raw nice casual white black comfortable flattering many like perfect nice beautiful i front usual small red cardigan cute larger front right perfect short boxy waist perfect roomy long nice great perfect comfortable pictured ive highlow local instant usual small fit perfect winter red more soft belly nautical im ive denim black soft red soft unsure small great richer vibrant unique i small little small i looser flattering great interesting true great soft i lucky i full fabulous wear layer coral wonderful vibrant fit old professional great i dark gorgeous beautiful coral small tight able thick coral beautiful excellent great new cant coral new perfect beautiful fit great i small extra small flattering i green most soft casual outside most little worth fabulous i cozy delicious hot breathable green black friday wish beautiful great i ft beautiful comfy bulky boiled rich deep green great great warm northern short wool classy festive green normal due positive soft boiled green deep incredible black magical roomy tricky defined comfortable soft worth light good i full favorite green much coral i large perfect wonderful gray black great animal online attractive attractive unbuttoned boiled light softer boiled light ill able november im boiled warm high beloved ive last thin perfect perfect lovely green many perfect im petite small natural door several pleased roomy large boxy fluffy luxurious terrific i itclassic fancy favorite new super soft comfortable little large cozy collar oversized lightweight fast black i main scarf cute full wonderful coral beautiful stylish green weigh more heavier classic lightweight squishy soft deep simple practical nice local fabulous coral divine short small large heavier normal great great great green great i itd great structured smaller i large beautiful first boxy flattering particular more unexpected big giant new puppy perfect late easy coral i xs green super rich perfect easy i super afraid favorite large more snug great glad beautiful soft sure top available blue beautiful soft only heavy great conspicuous feminine classic tunic black full dont flowy large pretty soft beautiful blue small first beautiful i green itchy comfortable coral such great top good i south lightweight long long great fit true purple petite soft unique cant regular overall same beautiful much straight several nice soft comfortable versatile blue top i unique great late summerearly pleated upper flattering top perfect heavy great large pleased heavy substantial thread fine heavy overall small other soft reasonable much coral flowy many top perfect huge other able chinos i true petite blue subtle great paired blue straight blue local linen acrylic large due beautiful bottomheavy colored extra soooo super large smaller usual generous i top small i tall busty top leather short picky happy heavy fantastic local beautiful heftier different gorgeous amazing perfect regular small tts i blousy top excellent i dark gray more rich exotic perfect soft red beautiful tts top such great classy comfortable same pricey great light green long different i red rich vibrant i true soft comfortable right versatile many more i great washable i dry romantic comfortable great high high somewhat i everyday cute true nice beautiful high nice older small little longer perfect busty ivory top true petite small regular little short shorter surprised soft top i little bigger small little perfect superb i usual perfect cool bright yellow yellow green real pretty other several much ive soft comfortable gorgeous blue sm small larger glad easy wide sheer solid lovely heavy bright top snug noticeable uncomfortable aware blue wet top front cute right unusual armhole available great lightweight friendly white small fine small beautiful tan thin sure enough i small cute tall recommend gorgeous green warm best flattering i fun tunic great beautiful soft easy current true regular pronounced much floral perfect sleeve perfect thin perfect easy breezy stylish busy beautiful i blue floral easy white full large i usual s xs tight perfect happy easy loose small small regular xs top top tight yellow white navy good cold i usual i roomy better im happy top more comfortable cute other yellowfloral true comfortable floral same nice top large many top thin i small top small top flattering hippy great white black great black flip baggy super top white i cami xs wish top small top weigh lbs small i most normal black dark black least receive everytime great skinny great looser white blue great adorable only little big easy top great perfect comfortable big usual adorable great great sure top many large flowy short little big green vibrant light beautiful true black local top vibrant gorgeous small extra small tad petite nice extra true great top adorable great larger more available many next sad swingy better top fun little hard thin more silky cool online fun edgy larger i other able mine cute unique usual soft casual such cute more s longer top much large nice flowy slim top flattering soft much thick such adorable super i loose long large comfortable great top cant kimono great i better great cant poncho more versatile detailed soft perfect deep flattering white great little gorgeous blue i many only i harder super super soft less great top great dark perfect soft big top gorgeous real beautiful great lightweight petite perfect belted happy lovely wear petite many right popular top beautiful unique blue white top billowy i top normal new curvy i large little large fabric comfortable more thin super soft thin hot humid neutral adorable jean big baggy beautiful cute unique blue washable major soft little different great loose fitting true beautiful feminine big lbs comfortable nice cute great impending fabulous casual pilcro yellow i happy own nice sun cervical sunny same i cheaper true soft summery beautiful stuff starched stretchy top small i true perfect diving cutsie easy little true need great little sleeve great largish more fitted great sturdy cheap i long certain more great fantastic unique rear ive super soft removable other tunic great skinny open i i s top super soft thin seethrough light cool hot humid nice gentle large cool i super hot local burgundy beautiful feminine other black available fine great soft comfortable blue i online beautiful special i small i perfect rich perfect printed eclectic i i large true im nice heavier soft such great flattering true loose i classic timeless versatile light gorgeous more happy awkward accidental top last olive green great quality comfortable top more professional i delicate i boxy soft nice comfortable stylish great great dark skinny turtle only double wish other top fancy flip regular i i long i fine thin i own warm cold i front little tired shorter navy comfortable great i large weigh large i unique i great first open most open sutble girl next sexy soft subtle plus regular relaxed beautiful leave top gorgeous remiss i short voluminous right perfect fulltime expensive much i bust chic lightweight last iso sure other boxy unflattering many top gray green gorgeous comfortable i navy great fabulous little vibrant black thin most larger top good petite regular able i short long wide biggest short normal acrylic warm enough colder nice comfortable lazy cool black bright hesitant oversized small xs great i large dark received long perfect heavy outstanding exceptional stylist open large previous soft easy teal more best perfect great many other cute great perfect loose flattering many black cute small usual little short regular wish til first good awesome blue short fine small top black great loose nice contrary other lowcut wear happy december hot soft cozy ready beautiful generous favorite luxurious i large long loose difficult top huge i i usual small unflattering happy top thankful top easy soft top nice nice perfect i lightweight perfect hot super soft nice great terrible worth lightweight perfect gorgeous best wish fluffy flattering ideal light nice simple chic effortless big creamy i available long great unique beautiful substantial woven small small glad i top small larger much short super voluminous good cute shorter nice overall good favorite ive great ti good sure fine short wide hwy large beautiful little crazy top comfortable soft nice small swingy beautiful beautiful great great little great white busty short usual back great special soft big length great skinny overall wonderful glad able more springsummer wide small perfect comfortable interesting great other great top fantastic bigger i last prettier petite i id top beautiful flowy comfortable uneckline i black small i small perfect classic rounded unique heavier better perfect thin great top comfortable super soft clingy polished little wide didnt boxy i nice glad soft comfy large boxy soooo soft short heavy large beautiful front boxy beautiful great breathable deep rich comfy top rust small pet perfect minor beautiful tts top i everyday few good dry least good great light multiple tad great comfortable previous cute black i white great skinny classic stylish blockingrich soft wear perfect i top difficult comfortable sloppy perfect tiny big most true great busty vibrant online light i true neutral first black unbuttoned good small best little upper i top deep coral comfy great i much much front saw local longer i other pilcro skinny i soft many helpful great first stiff soft lovely beautiful hot small upper i slight i offtheshoulder longer top great cute upper unique small top i open flattering red black top slimming hides top best perfect feels nice tiny i i flattering pear larger sheer nude little fancy versatile semicasual first natural second loose i little bigger i s fit great other best classic i appropriate individual white large top waist trim adorable fun cutesy previous small broad usual small small didnt hard related wide actual adorable grey modern small i i great right i cropped higher glad negative black red favorite i fine i small slim perfect comfortable appropriate ruffled surprised top expensive good flattering small top top fallwinterholiday top true tunic thin adorable subtle perfect neutral boxy i comfortable fine great skinny top other athletic m nice fit perfect upcoming light dark black great nice i flat little good new nice tight loose tight flattering nice soft great nice green large white white little more i other good basic full same red blue great happy stretchy great more easy glad soft great typical versatile interesting multiple first soft i i sure dark green white perfect such flattering nice right snug conservative provocative great basic great deep more cardigan beautiful same dark springy lower first tighter other fine beautiful heavy same old gorgeous perfect small pear similar few i thankful realistic small small tight torso much small small shirt much extra small classy beautiful favorable dressy casual glad gorgeous top large cute i beautiful navy easy interesting cozy comfortable stylish top simple great same large skinny i top flattering olive dark soft washedjean cool casual comfy great top adorable small i small roomy beautiful gorgeous linen white classic top beautiful true large fit longer i normal little amazing feminine good stunning true large white form tight large small i top baggy tasteful low sleeve black usedand great large able top vibrant soft light great top more i high soft narrow i little i small flattering other soft flattering perfect bad hte good nice i comfortable red rich subtle typical nice low personal tank great abstract floral understated romantic red beautiful rich red super soft comfy ive great im white waist i lightweight comfortable versatile casual dark dressy fun light red rich nervous top such excellent ridiculous able small other perfect much unique whole nice soft comfortable amazing able incredible peplum little perfect perfect high fabric soft tiny much other local first soft lightweight loose bra little v little top conservative upright last comfortable i wearable basic cute contemporary favorite loose flattering red deep red loose mid open fluffy small regular closer true usual smaller fabric higher personal great christmas much cute deep red long large loose large typical pinkish beautiful better casual i sure perfect best wear versatile nice soft fabulous perfect external soft versatile great good comfortable great soft comfortable gorgeous burgundy i gorgeous large x large i large full adorable cuter additional flowy comfortable black long black super small little great better special little low same great soft best other only top nice newmommy perfect comfortable i top fit great beautiful nice expensive sure nice little boxy nice dark purple top perfect i comfortable cold warm dont same i black december small skinny skinny slimming soft soft comfortable great tall great i tight pregnant i great perfect other new favorite freaking soft back little added staple more perfect cute id true cant light excited next unique regular heavy good new favorite perfect heavy thin super skinny nice similar same super soft more tall long long small i single extra druzy puppy black new soft comfortable sure true simple soft basic perfect i i cami soft right great soft skinny brown comfortable casual black white other little extra softer flattering other same more new black favorite cutest ive soft true great other excellent great clingy long im longer decent tight black more great i super soft i more super same extra perfect im great sure super soft substantial comfortable i perfect much constant fabulous black white fun perfect casual cardigan ive longsleeve i ive usual perfect soft wrong perfect ill more top long only negative easy i same exclusive whimsical grey sleeve traditional modern cropped few many stray excellent heavier weight comfortable perfect i small nice higher more soft best basic ive long im lb perfect comfy worth top i comfortable i several i sturdy i i top ornate surprised thick highlights enough much awkward long skinny great old i little extra everyday t scalloped beautiful fit boxy i much great great i amazing such incredible total great skinny comfortable little long fabulous great weight sure top pleased first perfect different i full i full much beautiful im heavy long perfect small previous capedigan loose high thickness thick thin soft wear retailer quirkiness same versatile comfortable i small best fit overall perfect long top true little nice special top top great great top large most large other small worth cute own i nude i adorable lovely back dusky floral pretty tiered slimming casual right feminine yummiest i purple first multiple prior big i extra small usual small other small difficult red great skinny wide good flattering soft skinny narrow beautiful more swing romantic feminine beautiful top quite transparent reversible soft black slate gray contemporary professional dark blue great little short i great good black skinny top gorgeous top much high much thrilled flattering beautiful only minor hidden black more dark similar top soft i camisole im great stripe special beautiful dressy casual spectacular new wish other fantastic beautiful artsy i regular petite short rich fabulous i wide fitted wellstyled favorite true orangewhitebrownred great indra i green floral pattern unique ive different mesh several superb true unique back white cheap beautiful top gorgeous high i top large upper fine personal most youre thin able im sure happy such soft fitting structured casual i glad next easy open black long cute small definite soft good soft green regular boxy nice thin soft classy casual dressy i great great great older stylish little extra subtle i beautiful versatile sure im petite small xss anthto little extra cooler small petite cozy gorgeous soft beautiful unique beautiful large smaller beautiful better only pulled little disappointed top flattering dressy comfortable soft nice good subtle long petite i regular petite tall low top simple top special lightweight january stripe normal small smaller colorful great lightweight casual more more same large xs small generous boxy horizontal loose black tee small i nice versatile suitable dressier comfortable beautiful large small extra small small huge smaller sure better special thin perfect lower blousy straight longer petite much i green white narrow big perfect good laden green more better hard great lightweight gorgeous great usual small short i small i small i much short lighter florida mild gorgeous bigger im sure plastic much bigger wooden theyre nice overall right i little stiff stiff first fit navy cuter great cool professional perfect cute first tunic hesitant i beautiful previous high i other small beautiful dressing big i extra small sure unique many many best i beautiful extra top full much short boxy black pleased fabric heavy high high regular small id tts i happier special vintage miss major gorgeous regular little wide short i elbow small less boxy cant beautiful metallic elegant gatsby attracted i high tunic bad straighterslimmer more happy beautiful own beautiful special nice soft metallic back wonderful i usual fitted top snug happy online gorgeous light feminine soft beautiful velour other pleased true regular perfect great skinny right long dressy gorgeous chic tunic super soft good thick heavy huge i hot cant wear hot i beautiful high stretchy i tts blue cant soft stunning happy gorgeous nice flowy i cam white usual small cute casual i other more straight i more flared high little special basic curvy perfect classic white little large lbs broad cold fine light many shorter touch nice wider narrower additional perfect nice thin most white perfect impecable petite regular more pale coral more light great hot such cute top big sloppy itll cute black skinny classic soft thick nice straight small right problematic more chest back most top last slim other perfect high perfect soft right favorite nice subtle roomy white i such top i few i good wash top navy black perfect comfy adorable little special happy normal big i top soft perfect right slight i chest high showy top adorable favorite red skinny i true washable durable vibrant soft great cute romantic darker soft subtle right soft im large med ive many little shortwhich i top high afterward i much black white intact aggressive late second sexiness flowy comfortable easy ive casual versatile little soft drapey i id beautiful comfortable unique heavy perfect south perfect great workappropriate large large perfect i boxy lovely navy black thin last super long soft right petite black great soft warm white great top large bust distressed black real distressed asymmetric unusual short long great overall top larger adorable black local previous top large soft comfortable i asymmetrical regular great much cant small black small great great normal other top pretty i wide soft comfortable classic appropriate white little black beautiful hard right less new favorite comfy super white gray small other loose i much edgy little loose small great beautiful nice modern artistic enough only little wool next nice i good usual first little big i tight short small small i slender much i second top billowy i true small white super more casual perfect little comfy baggy more i green white best high true large nice recommend many i such cute big loose such simple great stylish white i camisole more big crinkle great i large cute soft little excessive green little flattering simple interesting good classy stylish comfortable other great skinny casual terrific great vest thin thick nice soft great easy polka sleeve great cooler great material stylish different classic flattering awesome super little big good much black black lbs many small good white sure other sweet simple strappy great rolled perfect uneven enough more black pale lighter seethrough nice great good first white soft great comfortable good sweet basic boxy nice short square asymmetrical great true higher subtle favorite i second coral light more down current other usual granite top easy nice old romantic neutral vine black super hte waist fit top great little short boxy larger i boxy i didnt great staple other white super nice worn small i little little more consistent fine top im busty large perfect comfortable white beautiful i awesome super breathable fabric printed only basic '"
      ]
     },
     "execution_count": 52,
     "metadata": {},
     "output_type": "execute_result"
    }
   ],
   "source": [
    "adj_tops = \"\"\n",
    "for x in data[data.product_category == 'Tops'].adjectives:\n",
    "    adj_tops += ' '.join(x) + ' '\n",
    "\n",
    "adj_tops"
   ]
  },
  {
   "cell_type": "code",
   "execution_count": 54,
   "id": "0fb9f0ee-d623-4326-a271-64f8e9b13da5",
   "metadata": {},
   "outputs": [
    {
     "data": {
      "image/png": "[encoded data removed]",
      "text/plain": [
       "<Figure size 640x480 with 1 Axes>"
      ]
     },
     "metadata": {},
     "output_type": "display_data"
    }
   ],
   "source": [
    "word_cloud = WordCloud(width=800, height=600, background_color='white').generate(adj_tops)\n",
    "plt.imshow(word_cloud)\n",
    "plt.axis('off')\n",
    "plt.show()"
   ]
  },
  {
   "cell_type": "markdown",
   "id": "09f20160-53d4-4017-b3ec-c7035e25f7da",
   "metadata": {},
   "source": [
    "Method to get a word cloud for any product category"
   ]
  },
  {
   "cell_type": "code",
   "execution_count": 55,
   "id": "45d9d7c3-9939-4c9a-ade7-42cd450e9165",
   "metadata": {},
   "outputs": [],
   "source": [
    "def get_wordcloud(category):\n",
    "    adj = \"\"\n",
    "    for x in data[data.product_category == category ].adjectives:\n",
    "        adj += ' '.join(x) + ' '\n",
    "\n",
    "    word_cloud = WordCloud(width=800, height=600, background_color='white').generate(adj)\n",
    "    plt.imshow(word_cloud)\n",
    "    plt.axis('off')\n",
    "    plt.show()"
   ]
  },
  {
   "cell_type": "markdown",
   "id": "ef915a94-aa13-4ee9-ba5f-97d95a347541",
   "metadata": {},
   "source": [
    "#### 6. Sentiment Analysis"
   ]
  },
  {
   "cell_type": "code",
   "execution_count": 58,
   "id": "d83f5a30-6f77-4d47-8d5e-82aacb5007fc",
   "metadata": {},
   "outputs": [
    {
     "data": {
      "text/html": [
       "<div>\n",
       "<style scoped>\n",
       "    .dataframe tbody tr th:only-of-type {\n",
       "        vertical-align: middle;\n",
       "    }\n",
       "\n",
       "    .dataframe tbody tr th {\n",
       "        vertical-align: top;\n",
       "    }\n",
       "\n",
       "    .dataframe thead th {\n",
       "        text-align: right;\n",
       "    }\n",
       "</style>\n",
       "<table border=\"1\" class=\"dataframe\">\n",
       "  <thead>\n",
       "    <tr style=\"text-align: right;\">\n",
       "      <th></th>\n",
       "      <th>product_review</th>\n",
       "      <th>product_category</th>\n",
       "      <th>product_review_tokenized</th>\n",
       "      <th>cleaned_tokens</th>\n",
       "      <th>product_review_cleaned</th>\n",
       "      <th>POS_tokens</th>\n",
       "      <th>adjectives</th>\n",
       "    </tr>\n",
       "  </thead>\n",
       "  <tbody>\n",
       "    <tr>\n",
       "      <th>0</th>\n",
       "      <td>i love love love this jumpsuit its fun flirty ...</td>\n",
       "      <td>Bottoms</td>\n",
       "      <td>[i, love, love, love, this, jumpsuit, its, fun...</td>\n",
       "      <td>[love, love, love, jumpsuit, fun, flirty, fabu...</td>\n",
       "      <td>love love love jumpsuit fun flirty fabulous ev...</td>\n",
       "      <td>[(i, NN), (love, VBP), (love, NN), (love, NN),...</td>\n",
       "      <td>[fabulous, i, great]</td>\n",
       "    </tr>\n",
       "    <tr>\n",
       "      <th>1</th>\n",
       "      <td>beautifully made pants and on trend with the f...</td>\n",
       "      <td>Bottoms</td>\n",
       "      <td>[beautifully, made, pants, and, on, trend, wit...</td>\n",
       "      <td>[beautifully, made, pants, trend, flared, crop...</td>\n",
       "      <td>beautifully made pants trend flared crop much ...</td>\n",
       "      <td>[(beautifully, RB), (made, VBN), (pants, NNS),...</td>\n",
       "      <td>[flared, much]</td>\n",
       "    </tr>\n",
       "    <tr>\n",
       "      <th>2</th>\n",
       "      <td>i never would have given these pants a second ...</td>\n",
       "      <td>Bottoms</td>\n",
       "      <td>[i, never, would, have, given, these, pants, a...</td>\n",
       "      <td>[never, would, given, pants, second, look, onl...</td>\n",
       "      <td>never would given pants second look online per...</td>\n",
       "      <td>[(i, NN), (never, RB), (would, MD), (have, VB)...</td>\n",
       "      <td>[second, much, cuter, right, small, loose, navy]</td>\n",
       "    </tr>\n",
       "    <tr>\n",
       "      <th>3</th>\n",
       "      <td>these pants are even better in person the only...</td>\n",
       "      <td>Bottoms</td>\n",
       "      <td>[these, pants, are, even, better, in, person, ...</td>\n",
       "      <td>[pants, even, better, person, downside, need, ...</td>\n",
       "      <td>pants even better person downside need dry cle...</td>\n",
       "      <td>[(these, DT), (pants, NNS), (are, VBP), (even,...</td>\n",
       "      <td>[only, dry]</td>\n",
       "    </tr>\n",
       "    <tr>\n",
       "      <th>4</th>\n",
       "      <td>the silhouette and length of this skirt and le...</td>\n",
       "      <td>Bottoms</td>\n",
       "      <td>[the, silhouette, and, length, of, this, skirt...</td>\n",
       "      <td>[silhouette, length, skirt, length, flattering...</td>\n",
       "      <td>silhouette length skirt length flattering clas...</td>\n",
       "      <td>[(the, DT), (silhouette, NN), (and, CC), (leng...</td>\n",
       "      <td>[classic, comfortable, favorite, different, hi...</td>\n",
       "    </tr>\n",
       "  </tbody>\n",
       "</table>\n",
       "</div>"
      ],
      "text/plain": [
       "                                      product_review product_category  \\\n",
       "0  i love love love this jumpsuit its fun flirty ...          Bottoms   \n",
       "1  beautifully made pants and on trend with the f...          Bottoms   \n",
       "2  i never would have given these pants a second ...          Bottoms   \n",
       "3  these pants are even better in person the only...          Bottoms   \n",
       "4  the silhouette and length of this skirt and le...          Bottoms   \n",
       "\n",
       "                            product_review_tokenized  \\\n",
       "0  [i, love, love, love, this, jumpsuit, its, fun...   \n",
       "1  [beautifully, made, pants, and, on, trend, wit...   \n",
       "2  [i, never, would, have, given, these, pants, a...   \n",
       "3  [these, pants, are, even, better, in, person, ...   \n",
       "4  [the, silhouette, and, length, of, this, skirt...   \n",
       "\n",
       "                                      cleaned_tokens  \\\n",
       "0  [love, love, love, jumpsuit, fun, flirty, fabu...   \n",
       "1  [beautifully, made, pants, trend, flared, crop...   \n",
       "2  [never, would, given, pants, second, look, onl...   \n",
       "3  [pants, even, better, person, downside, need, ...   \n",
       "4  [silhouette, length, skirt, length, flattering...   \n",
       "\n",
       "                              product_review_cleaned  \\\n",
       "0  love love love jumpsuit fun flirty fabulous ev...   \n",
       "1  beautifully made pants trend flared crop much ...   \n",
       "2  never would given pants second look online per...   \n",
       "3  pants even better person downside need dry cle...   \n",
       "4  silhouette length skirt length flattering clas...   \n",
       "\n",
       "                                          POS_tokens  \\\n",
       "0  [(i, NN), (love, VBP), (love, NN), (love, NN),...   \n",
       "1  [(beautifully, RB), (made, VBN), (pants, NNS),...   \n",
       "2  [(i, NN), (never, RB), (would, MD), (have, VB)...   \n",
       "3  [(these, DT), (pants, NNS), (are, VBP), (even,...   \n",
       "4  [(the, DT), (silhouette, NN), (and, CC), (leng...   \n",
       "\n",
       "                                          adjectives  \n",
       "0                               [fabulous, i, great]  \n",
       "1                                     [flared, much]  \n",
       "2   [second, much, cuter, right, small, loose, navy]  \n",
       "3                                        [only, dry]  \n",
       "4  [classic, comfortable, favorite, different, hi...  "
      ]
     },
     "execution_count": 58,
     "metadata": {},
     "output_type": "execute_result"
    }
   ],
   "source": [
    "data.head()"
   ]
  },
  {
   "cell_type": "code",
   "execution_count": 65,
   "id": "ae54a44d-4484-4cbe-bd2b-eb20a33a28ac",
   "metadata": {},
   "outputs": [
    {
     "data": {
      "text/plain": [
       "{'neg': 0.171, 'neu': 0.185, 'pos': 0.644, 'compound': 0.9464}"
      ]
     },
     "execution_count": 65,
     "metadata": {},
     "output_type": "execute_result"
    }
   ],
   "source": [
    "sent = SentimentIntensityAnalyzer()\n",
    "review = data.product_review_cleaned[0]\n",
    "\n",
    "score = sent.polarity_scores(review)\n",
    "score"
   ]
  },
  {
   "cell_type": "markdown",
   "id": "ca1df053-19bb-4d25-9db2-ba589e26c945",
   "metadata": {},
   "source": [
    "- `pos`- The probability of `positive` sentiment\n",
    "- `neu`- The probability of `neutral` sentiment\n",
    "- `neg`- The probability of `negative` sentiment\n",
    "- `compound`- The normalized `compound` score that takes values from -1 to 1\n",
    "\n",
    "We can use the `compound` score to find the sentiment of each review.\n",
    "\n",
    "- if compound score>=0.05 then `positive` \n",
    "- if compound score between -0.05 and 0.05 then `neutral` \n",
    "- if compound score<=-0.05 then `negative` \n"
   ]
  },
  {
   "cell_type": "markdown",
   "id": "a53a9ce9-97e4-4efe-83b1-b6473be9ee1c",
   "metadata": {},
   "source": [
    "Analyze sentiment of each review"
   ]
  },
  {
   "cell_type": "code",
   "execution_count": 66,
   "id": "34eea906-efa1-4a29-8bb6-fdf0a1eb68b7",
   "metadata": {},
   "outputs": [],
   "source": [
    "def polarity_score(review):\n",
    "    # Initilizing the Sentiment Analyzer\n",
    "    sent = SentimentIntensityAnalyzer()\n",
    "   \n",
    "    # Extracting the sentiment polarity scores of a review\n",
    "    scores = sent.polarity_scores(review)\n",
    "    \n",
    "    # Getting the compound score\n",
    "    compound = scores['compound']\n",
    "    \n",
    "    if compound > 0.05:\n",
    "        return \"positive\"\n",
    "    elif compound < -0.5:\n",
    "        return \"negative\"\n",
    "    else:\n",
    "        return \"neutral\""
   ]
  },
  {
   "cell_type": "code",
   "execution_count": 67,
   "id": "644c3254-f5e7-447c-aa29-3468229d6968",
   "metadata": {},
   "outputs": [
    {
     "data": {
      "text/plain": [
       "'positive'"
      ]
     },
     "execution_count": 67,
     "metadata": {},
     "output_type": "execute_result"
    }
   ],
   "source": [
    "polarity_score(data.product_review_cleaned[4])"
   ]
  },
  {
   "cell_type": "markdown",
   "id": "31b5a0b1-326f-47da-a87d-7ff57b9e5110",
   "metadata": {},
   "source": [
    "Label all reviews with sentiment"
   ]
  },
  {
   "cell_type": "code",
   "execution_count": 71,
   "id": "22b4aba0-eacd-428d-8a7f-613a08bcca3a",
   "metadata": {},
   "outputs": [
    {
     "data": {
      "text/html": [
       "<div>\n",
       "<style scoped>\n",
       "    .dataframe tbody tr th:only-of-type {\n",
       "        vertical-align: middle;\n",
       "    }\n",
       "\n",
       "    .dataframe tbody tr th {\n",
       "        vertical-align: top;\n",
       "    }\n",
       "\n",
       "    .dataframe thead th {\n",
       "        text-align: right;\n",
       "    }\n",
       "</style>\n",
       "<table border=\"1\" class=\"dataframe\">\n",
       "  <thead>\n",
       "    <tr style=\"text-align: right;\">\n",
       "      <th></th>\n",
       "      <th>product_review</th>\n",
       "      <th>product_category</th>\n",
       "      <th>product_review_tokenized</th>\n",
       "      <th>cleaned_tokens</th>\n",
       "      <th>product_review_cleaned</th>\n",
       "      <th>POS_tokens</th>\n",
       "      <th>adjectives</th>\n",
       "      <th>sentiment</th>\n",
       "    </tr>\n",
       "  </thead>\n",
       "  <tbody>\n",
       "    <tr>\n",
       "      <th>0</th>\n",
       "      <td>i love love love this jumpsuit its fun flirty ...</td>\n",
       "      <td>Bottoms</td>\n",
       "      <td>[i, love, love, love, this, jumpsuit, its, fun...</td>\n",
       "      <td>[love, love, love, jumpsuit, fun, flirty, fabu...</td>\n",
       "      <td>love love love jumpsuit fun flirty fabulous ev...</td>\n",
       "      <td>[(i, NN), (love, VBP), (love, NN), (love, NN),...</td>\n",
       "      <td>[fabulous, i, great]</td>\n",
       "      <td>positive</td>\n",
       "    </tr>\n",
       "    <tr>\n",
       "      <th>1</th>\n",
       "      <td>beautifully made pants and on trend with the f...</td>\n",
       "      <td>Bottoms</td>\n",
       "      <td>[beautifully, made, pants, and, on, trend, wit...</td>\n",
       "      <td>[beautifully, made, pants, trend, flared, crop...</td>\n",
       "      <td>beautifully made pants trend flared crop much ...</td>\n",
       "      <td>[(beautifully, RB), (made, VBN), (pants, NNS),...</td>\n",
       "      <td>[flared, much]</td>\n",
       "      <td>positive</td>\n",
       "    </tr>\n",
       "    <tr>\n",
       "      <th>2</th>\n",
       "      <td>i never would have given these pants a second ...</td>\n",
       "      <td>Bottoms</td>\n",
       "      <td>[i, never, would, have, given, these, pants, a...</td>\n",
       "      <td>[never, would, given, pants, second, look, onl...</td>\n",
       "      <td>never would given pants second look online per...</td>\n",
       "      <td>[(i, NN), (never, RB), (would, MD), (have, VB)...</td>\n",
       "      <td>[second, much, cuter, right, small, loose, navy]</td>\n",
       "      <td>positive</td>\n",
       "    </tr>\n",
       "    <tr>\n",
       "      <th>3</th>\n",
       "      <td>these pants are even better in person the only...</td>\n",
       "      <td>Bottoms</td>\n",
       "      <td>[these, pants, are, even, better, in, person, ...</td>\n",
       "      <td>[pants, even, better, person, downside, need, ...</td>\n",
       "      <td>pants even better person downside need dry cle...</td>\n",
       "      <td>[(these, DT), (pants, NNS), (are, VBP), (even,...</td>\n",
       "      <td>[only, dry]</td>\n",
       "      <td>positive</td>\n",
       "    </tr>\n",
       "    <tr>\n",
       "      <th>4</th>\n",
       "      <td>the silhouette and length of this skirt and le...</td>\n",
       "      <td>Bottoms</td>\n",
       "      <td>[the, silhouette, and, length, of, this, skirt...</td>\n",
       "      <td>[silhouette, length, skirt, length, flattering...</td>\n",
       "      <td>silhouette length skirt length flattering clas...</td>\n",
       "      <td>[(the, DT), (silhouette, NN), (and, CC), (leng...</td>\n",
       "      <td>[classic, comfortable, favorite, different, hi...</td>\n",
       "      <td>positive</td>\n",
       "    </tr>\n",
       "  </tbody>\n",
       "</table>\n",
       "</div>"
      ],
      "text/plain": [
       "                                      product_review product_category  \\\n",
       "0  i love love love this jumpsuit its fun flirty ...          Bottoms   \n",
       "1  beautifully made pants and on trend with the f...          Bottoms   \n",
       "2  i never would have given these pants a second ...          Bottoms   \n",
       "3  these pants are even better in person the only...          Bottoms   \n",
       "4  the silhouette and length of this skirt and le...          Bottoms   \n",
       "\n",
       "                            product_review_tokenized  \\\n",
       "0  [i, love, love, love, this, jumpsuit, its, fun...   \n",
       "1  [beautifully, made, pants, and, on, trend, wit...   \n",
       "2  [i, never, would, have, given, these, pants, a...   \n",
       "3  [these, pants, are, even, better, in, person, ...   \n",
       "4  [the, silhouette, and, length, of, this, skirt...   \n",
       "\n",
       "                                      cleaned_tokens  \\\n",
       "0  [love, love, love, jumpsuit, fun, flirty, fabu...   \n",
       "1  [beautifully, made, pants, trend, flared, crop...   \n",
       "2  [never, would, given, pants, second, look, onl...   \n",
       "3  [pants, even, better, person, downside, need, ...   \n",
       "4  [silhouette, length, skirt, length, flattering...   \n",
       "\n",
       "                              product_review_cleaned  \\\n",
       "0  love love love jumpsuit fun flirty fabulous ev...   \n",
       "1  beautifully made pants trend flared crop much ...   \n",
       "2  never would given pants second look online per...   \n",
       "3  pants even better person downside need dry cle...   \n",
       "4  silhouette length skirt length flattering clas...   \n",
       "\n",
       "                                          POS_tokens  \\\n",
       "0  [(i, NN), (love, VBP), (love, NN), (love, NN),...   \n",
       "1  [(beautifully, RB), (made, VBN), (pants, NNS),...   \n",
       "2  [(i, NN), (never, RB), (would, MD), (have, VB)...   \n",
       "3  [(these, DT), (pants, NNS), (are, VBP), (even,...   \n",
       "4  [(the, DT), (silhouette, NN), (and, CC), (leng...   \n",
       "\n",
       "                                          adjectives sentiment  \n",
       "0                               [fabulous, i, great]  positive  \n",
       "1                                     [flared, much]  positive  \n",
       "2   [second, much, cuter, right, small, loose, navy]  positive  \n",
       "3                                        [only, dry]  positive  \n",
       "4  [classic, comfortable, favorite, different, hi...  positive  "
      ]
     },
     "execution_count": 71,
     "metadata": {},
     "output_type": "execute_result"
    }
   ],
   "source": [
    "data['sentiment'] = data.product_review_cleaned.apply(polarity_score)\n",
    "data.head()"
   ]
  },
  {
   "cell_type": "code",
   "execution_count": 73,
   "id": "bf810ea1-b184-4225-8d15-faa83e779a38",
   "metadata": {},
   "outputs": [
    {
     "data": {
      "text/html": [
       "<div>\n",
       "<style scoped>\n",
       "    .dataframe tbody tr th:only-of-type {\n",
       "        vertical-align: middle;\n",
       "    }\n",
       "\n",
       "    .dataframe tbody tr th {\n",
       "        vertical-align: top;\n",
       "    }\n",
       "\n",
       "    .dataframe thead th {\n",
       "        text-align: right;\n",
       "    }\n",
       "</style>\n",
       "<table border=\"1\" class=\"dataframe\">\n",
       "  <thead>\n",
       "    <tr style=\"text-align: right;\">\n",
       "      <th></th>\n",
       "      <th>product_category</th>\n",
       "      <th>sentiment</th>\n",
       "      <th>counts</th>\n",
       "    </tr>\n",
       "  </thead>\n",
       "  <tbody>\n",
       "    <tr>\n",
       "      <th>0</th>\n",
       "      <td>Bottoms</td>\n",
       "      <td>neutral</td>\n",
       "      <td>6</td>\n",
       "    </tr>\n",
       "    <tr>\n",
       "      <th>1</th>\n",
       "      <td>Bottoms</td>\n",
       "      <td>positive</td>\n",
       "      <td>679</td>\n",
       "    </tr>\n",
       "    <tr>\n",
       "      <th>2</th>\n",
       "      <td>Dresses</td>\n",
       "      <td>negative</td>\n",
       "      <td>35</td>\n",
       "    </tr>\n",
       "    <tr>\n",
       "      <th>3</th>\n",
       "      <td>Dresses</td>\n",
       "      <td>neutral</td>\n",
       "      <td>76</td>\n",
       "    </tr>\n",
       "    <tr>\n",
       "      <th>4</th>\n",
       "      <td>Dresses</td>\n",
       "      <td>positive</td>\n",
       "      <td>570</td>\n",
       "    </tr>\n",
       "    <tr>\n",
       "      <th>5</th>\n",
       "      <td>Intimate</td>\n",
       "      <td>negative</td>\n",
       "      <td>3</td>\n",
       "    </tr>\n",
       "    <tr>\n",
       "      <th>6</th>\n",
       "      <td>Intimate</td>\n",
       "      <td>neutral</td>\n",
       "      <td>33</td>\n",
       "    </tr>\n",
       "    <tr>\n",
       "      <th>7</th>\n",
       "      <td>Intimate</td>\n",
       "      <td>positive</td>\n",
       "      <td>614</td>\n",
       "    </tr>\n",
       "    <tr>\n",
       "      <th>8</th>\n",
       "      <td>Jackets</td>\n",
       "      <td>negative</td>\n",
       "      <td>2</td>\n",
       "    </tr>\n",
       "    <tr>\n",
       "      <th>9</th>\n",
       "      <td>Jackets</td>\n",
       "      <td>neutral</td>\n",
       "      <td>8</td>\n",
       "    </tr>\n",
       "    <tr>\n",
       "      <th>10</th>\n",
       "      <td>Jackets</td>\n",
       "      <td>positive</td>\n",
       "      <td>670</td>\n",
       "    </tr>\n",
       "    <tr>\n",
       "      <th>11</th>\n",
       "      <td>Tops</td>\n",
       "      <td>negative</td>\n",
       "      <td>1</td>\n",
       "    </tr>\n",
       "    <tr>\n",
       "      <th>12</th>\n",
       "      <td>Tops</td>\n",
       "      <td>neutral</td>\n",
       "      <td>4</td>\n",
       "    </tr>\n",
       "    <tr>\n",
       "      <th>13</th>\n",
       "      <td>Tops</td>\n",
       "      <td>positive</td>\n",
       "      <td>675</td>\n",
       "    </tr>\n",
       "  </tbody>\n",
       "</table>\n",
       "</div>"
      ],
      "text/plain": [
       "   product_category sentiment  counts\n",
       "0           Bottoms   neutral       6\n",
       "1           Bottoms  positive     679\n",
       "2           Dresses  negative      35\n",
       "3           Dresses   neutral      76\n",
       "4           Dresses  positive     570\n",
       "5          Intimate  negative       3\n",
       "6          Intimate   neutral      33\n",
       "7          Intimate  positive     614\n",
       "8           Jackets  negative       2\n",
       "9           Jackets   neutral       8\n",
       "10          Jackets  positive     670\n",
       "11             Tops  negative       1\n",
       "12             Tops   neutral       4\n",
       "13             Tops  positive     675"
      ]
     },
     "execution_count": 73,
     "metadata": {},
     "output_type": "execute_result"
    }
   ],
   "source": [
    "df = data.groupby([\"product_category\",\"sentiment\"]).size().reset_index(name=\"counts\")\n",
    "df"
   ]
  },
  {
   "cell_type": "code",
   "execution_count": 76,
   "id": "0a624785-a215-46f5-88b5-aa4d9c6a0512",
   "metadata": {},
   "outputs": [
    {
     "data": {
      "application/vnd.plotly.v1+json": {
       "config": {
        "plotlyServerURL": "https://plot.ly"
       },
       "data": [
        {
         "alignmentgroup": "True",
         "hovertemplate": "sentiment=neutral<br>product_category=%{x}<br>counts=%{y}<extra></extra>",
         "legendgroup": "neutral",
         "marker": {
          "color": "#636efa",
          "pattern": {
           "shape": ""
          }
         },
         "name": "neutral",
         "offsetgroup": "neutral",
         "orientation": "v",
         "showlegend": true,
         "textposition": "auto",
         "type": "bar",
         "x": [
          "Bottoms",
          "Dresses",
          "Intimate",
          "Jackets",
          "Tops"
         ],
         "xaxis": "x",
         "y": [
          6,
          76,
          33,
          8,
          4
         ],
         "yaxis": "y"
        },
        {
         "alignmentgroup": "True",
         "hovertemplate": "sentiment=positive<br>product_category=%{x}<br>counts=%{y}<extra></extra>",
         "legendgroup": "positive",
         "marker": {
          "color": "#EF553B",
          "pattern": {
           "shape": ""
          }
         },
         "name": "positive",
         "offsetgroup": "positive",
         "orientation": "v",
         "showlegend": true,
         "textposition": "auto",
         "type": "bar",
         "x": [
          "Bottoms",
          "Dresses",
          "Intimate",
          "Jackets",
          "Tops"
         ],
         "xaxis": "x",
         "y": [
          679,
          570,
          614,
          670,
          675
         ],
         "yaxis": "y"
        },
        {
         "alignmentgroup": "True",
         "hovertemplate": "sentiment=negative<br>product_category=%{x}<br>counts=%{y}<extra></extra>",
         "legendgroup": "negative",
         "marker": {
          "color": "#00cc96",
          "pattern": {
           "shape": ""
          }
         },
         "name": "negative",
         "offsetgroup": "negative",
         "orientation": "v",
         "showlegend": true,
         "textposition": "auto",
         "type": "bar",
         "x": [
          "Dresses",
          "Intimate",
          "Jackets",
          "Tops"
         ],
         "xaxis": "x",
         "y": [
          35,
          3,
          2,
          1
         ],
         "yaxis": "y"
        }
       ],
       "layout": {
        "barmode": "group",
        "legend": {
         "title": {
          "text": "sentiment"
         },
         "tracegroupgap": 0
        },
        "margin": {
         "t": 60
        },
        "template": {
         "data": {
          "bar": [
           {
            "error_x": {
             "color": "#2a3f5f"
            },
            "error_y": {
             "color": "#2a3f5f"
            },
            "marker": {
             "line": {
              "color": "#E5ECF6",
              "width": 0.5
             },
             "pattern": {
              "fillmode": "overlay",
              "size": 10,
              "solidity": 0.2
             }
            },
            "type": "bar"
           }
          ],
          "barpolar": [
           {
            "marker": {
             "line": {
              "color": "#E5ECF6",
              "width": 0.5
             },
             "pattern": {
              "fillmode": "overlay",
              "size": 10,
              "solidity": 0.2
             }
            },
            "type": "barpolar"
           }
          ],
          "carpet": [
           {
            "aaxis": {
             "endlinecolor": "#2a3f5f",
             "gridcolor": "white",
             "linecolor": "white",
             "minorgridcolor": "white",
             "startlinecolor": "#2a3f5f"
            },
            "baxis": {
             "endlinecolor": "#2a3f5f",
             "gridcolor": "white",
             "linecolor": "white",
             "minorgridcolor": "white",
             "startlinecolor": "#2a3f5f"
            },
            "type": "carpet"
           }
          ],
          "choropleth": [
           {
            "colorbar": {
             "outlinewidth": 0,
             "ticks": ""
            },
            "type": "choropleth"
           }
          ],
          "contour": [
           {
            "colorbar": {
             "outlinewidth": 0,
             "ticks": ""
            },
            "colorscale": [
             [
              0,
              "#0d0887"
             ],
             [
              0.1111111111111111,
              "#46039f"
             ],
             [
              0.2222222222222222,
              "#7201a8"
             ],
             [
              0.3333333333333333,
              "#9c179e"
             ],
             [
              0.4444444444444444,
              "#bd3786"
             ],
             [
              0.5555555555555556,
              "#d8576b"
             ],
             [
              0.6666666666666666,
              "#ed7953"
             ],
             [
              0.7777777777777778,
              "#fb9f3a"
             ],
             [
              0.8888888888888888,
              "#fdca26"
             ],
             [
              1,
              "#f0f921"
             ]
            ],
            "type": "contour"
           }
          ],
          "contourcarpet": [
           {
            "colorbar": {
             "outlinewidth": 0,
             "ticks": ""
            },
            "type": "contourcarpet"
           }
          ],
          "heatmap": [
           {
            "colorbar": {
             "outlinewidth": 0,
             "ticks": ""
            },
            "colorscale": [
             [
              0,
              "#0d0887"
             ],
             [
              0.1111111111111111,
              "#46039f"
             ],
             [
              0.2222222222222222,
              "#7201a8"
             ],
             [
              0.3333333333333333,
              "#9c179e"
             ],
             [
              0.4444444444444444,
              "#bd3786"
             ],
             [
              0.5555555555555556,
              "#d8576b"
             ],
             [
              0.6666666666666666,
              "#ed7953"
             ],
             [
              0.7777777777777778,
              "#fb9f3a"
             ],
             [
              0.8888888888888888,
              "#fdca26"
             ],
             [
              1,
              "#f0f921"
             ]
            ],
            "type": "heatmap"
           }
          ],
          "heatmapgl": [
           {
            "colorbar": {
             "outlinewidth": 0,
             "ticks": ""
            },
            "colorscale": [
             [
              0,
              "#0d0887"
             ],
             [
              0.1111111111111111,
              "#46039f"
             ],
             [
              0.2222222222222222,
              "#7201a8"
             ],
             [
              0.3333333333333333,
              "#9c179e"
             ],
             [
              0.4444444444444444,
              "#bd3786"
             ],
             [
              0.5555555555555556,
              "#d8576b"
             ],
             [
              0.6666666666666666,
              "#ed7953"
             ],
             [
              0.7777777777777778,
              "#fb9f3a"
             ],
             [
              0.8888888888888888,
              "#fdca26"
             ],
             [
              1,
              "#f0f921"
             ]
            ],
            "type": "heatmapgl"
           }
          ],
          "histogram": [
           {
            "marker": {
             "pattern": {
              "fillmode": "overlay",
              "size": 10,
              "solidity": 0.2
             }
            },
            "type": "histogram"
           }
          ],
          "histogram2d": [
           {
            "colorbar": {
             "outlinewidth": 0,
             "ticks": ""
            },
            "colorscale": [
             [
              0,
              "#0d0887"
             ],
             [
              0.1111111111111111,
              "#46039f"
             ],
             [
              0.2222222222222222,
              "#7201a8"
             ],
             [
              0.3333333333333333,
              "#9c179e"
             ],
             [
              0.4444444444444444,
              "#bd3786"
             ],
             [
              0.5555555555555556,
              "#d8576b"
             ],
             [
              0.6666666666666666,
              "#ed7953"
             ],
             [
              0.7777777777777778,
              "#fb9f3a"
             ],
             [
              0.8888888888888888,
              "#fdca26"
             ],
             [
              1,
              "#f0f921"
             ]
            ],
            "type": "histogram2d"
           }
          ],
          "histogram2dcontour": [
           {
            "colorbar": {
             "outlinewidth": 0,
             "ticks": ""
            },
            "colorscale": [
             [
              0,
              "#0d0887"
             ],
             [
              0.1111111111111111,
              "#46039f"
             ],
             [
              0.2222222222222222,
              "#7201a8"
             ],
             [
              0.3333333333333333,
              "#9c179e"
             ],
             [
              0.4444444444444444,
              "#bd3786"
             ],
             [
              0.5555555555555556,
              "#d8576b"
             ],
             [
              0.6666666666666666,
              "#ed7953"
             ],
             [
              0.7777777777777778,
              "#fb9f3a"
             ],
             [
              0.8888888888888888,
              "#fdca26"
             ],
             [
              1,
              "#f0f921"
             ]
            ],
            "type": "histogram2dcontour"
           }
          ],
          "mesh3d": [
           {
            "colorbar": {
             "outlinewidth": 0,
             "ticks": ""
            },
            "type": "mesh3d"
           }
          ],
          "parcoords": [
           {
            "line": {
             "colorbar": {
              "outlinewidth": 0,
              "ticks": ""
             }
            },
            "type": "parcoords"
           }
          ],
          "pie": [
           {
            "automargin": true,
            "type": "pie"
           }
          ],
          "scatter": [
           {
            "fillpattern": {
             "fillmode": "overlay",
             "size": 10,
             "solidity": 0.2
            },
            "type": "scatter"
           }
          ],
          "scatter3d": [
           {
            "line": {
             "colorbar": {
              "outlinewidth": 0,
              "ticks": ""
             }
            },
            "marker": {
             "colorbar": {
              "outlinewidth": 0,
              "ticks": ""
             }
            },
            "type": "scatter3d"
           }
          ],
          "scattercarpet": [
           {
            "marker": {
             "colorbar": {
              "outlinewidth": 0,
              "ticks": ""
             }
            },
            "type": "scattercarpet"
           }
          ],
          "scattergeo": [
           {
            "marker": {
             "colorbar": {
              "outlinewidth": 0,
              "ticks": ""
             }
            },
            "type": "scattergeo"
           }
          ],
          "scattergl": [
           {
            "marker": {
             "colorbar": {
              "outlinewidth": 0,
              "ticks": ""
             }
            },
            "type": "scattergl"
           }
          ],
          "scattermapbox": [
           {
            "marker": {
             "colorbar": {
              "outlinewidth": 0,
              "ticks": ""
             }
            },
            "type": "scattermapbox"
           }
          ],
          "scatterpolar": [
           {
            "marker": {
             "colorbar": {
              "outlinewidth": 0,
              "ticks": ""
             }
            },
            "type": "scatterpolar"
           }
          ],
          "scatterpolargl": [
           {
            "marker": {
             "colorbar": {
              "outlinewidth": 0,
              "ticks": ""
             }
            },
            "type": "scatterpolargl"
           }
          ],
          "scatterternary": [
           {
            "marker": {
             "colorbar": {
              "outlinewidth": 0,
              "ticks": ""
             }
            },
            "type": "scatterternary"
           }
          ],
          "surface": [
           {
            "colorbar": {
             "outlinewidth": 0,
             "ticks": ""
            },
            "colorscale": [
             [
              0,
              "#0d0887"
             ],
             [
              0.1111111111111111,
              "#46039f"
             ],
             [
              0.2222222222222222,
              "#7201a8"
             ],
             [
              0.3333333333333333,
              "#9c179e"
             ],
             [
              0.4444444444444444,
              "#bd3786"
             ],
             [
              0.5555555555555556,
              "#d8576b"
             ],
             [
              0.6666666666666666,
              "#ed7953"
             ],
             [
              0.7777777777777778,
              "#fb9f3a"
             ],
             [
              0.8888888888888888,
              "#fdca26"
             ],
             [
              1,
              "#f0f921"
             ]
            ],
            "type": "surface"
           }
          ],
          "table": [
           {
            "cells": {
             "fill": {
              "color": "#EBF0F8"
             },
             "line": {
              "color": "white"
             }
            },
            "header": {
             "fill": {
              "color": "#C8D4E3"
             },
             "line": {
              "color": "white"
             }
            },
            "type": "table"
           }
          ]
         },
         "layout": {
          "annotationdefaults": {
           "arrowcolor": "#2a3f5f",
           "arrowhead": 0,
           "arrowwidth": 1
          },
          "autotypenumbers": "strict",
          "coloraxis": {
           "colorbar": {
            "outlinewidth": 0,
            "ticks": ""
           }
          },
          "colorscale": {
           "diverging": [
            [
             0,
             "#8e0152"
            ],
            [
             0.1,
             "#c51b7d"
            ],
            [
             0.2,
             "#de77ae"
            ],
            [
             0.3,
             "#f1b6da"
            ],
            [
             0.4,
             "#fde0ef"
            ],
            [
             0.5,
             "#f7f7f7"
            ],
            [
             0.6,
             "#e6f5d0"
            ],
            [
             0.7,
             "#b8e186"
            ],
            [
             0.8,
             "#7fbc41"
            ],
            [
             0.9,
             "#4d9221"
            ],
            [
             1,
             "#276419"
            ]
           ],
           "sequential": [
            [
             0,
             "#0d0887"
            ],
            [
             0.1111111111111111,
             "#46039f"
            ],
            [
             0.2222222222222222,
             "#7201a8"
            ],
            [
             0.3333333333333333,
             "#9c179e"
            ],
            [
             0.4444444444444444,
             "#bd3786"
            ],
            [
             0.5555555555555556,
             "#d8576b"
            ],
            [
             0.6666666666666666,
             "#ed7953"
            ],
            [
             0.7777777777777778,
             "#fb9f3a"
            ],
            [
             0.8888888888888888,
             "#fdca26"
            ],
            [
             1,
             "#f0f921"
            ]
           ],
           "sequentialminus": [
            [
             0,
             "#0d0887"
            ],
            [
             0.1111111111111111,
             "#46039f"
            ],
            [
             0.2222222222222222,
             "#7201a8"
            ],
            [
             0.3333333333333333,
             "#9c179e"
            ],
            [
             0.4444444444444444,
             "#bd3786"
            ],
            [
             0.5555555555555556,
             "#d8576b"
            ],
            [
             0.6666666666666666,
             "#ed7953"
            ],
            [
             0.7777777777777778,
             "#fb9f3a"
            ],
            [
             0.8888888888888888,
             "#fdca26"
            ],
            [
             1,
             "#f0f921"
            ]
           ]
          },
          "colorway": [
           "#636efa",
           "#EF553B",
           "#00cc96",
           "#ab63fa",
           "#FFA15A",
           "#19d3f3",
           "#FF6692",
           "#B6E880",
           "#FF97FF",
           "#FECB52"
          ],
          "font": {
           "color": "#2a3f5f"
          },
          "geo": {
           "bgcolor": "white",
           "lakecolor": "white",
           "landcolor": "#E5ECF6",
           "showlakes": true,
           "showland": true,
           "subunitcolor": "white"
          },
          "hoverlabel": {
           "align": "left"
          },
          "hovermode": "closest",
          "mapbox": {
           "style": "light"
          },
          "paper_bgcolor": "white",
          "plot_bgcolor": "#E5ECF6",
          "polar": {
           "angularaxis": {
            "gridcolor": "white",
            "linecolor": "white",
            "ticks": ""
           },
           "bgcolor": "#E5ECF6",
           "radialaxis": {
            "gridcolor": "white",
            "linecolor": "white",
            "ticks": ""
           }
          },
          "scene": {
           "xaxis": {
            "backgroundcolor": "#E5ECF6",
            "gridcolor": "white",
            "gridwidth": 2,
            "linecolor": "white",
            "showbackground": true,
            "ticks": "",
            "zerolinecolor": "white"
           },
           "yaxis": {
            "backgroundcolor": "#E5ECF6",
            "gridcolor": "white",
            "gridwidth": 2,
            "linecolor": "white",
            "showbackground": true,
            "ticks": "",
            "zerolinecolor": "white"
           },
           "zaxis": {
            "backgroundcolor": "#E5ECF6",
            "gridcolor": "white",
            "gridwidth": 2,
            "linecolor": "white",
            "showbackground": true,
            "ticks": "",
            "zerolinecolor": "white"
           }
          },
          "shapedefaults": {
           "line": {
            "color": "#2a3f5f"
           }
          },
          "ternary": {
           "aaxis": {
            "gridcolor": "white",
            "linecolor": "white",
            "ticks": ""
           },
           "baxis": {
            "gridcolor": "white",
            "linecolor": "white",
            "ticks": ""
           },
           "bgcolor": "#E5ECF6",
           "caxis": {
            "gridcolor": "white",
            "linecolor": "white",
            "ticks": ""
           }
          },
          "title": {
           "x": 0.05
          },
          "xaxis": {
           "automargin": true,
           "gridcolor": "white",
           "linecolor": "white",
           "ticks": "",
           "title": {
            "standoff": 15
           },
           "zerolinecolor": "white",
           "zerolinewidth": 2
          },
          "yaxis": {
           "automargin": true,
           "gridcolor": "white",
           "linecolor": "white",
           "ticks": "",
           "title": {
            "standoff": 15
           },
           "zerolinecolor": "white",
           "zerolinewidth": 2
          }
         }
        },
        "xaxis": {
         "anchor": "y",
         "domain": [
          0,
          1
         ],
         "title": {
          "text": "product_category"
         }
        },
        "yaxis": {
         "anchor": "x",
         "domain": [
          0,
          1
         ],
         "title": {
          "text": "counts"
         }
        }
       }
      },
      "text/html": [
       "<div>                            <div id=\"ed9d5e6e-3f3b-4abb-9a11-0f4a186981df\" class=\"plotly-graph-div\" style=\"height:525px; width:100%;\"></div>            <script type=\"text/javascript\">                require([\"plotly\"], function(Plotly) {                    window.PLOTLYENV=window.PLOTLYENV || {};                                    if (document.getElementById(\"ed9d5e6e-3f3b-4abb-9a11-0f4a186981df\")) {                    Plotly.newPlot(                        \"ed9d5e6e-3f3b-4abb-9a11-0f4a186981df\",                        [{\"alignmentgroup\":\"True\",\"hovertemplate\":\"sentiment=neutral\\u003cbr\\u003eproduct_category=%{x}\\u003cbr\\u003ecounts=%{y}\\u003cextra\\u003e\\u003c\\u002fextra\\u003e\",\"legendgroup\":\"neutral\",\"marker\":{\"color\":\"#636efa\",\"pattern\":{\"shape\":\"\"}},\"name\":\"neutral\",\"offsetgroup\":\"neutral\",\"orientation\":\"v\",\"showlegend\":true,\"textposition\":\"auto\",\"x\":[\"Bottoms\",\"Dresses\",\"Intimate\",\"Jackets\",\"Tops\"],\"xaxis\":\"x\",\"y\":[6,76,33,8,4],\"yaxis\":\"y\",\"type\":\"bar\"},{\"alignmentgroup\":\"True\",\"hovertemplate\":\"sentiment=positive\\u003cbr\\u003eproduct_category=%{x}\\u003cbr\\u003ecounts=%{y}\\u003cextra\\u003e\\u003c\\u002fextra\\u003e\",\"legendgroup\":\"positive\",\"marker\":{\"color\":\"#EF553B\",\"pattern\":{\"shape\":\"\"}},\"name\":\"positive\",\"offsetgroup\":\"positive\",\"orientation\":\"v\",\"showlegend\":true,\"textposition\":\"auto\",\"x\":[\"Bottoms\",\"Dresses\",\"Intimate\",\"Jackets\",\"Tops\"],\"xaxis\":\"x\",\"y\":[679,570,614,670,675],\"yaxis\":\"y\",\"type\":\"bar\"},{\"alignmentgroup\":\"True\",\"hovertemplate\":\"sentiment=negative\\u003cbr\\u003eproduct_category=%{x}\\u003cbr\\u003ecounts=%{y}\\u003cextra\\u003e\\u003c\\u002fextra\\u003e\",\"legendgroup\":\"negative\",\"marker\":{\"color\":\"#00cc96\",\"pattern\":{\"shape\":\"\"}},\"name\":\"negative\",\"offsetgroup\":\"negative\",\"orientation\":\"v\",\"showlegend\":true,\"textposition\":\"auto\",\"x\":[\"Dresses\",\"Intimate\",\"Jackets\",\"Tops\"],\"xaxis\":\"x\",\"y\":[35,3,2,1],\"yaxis\":\"y\",\"type\":\"bar\"}],                        {\"template\":{\"data\":{\"histogram2dcontour\":[{\"type\":\"histogram2dcontour\",\"colorbar\":{\"outlinewidth\":0,\"ticks\":\"\"},\"colorscale\":[[0.0,\"#0d0887\"],[0.1111111111111111,\"#46039f\"],[0.2222222222222222,\"#7201a8\"],[0.3333333333333333,\"#9c179e\"],[0.4444444444444444,\"#bd3786\"],[0.5555555555555556,\"#d8576b\"],[0.6666666666666666,\"#ed7953\"],[0.7777777777777778,\"#fb9f3a\"],[0.8888888888888888,\"#fdca26\"],[1.0,\"#f0f921\"]]}],\"choropleth\":[{\"type\":\"choropleth\",\"colorbar\":{\"outlinewidth\":0,\"ticks\":\"\"}}],\"histogram2d\":[{\"type\":\"histogram2d\",\"colorbar\":{\"outlinewidth\":0,\"ticks\":\"\"},\"colorscale\":[[0.0,\"#0d0887\"],[0.1111111111111111,\"#46039f\"],[0.2222222222222222,\"#7201a8\"],[0.3333333333333333,\"#9c179e\"],[0.4444444444444444,\"#bd3786\"],[0.5555555555555556,\"#d8576b\"],[0.6666666666666666,\"#ed7953\"],[0.7777777777777778,\"#fb9f3a\"],[0.8888888888888888,\"#fdca26\"],[1.0,\"#f0f921\"]]}],\"heatmap\":[{\"type\":\"heatmap\",\"colorbar\":{\"outlinewidth\":0,\"ticks\":\"\"},\"colorscale\":[[0.0,\"#0d0887\"],[0.1111111111111111,\"#46039f\"],[0.2222222222222222,\"#7201a8\"],[0.3333333333333333,\"#9c179e\"],[0.4444444444444444,\"#bd3786\"],[0.5555555555555556,\"#d8576b\"],[0.6666666666666666,\"#ed7953\"],[0.7777777777777778,\"#fb9f3a\"],[0.8888888888888888,\"#fdca26\"],[1.0,\"#f0f921\"]]}],\"heatmapgl\":[{\"type\":\"heatmapgl\",\"colorbar\":{\"outlinewidth\":0,\"ticks\":\"\"},\"colorscale\":[[0.0,\"#0d0887\"],[0.1111111111111111,\"#46039f\"],[0.2222222222222222,\"#7201a8\"],[0.3333333333333333,\"#9c179e\"],[0.4444444444444444,\"#bd3786\"],[0.5555555555555556,\"#d8576b\"],[0.6666666666666666,\"#ed7953\"],[0.7777777777777778,\"#fb9f3a\"],[0.8888888888888888,\"#fdca26\"],[1.0,\"#f0f921\"]]}],\"contourcarpet\":[{\"type\":\"contourcarpet\",\"colorbar\":{\"outlinewidth\":0,\"ticks\":\"\"}}],\"contour\":[{\"type\":\"contour\",\"colorbar\":{\"outlinewidth\":0,\"ticks\":\"\"},\"colorscale\":[[0.0,\"#0d0887\"],[0.1111111111111111,\"#46039f\"],[0.2222222222222222,\"#7201a8\"],[0.3333333333333333,\"#9c179e\"],[0.4444444444444444,\"#bd3786\"],[0.5555555555555556,\"#d8576b\"],[0.6666666666666666,\"#ed7953\"],[0.7777777777777778,\"#fb9f3a\"],[0.8888888888888888,\"#fdca26\"],[1.0,\"#f0f921\"]]}],\"surface\":[{\"type\":\"surface\",\"colorbar\":{\"outlinewidth\":0,\"ticks\":\"\"},\"colorscale\":[[0.0,\"#0d0887\"],[0.1111111111111111,\"#46039f\"],[0.2222222222222222,\"#7201a8\"],[0.3333333333333333,\"#9c179e\"],[0.4444444444444444,\"#bd3786\"],[0.5555555555555556,\"#d8576b\"],[0.6666666666666666,\"#ed7953\"],[0.7777777777777778,\"#fb9f3a\"],[0.8888888888888888,\"#fdca26\"],[1.0,\"#f0f921\"]]}],\"mesh3d\":[{\"type\":\"mesh3d\",\"colorbar\":{\"outlinewidth\":0,\"ticks\":\"\"}}],\"scatter\":[{\"fillpattern\":{\"fillmode\":\"overlay\",\"size\":10,\"solidity\":0.2},\"type\":\"scatter\"}],\"parcoords\":[{\"type\":\"parcoords\",\"line\":{\"colorbar\":{\"outlinewidth\":0,\"ticks\":\"\"}}}],\"scatterpolargl\":[{\"type\":\"scatterpolargl\",\"marker\":{\"colorbar\":{\"outlinewidth\":0,\"ticks\":\"\"}}}],\"bar\":[{\"error_x\":{\"color\":\"#2a3f5f\"},\"error_y\":{\"color\":\"#2a3f5f\"},\"marker\":{\"line\":{\"color\":\"#E5ECF6\",\"width\":0.5},\"pattern\":{\"fillmode\":\"overlay\",\"size\":10,\"solidity\":0.2}},\"type\":\"bar\"}],\"scattergeo\":[{\"type\":\"scattergeo\",\"marker\":{\"colorbar\":{\"outlinewidth\":0,\"ticks\":\"\"}}}],\"scatterpolar\":[{\"type\":\"scatterpolar\",\"marker\":{\"colorbar\":{\"outlinewidth\":0,\"ticks\":\"\"}}}],\"histogram\":[{\"marker\":{\"pattern\":{\"fillmode\":\"overlay\",\"size\":10,\"solidity\":0.2}},\"type\":\"histogram\"}],\"scattergl\":[{\"type\":\"scattergl\",\"marker\":{\"colorbar\":{\"outlinewidth\":0,\"ticks\":\"\"}}}],\"scatter3d\":[{\"type\":\"scatter3d\",\"line\":{\"colorbar\":{\"outlinewidth\":0,\"ticks\":\"\"}},\"marker\":{\"colorbar\":{\"outlinewidth\":0,\"ticks\":\"\"}}}],\"scattermapbox\":[{\"type\":\"scattermapbox\",\"marker\":{\"colorbar\":{\"outlinewidth\":0,\"ticks\":\"\"}}}],\"scatterternary\":[{\"type\":\"scatterternary\",\"marker\":{\"colorbar\":{\"outlinewidth\":0,\"ticks\":\"\"}}}],\"scattercarpet\":[{\"type\":\"scattercarpet\",\"marker\":{\"colorbar\":{\"outlinewidth\":0,\"ticks\":\"\"}}}],\"carpet\":[{\"aaxis\":{\"endlinecolor\":\"#2a3f5f\",\"gridcolor\":\"white\",\"linecolor\":\"white\",\"minorgridcolor\":\"white\",\"startlinecolor\":\"#2a3f5f\"},\"baxis\":{\"endlinecolor\":\"#2a3f5f\",\"gridcolor\":\"white\",\"linecolor\":\"white\",\"minorgridcolor\":\"white\",\"startlinecolor\":\"#2a3f5f\"},\"type\":\"carpet\"}],\"table\":[{\"cells\":{\"fill\":{\"color\":\"#EBF0F8\"},\"line\":{\"color\":\"white\"}},\"header\":{\"fill\":{\"color\":\"#C8D4E3\"},\"line\":{\"color\":\"white\"}},\"type\":\"table\"}],\"barpolar\":[{\"marker\":{\"line\":{\"color\":\"#E5ECF6\",\"width\":0.5},\"pattern\":{\"fillmode\":\"overlay\",\"size\":10,\"solidity\":0.2}},\"type\":\"barpolar\"}],\"pie\":[{\"automargin\":true,\"type\":\"pie\"}]},\"layout\":{\"autotypenumbers\":\"strict\",\"colorway\":[\"#636efa\",\"#EF553B\",\"#00cc96\",\"#ab63fa\",\"#FFA15A\",\"#19d3f3\",\"#FF6692\",\"#B6E880\",\"#FF97FF\",\"#FECB52\"],\"font\":{\"color\":\"#2a3f5f\"},\"hovermode\":\"closest\",\"hoverlabel\":{\"align\":\"left\"},\"paper_bgcolor\":\"white\",\"plot_bgcolor\":\"#E5ECF6\",\"polar\":{\"bgcolor\":\"#E5ECF6\",\"angularaxis\":{\"gridcolor\":\"white\",\"linecolor\":\"white\",\"ticks\":\"\"},\"radialaxis\":{\"gridcolor\":\"white\",\"linecolor\":\"white\",\"ticks\":\"\"}},\"ternary\":{\"bgcolor\":\"#E5ECF6\",\"aaxis\":{\"gridcolor\":\"white\",\"linecolor\":\"white\",\"ticks\":\"\"},\"baxis\":{\"gridcolor\":\"white\",\"linecolor\":\"white\",\"ticks\":\"\"},\"caxis\":{\"gridcolor\":\"white\",\"linecolor\":\"white\",\"ticks\":\"\"}},\"coloraxis\":{\"colorbar\":{\"outlinewidth\":0,\"ticks\":\"\"}},\"colorscale\":{\"sequential\":[[0.0,\"#0d0887\"],[0.1111111111111111,\"#46039f\"],[0.2222222222222222,\"#7201a8\"],[0.3333333333333333,\"#9c179e\"],[0.4444444444444444,\"#bd3786\"],[0.5555555555555556,\"#d8576b\"],[0.6666666666666666,\"#ed7953\"],[0.7777777777777778,\"#fb9f3a\"],[0.8888888888888888,\"#fdca26\"],[1.0,\"#f0f921\"]],\"sequentialminus\":[[0.0,\"#0d0887\"],[0.1111111111111111,\"#46039f\"],[0.2222222222222222,\"#7201a8\"],[0.3333333333333333,\"#9c179e\"],[0.4444444444444444,\"#bd3786\"],[0.5555555555555556,\"#d8576b\"],[0.6666666666666666,\"#ed7953\"],[0.7777777777777778,\"#fb9f3a\"],[0.8888888888888888,\"#fdca26\"],[1.0,\"#f0f921\"]],\"diverging\":[[0,\"#8e0152\"],[0.1,\"#c51b7d\"],[0.2,\"#de77ae\"],[0.3,\"#f1b6da\"],[0.4,\"#fde0ef\"],[0.5,\"#f7f7f7\"],[0.6,\"#e6f5d0\"],[0.7,\"#b8e186\"],[0.8,\"#7fbc41\"],[0.9,\"#4d9221\"],[1,\"#276419\"]]},\"xaxis\":{\"gridcolor\":\"white\",\"linecolor\":\"white\",\"ticks\":\"\",\"title\":{\"standoff\":15},\"zerolinecolor\":\"white\",\"automargin\":true,\"zerolinewidth\":2},\"yaxis\":{\"gridcolor\":\"white\",\"linecolor\":\"white\",\"ticks\":\"\",\"title\":{\"standoff\":15},\"zerolinecolor\":\"white\",\"automargin\":true,\"zerolinewidth\":2},\"scene\":{\"xaxis\":{\"backgroundcolor\":\"#E5ECF6\",\"gridcolor\":\"white\",\"linecolor\":\"white\",\"showbackground\":true,\"ticks\":\"\",\"zerolinecolor\":\"white\",\"gridwidth\":2},\"yaxis\":{\"backgroundcolor\":\"#E5ECF6\",\"gridcolor\":\"white\",\"linecolor\":\"white\",\"showbackground\":true,\"ticks\":\"\",\"zerolinecolor\":\"white\",\"gridwidth\":2},\"zaxis\":{\"backgroundcolor\":\"#E5ECF6\",\"gridcolor\":\"white\",\"linecolor\":\"white\",\"showbackground\":true,\"ticks\":\"\",\"zerolinecolor\":\"white\",\"gridwidth\":2}},\"shapedefaults\":{\"line\":{\"color\":\"#2a3f5f\"}},\"annotationdefaults\":{\"arrowcolor\":\"#2a3f5f\",\"arrowhead\":0,\"arrowwidth\":1},\"geo\":{\"bgcolor\":\"white\",\"landcolor\":\"#E5ECF6\",\"subunitcolor\":\"white\",\"showland\":true,\"showlakes\":true,\"lakecolor\":\"white\"},\"title\":{\"x\":0.05},\"mapbox\":{\"style\":\"light\"}}},\"xaxis\":{\"anchor\":\"y\",\"domain\":[0.0,1.0],\"title\":{\"text\":\"product_category\"}},\"yaxis\":{\"anchor\":\"x\",\"domain\":[0.0,1.0],\"title\":{\"text\":\"counts\"}},\"legend\":{\"title\":{\"text\":\"sentiment\"},\"tracegroupgap\":0},\"margin\":{\"t\":60},\"barmode\":\"group\"},                        {\"responsive\": true}                    ).then(function(){\n",
       "                            \n",
       "var gd = document.getElementById('ed9d5e6e-3f3b-4abb-9a11-0f4a186981df');\n",
       "var x = new MutationObserver(function (mutations, observer) {{\n",
       "        var display = window.getComputedStyle(gd).display;\n",
       "        if (!display || display === 'none') {{\n",
       "            console.log([gd, 'removed!']);\n",
       "            Plotly.purge(gd);\n",
       "            observer.disconnect();\n",
       "        }}\n",
       "}});\n",
       "\n",
       "// Listen for the removal of the full notebook cells\n",
       "var notebookContainer = gd.closest('#notebook-container');\n",
       "if (notebookContainer) {{\n",
       "    x.observe(notebookContainer, {childList: true});\n",
       "}}\n",
       "\n",
       "// Listen for the clearing of the current output cell\n",
       "var outputEl = gd.closest('.output');\n",
       "if (outputEl) {{\n",
       "    x.observe(outputEl, {childList: true});\n",
       "}}\n",
       "\n",
       "                        })                };                });            </script>        </div>"
      ]
     },
     "metadata": {},
     "output_type": "display_data"
    }
   ],
   "source": [
    "px.bar(df, x=\"product_category\",y=\"counts\",color=\"sentiment\",barmode=\"group\")"
   ]
  },
  {
   "cell_type": "code",
   "execution_count": 79,
   "id": "7ab97761-b950-43be-8ea1-b887fa6bca68",
   "metadata": {},
   "outputs": [
    {
     "data": {
      "image/png": "[encoded data removed]",
      "text/plain": [
       "<Figure size 640x480 with 1 Axes>"
      ]
     },
     "metadata": {},
     "output_type": "display_data"
    }
   ],
   "source": [
    "import seaborn as sns\n",
    "import matplotlib.pyplot as plt\n",
    "\n",
    "sns.set_style(\"whitegrid\")\n",
    "\n",
    "sns.barplot(data=df, x=\"product_category\", y=\"counts\", hue=\"sentiment\", palette=\"Set2\")\n",
    "\n",
    "plt.title('Counts of Sentiments by Product Category')\n",
    "plt.xlabel('Product Category')\n",
    "plt.ylabel('Counts')\n",
    "plt.show()"
   ]
  },
  {
   "cell_type": "code",
   "execution_count": null,
   "id": "62fb0990-62e8-493b-9ccd-bae971ce1ba1",
   "metadata": {},
   "outputs": [],
   "source": []
  }
 ],
 "metadata": {
  "kernelspec": {
   "display_name": "Python 3 (ipykernel)",
   "language": "python",
   "name": "python3"
  },
  "language_info": {
   "codemirror_mode": {
    "name": "ipython",
    "version": 3
   },
   "file_extension": ".py",
   "mimetype": "text/x-python",
   "name": "python",
   "nbconvert_exporter": "python",
   "pygments_lexer": "ipython3",
   "version": "3.11.5"
  }
 },
 "nbformat": 4,
 "nbformat_minor": 5
}
