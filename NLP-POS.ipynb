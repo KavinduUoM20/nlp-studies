{
 "cells": [
  {
   "cell_type": "markdown",
   "id": "505f17ae-bff2-4174-b7be-31b8d50a6580",
   "metadata": {},
   "source": [
    "## Parts of Speech (POS)"
   ]
  },
  {
   "cell_type": "code",
   "execution_count": null,
   "id": "5c9c5981-ddfd-491c-bed9-0f2d705533df",
   "metadata": {},
   "outputs": [],
   "source": []
  }
 ],
 "metadata": {
  "kernelspec": {
   "display_name": "Python 3 (ipykernel)",
   "language": "python",
   "name": "python3"
  },
  "language_info": {
   "codemirror_mode": {
    "name": "ipython",
    "version": 3
   },
   "file_extension": ".py",
   "mimetype": "text/x-python",
   "name": "python",
   "nbconvert_exporter": "python",
   "pygments_lexer": "ipython3",
   "version": "3.11.5"
  }
 },
 "nbformat": 4,
 "nbformat_minor": 5
}
