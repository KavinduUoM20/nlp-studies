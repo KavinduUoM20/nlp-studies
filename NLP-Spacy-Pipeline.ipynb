{
 "cells": [
  {
   "cell_type": "markdown",
   "id": "24b7f06a-2fab-4553-b7f1-9839a923bdef",
   "metadata": {},
   "source": [
    "## Spacy Pipeline"
   ]
  },
  {
   "cell_type": "code",
   "execution_count": 1,
   "id": "5ecf31f6-2b33-492d-8fd8-c0f7e769a38c",
   "metadata": {},
   "outputs": [],
   "source": [
    "import spacy"
   ]
  },
  {
   "cell_type": "code",
   "execution_count": 3,
   "id": "03bf1543-2f2c-41ef-a5cd-80dff6fa072c",
   "metadata": {},
   "outputs": [
    {
     "name": "stdout",
     "output_type": "stream",
     "text": [
      "The\n",
      "vintage\n",
      "watch\n",
      "was\n",
      "a\n",
      "steal\n",
      "at\n",
      "just\n",
      "$\n",
      "145\n",
      ",\n",
      "a\n",
      "fraction\n",
      "of\n",
      "its\n",
      "original\n",
      "price\n",
      ".\n"
     ]
    }
   ],
   "source": [
    "nlp = spacy.blank(\"en\")\n",
    "\n",
    "doc = nlp(\"The vintage watch was a steal at just $145, a fraction of its original price.\")\n",
    "\n",
    "for token in doc:\n",
    "    print(token)"
   ]
  },
  {
   "cell_type": "code",
   "execution_count": 11,
   "id": "6093bd87-6614-4cab-9aa7-a3060685f29f",
   "metadata": {},
   "outputs": [
    {
     "ename": "AttributeError",
     "evalue": "'spacy.tokens.doc.Doc' object has no attribute 'sent'",
     "output_type": "error",
     "traceback": [
      "\u001b[1;31m---------------------------------------------------------------------------\u001b[0m",
      "\u001b[1;31mAttributeError\u001b[0m                            Traceback (most recent call last)",
      "Cell \u001b[1;32mIn[11], line 1\u001b[0m\n\u001b[1;32m----> 1\u001b[0m \u001b[38;5;28;01mfor\u001b[39;00m token \u001b[38;5;129;01min\u001b[39;00m \u001b[43mdoc\u001b[49m\u001b[38;5;241;43m.\u001b[39;49m\u001b[43msent\u001b[49m:\n\u001b[0;32m      2\u001b[0m     \u001b[38;5;28mprint\u001b[39m(token)\n",
      "\u001b[1;31mAttributeError\u001b[0m: 'spacy.tokens.doc.Doc' object has no attribute 'sent'"
     ]
    }
   ],
   "source": [
    "for token in doc.sents:\n",
    "    print(token)"
   ]
  },
  {
   "cell_type": "code",
   "execution_count": 5,
   "id": "6cc0e73c-a607-464a-be76-5fb7de0f8be4",
   "metadata": {},
   "outputs": [
    {
     "data": {
      "text/plain": [
       "[]"
      ]
     },
     "execution_count": 5,
     "metadata": {},
     "output_type": "execute_result"
    }
   ],
   "source": [
    "nlp.pipe_names"
   ]
  },
  {
   "cell_type": "markdown",
   "id": "e79acf25-a3ce-45c0-a7e8-d09ceb10eaec",
   "metadata": {},
   "source": [
    "Error is because the components of the pipeline are missing. We need to have a certain components to get the sentences."
   ]
  },
  {
   "cell_type": "code",
   "execution_count": 6,
   "id": "cf96f65a-fc9d-4e06-8564-0e08f1ae89a9",
   "metadata": {},
   "outputs": [],
   "source": [
    "nlp = spacy.load(\"en_core_web_sm\")"
   ]
  },
  {
   "cell_type": "code",
   "execution_count": 9,
   "id": "00adc625-922d-4e26-b72a-8470d2cc206f",
   "metadata": {},
   "outputs": [
    {
     "name": "stdout",
     "output_type": "stream",
     "text": [
      "The vintage watch was a steal at just $145, a fraction of its original price.\n"
     ]
    }
   ],
   "source": [
    "doc = nlp(\"The vintage watch was a steal at just $145, a fraction of its original price.\")\n",
    "\n",
    "for token in doc.sents:\n",
    "    print(token)"
   ]
  },
  {
   "cell_type": "code",
   "execution_count": 12,
   "id": "b8e5ec4f-34f7-4d0d-8ced-85f6bab39d46",
   "metadata": {},
   "outputs": [
    {
     "data": {
      "text/plain": [
       "['tok2vec', 'tagger', 'parser', 'attribute_ruler', 'lemmatizer', 'ner']"
      ]
     },
     "execution_count": 12,
     "metadata": {},
     "output_type": "execute_result"
    }
   ],
   "source": [
    "nlp.pipe_names"
   ]
  },
  {
   "cell_type": "markdown",
   "id": "241aa3d0-519a-4549-9845-e422cf3659e1",
   "metadata": {},
   "source": [
    "#### Lemmatization"
   ]
  },
  {
   "cell_type": "code",
   "execution_count": 14,
   "id": "8ad83243-c3ba-4a94-a4df-953ae0f60913",
   "metadata": {},
   "outputs": [
    {
     "name": "stdout",
     "output_type": "stream",
     "text": [
      "The ----- DET ----- the\n",
      "vintage ----- ADJ ----- vintage\n",
      "watch ----- NOUN ----- watch\n",
      "was ----- AUX ----- be\n",
      "a ----- DET ----- a\n",
      "steal ----- NOUN ----- steal\n",
      "at ----- ADP ----- at\n",
      "just ----- ADV ----- just\n",
      "$ ----- SYM ----- $\n",
      "145 ----- NUM ----- 145\n",
      ", ----- PUNCT ----- ,\n",
      "a ----- DET ----- a\n",
      "fraction ----- NOUN ----- fraction\n",
      "of ----- ADP ----- of\n",
      "its ----- PRON ----- its\n",
      "original ----- ADJ ----- original\n",
      "price ----- NOUN ----- price\n",
      ". ----- PUNCT ----- .\n"
     ]
    }
   ],
   "source": [
    "for token in doc:\n",
    "    print(token,\"-----\",token.pos_,\"-----\",token.lemma_)"
   ]
  },
  {
   "cell_type": "markdown",
   "id": "39cc3146-1cfb-498d-8156-3279a0d96c3c",
   "metadata": {},
   "source": [
    "#### Name Entity Recognition"
   ]
  },
  {
   "cell_type": "code",
   "execution_count": 17,
   "id": "edef2687-8fea-4bde-aaa8-a8cf66a87306",
   "metadata": {},
   "outputs": [
    {
     "name": "stdout",
     "output_type": "stream",
     "text": [
      "quarterly ----- DATE ----- Absolute or relative dates or periods\n",
      "Apple Inc. ----- ORG ----- Companies, agencies, institutions, etc.\n",
      "Tesla ----- ORG ----- Companies, agencies, institutions, etc.\n",
      "Amazon ----- ORG ----- Companies, agencies, institutions, etc.\n"
     ]
    }
   ],
   "source": [
    "doc = nlp(\"Investors eagerly awaited the quarterly earnings reports of Apple Inc., Tesla, and Amazon, anticipating their impact on the stock market.\")\n",
    "\n",
    "for token in doc.ents:\n",
    "    print(token.text, \"-----\",token.label_,\"-----\",spacy.explain(token.label_))"
   ]
  },
  {
   "cell_type": "code",
   "execution_count": 18,
   "id": "e762468f-fefc-488f-9363-2e66da3a2971",
   "metadata": {},
   "outputs": [],
   "source": [
    "from spacy import displacy"
   ]
  },
  {
   "cell_type": "code",
   "execution_count": 19,
   "id": "2cb99906-af8f-4afd-830f-7f59eaa6ba53",
   "metadata": {},
   "outputs": [
    {
     "data": {
      "text/html": [
       "<span class=\"tex2jax_ignore\"><div class=\"entities\" style=\"line-height: 2.5; direction: ltr\">Investors eagerly awaited the \n",
       "<mark class=\"entity\" style=\"background: #bfe1d9; padding: 0.45em 0.6em; margin: 0 0.25em; line-height: 1; border-radius: 0.35em;\">\n",
       "    quarterly\n",
       "    <span style=\"font-size: 0.8em; font-weight: bold; line-height: 1; border-radius: 0.35em; vertical-align: middle; margin-left: 0.5rem\">DATE</span>\n",
       "</mark>\n",
       " earnings reports of \n",
       "<mark class=\"entity\" style=\"background: #7aecec; padding: 0.45em 0.6em; margin: 0 0.25em; line-height: 1; border-radius: 0.35em;\">\n",
       "    Apple Inc.\n",
       "    <span style=\"font-size: 0.8em; font-weight: bold; line-height: 1; border-radius: 0.35em; vertical-align: middle; margin-left: 0.5rem\">ORG</span>\n",
       "</mark>\n",
       ", \n",
       "<mark class=\"entity\" style=\"background: #7aecec; padding: 0.45em 0.6em; margin: 0 0.25em; line-height: 1; border-radius: 0.35em;\">\n",
       "    Tesla\n",
       "    <span style=\"font-size: 0.8em; font-weight: bold; line-height: 1; border-radius: 0.35em; vertical-align: middle; margin-left: 0.5rem\">ORG</span>\n",
       "</mark>\n",
       ", and \n",
       "<mark class=\"entity\" style=\"background: #7aecec; padding: 0.45em 0.6em; margin: 0 0.25em; line-height: 1; border-radius: 0.35em;\">\n",
       "    Amazon\n",
       "    <span style=\"font-size: 0.8em; font-weight: bold; line-height: 1; border-radius: 0.35em; vertical-align: middle; margin-left: 0.5rem\">ORG</span>\n",
       "</mark>\n",
       ", anticipating their impact on the stock market.</div></span>"
      ],
      "text/plain": [
       "<IPython.core.display.HTML object>"
      ]
     },
     "metadata": {},
     "output_type": "display_data"
    }
   ],
   "source": [
    "displacy.render(doc, style=\"ent\")"
   ]
  }
 ],
 "metadata": {
  "kernelspec": {
   "display_name": "Python 3 (ipykernel)",
   "language": "python",
   "name": "python3"
  },
  "language_info": {
   "codemirror_mode": {
    "name": "ipython",
    "version": 3
   },
   "file_extension": ".py",
   "mimetype": "text/x-python",
   "name": "python",
   "nbconvert_exporter": "python",
   "pygments_lexer": "ipython3",
   "version": "3.11.5"
  }
 },
 "nbformat": 4,
 "nbformat_minor": 5
}
