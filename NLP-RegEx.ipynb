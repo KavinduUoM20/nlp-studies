{
 "cells": [
  {
   "cell_type": "code",
   "execution_count": 1,
   "id": "94d1b410-3aec-480e-942d-563377c755f8",
   "metadata": {},
   "outputs": [],
   "source": [
    "import re"
   ]
  },
  {
   "cell_type": "markdown",
   "id": "b3b31a83-6d6f-40cb-9a62-c51b10017470",
   "metadata": {},
   "source": [
    "### 1. Extract Numbers"
   ]
  },
  {
   "cell_type": "code",
   "execution_count": 17,
   "id": "7923f284-ca57-4ac2-905e-e57df526b59f",
   "metadata": {},
   "outputs": [],
   "source": [
    "chat1 = \"Sure thing! Here's a number: 555-123-4567. Drop a text or call anytime!\"\n",
    "chat2 = \"Absolutely! Reach out at 555.987.6543 whenever you need assistance. I'm just a call away!\"\n",
    "chat3 = \"Need to get in touch? Dial (555)-567-8901. and also 0994561234 Looking forward to connecting!\"\n",
    "chat4 = \"Feel free to ring me up at 555/345/6789. Always here to chat!\""
   ]
  },
  {
   "cell_type": "code",
   "execution_count": 18,
   "id": "2336acbf-7216-4145-921f-3342a68d0b47",
   "metadata": {},
   "outputs": [],
   "source": [
    "#pattern = '\\d{3}'\n",
    "#pattern = '\\(\\d{3}\\)'\n",
    "#pattern = '\\(\\d{3}\\)-\\d{3}-\\d{4}'\n",
    "pattern = '\\d{10}|\\(\\d{3}\\)-\\d{3}-\\d{4}'\n",
    "matches = re.findall(pattern,chat3)"
   ]
  },
  {
   "cell_type": "code",
   "execution_count": 19,
   "id": "5d69533e-f419-479b-9a5b-6613c8e4d569",
   "metadata": {},
   "outputs": [
    {
     "data": {
      "text/plain": [
       "['(555)-567-8901', '0994561234']"
      ]
     },
     "execution_count": 19,
     "metadata": {},
     "output_type": "execute_result"
    }
   ],
   "source": [
    "matches"
   ]
  },
  {
   "cell_type": "markdown",
   "id": "98ee5d79-b64a-450d-9491-d1bdc204c108",
   "metadata": {},
   "source": [
    "### 2. Extract Emails"
   ]
  },
  {
   "cell_type": "code",
   "execution_count": 20,
   "id": "bf114187-3497-4e3e-ab29-e3e195aefa9f",
   "metadata": {},
   "outputs": [],
   "source": [
    "email1 = \"For any queries, feel free to email us at support@companyname.net. We're here to assist you!\"\n",
    "email2 = \"Have questions? Drop us a line at info@yourbusiness.org, and we'll provide the information you need.\"\n",
    "email3 = \"Need assistance? Reach out via email at help@organizationname.io, and we'll be glad to help you out!\""
   ]
  },
  {
   "cell_type": "code",
   "execution_count": 38,
   "id": "86c3ef41-4fa2-4f6f-89c8-00c09503a75f",
   "metadata": {},
   "outputs": [],
   "source": [
    "#Extract emails\n",
    "mailtexts = [email1,email2,email3]\n",
    "emails = []\n",
    "for text in mailtexts:\n",
    "    pattern = '[a-z0-9A-Z]*@[a-z0-9A-Z]*\\.[a-zA-Z]*'\n",
    "    email = re.findall(pattern,text)\n",
    "    emails.append(''.join(email))"
   ]
  },
  {
   "cell_type": "code",
   "execution_count": 39,
   "id": "e56acb69-d288-48ae-8819-a5093d047792",
   "metadata": {},
   "outputs": [
    {
     "data": {
      "text/plain": [
       "['support@companyname.net',\n",
       " 'info@yourbusiness.org',\n",
       " 'help@organizationname.io']"
      ]
     },
     "execution_count": 39,
     "metadata": {},
     "output_type": "execute_result"
    }
   ],
   "source": [
    "emails"
   ]
  },
  {
   "cell_type": "markdown",
   "id": "c7a8ce64-aea1-4ff5-a7c6-a84cee63488a",
   "metadata": {},
   "source": [
    "### 3. Extract Orders"
   ]
  },
  {
   "cell_type": "code",
   "execution_count": 40,
   "id": "3b7793de-54e9-43d7-b27e-5202ec65239f",
   "metadata": {},
   "outputs": [],
   "source": [
    "query1 = \"I recently received my order (#54321), but upon opening the package\"\n",
    "query2 = \"I received my order #98765 yesterday, but unfortunately, one of the items seems to be damaged.\"\n",
    "query3 = \"My order number is #12345. Could you please provide an update on when I can expect delivery?\""
   ]
  },
  {
   "cell_type": "code",
   "execution_count": 42,
   "id": "81456840-1315-4191-9995-1155c87fa7da",
   "metadata": {},
   "outputs": [
    {
     "data": {
      "text/plain": [
       "['order (#54321', 'order #98765', 'order number is #12345']"
      ]
     },
     "execution_count": 42,
     "metadata": {},
     "output_type": "execute_result"
    }
   ],
   "source": [
    "queries = [query1,query2,query3]\n",
    "pattern = 'order[^\\d]*\\d{5}'\n",
    "orders = []\n",
    "for i in queries:\n",
    "    order = re.findall(pattern,i)\n",
    "    orders.append(''.join(order))\n",
    "orders"
   ]
  },
  {
   "cell_type": "markdown",
   "id": "fee105fb-2eee-4cce-97ba-39a28794652a",
   "metadata": {},
   "source": [
    "### 4. Extract Person Names"
   ]
  },
  {
   "cell_type": "code",
   "execution_count": 43,
   "id": "fb40ba90-0148-4482-a623-3f30ddf40d98",
   "metadata": {},
   "outputs": [],
   "source": [
    "text1 = \"\"\"Born\tElon Reeve Musk\n",
    "June 28, 1971 (age 52)\n",
    "Pretoria, Transvaal, South Africa\n",
    "Citizenship\t\n",
    "South Africa\n",
    "Canada\n",
    "United States\n",
    "Education\tUniversity of Pennsylvania (BA, BS)\n",
    "Title\t\n",
    "Founder, CEO, and chief engineer of SpaceX\"\"\"\n",
    "\n",
    "text2 = \"\"\"Born\tMukesh Dhirubhai Ambani\n",
    "19 April 1957 (age 67)\n",
    "Aden, Colony of Aden\n",
    "(present-day Yemen)[1][2]\n",
    "Nationality\tIndian\n",
    "Alma mater\t\n",
    "St. Xavier's College, Mumbai\n",
    "Institute of Chemical Technology (B.E.)\n",
    "Occupation(s)\tChairman and MD, Reliance Industries\"\"\""
   ]
  },
  {
   "cell_type": "code",
   "execution_count": 61,
   "id": "0acb6bbc-1877-4889-94a6-a37f69127843",
   "metadata": {},
   "outputs": [],
   "source": [
    "#Extract Name\n",
    "def extract_name(text):\n",
    "    pattern = 'Born(.*)'\n",
    "    nameline = re.findall(pattern,text)\n",
    "    nameline = ''.join(nameline)\n",
    "    print(nameline)"
   ]
  },
  {
   "cell_type": "code",
   "execution_count": 62,
   "id": "8cbbe553-193f-431b-9a54-11adbb7adff8",
   "metadata": {},
   "outputs": [
    {
     "name": "stdout",
     "output_type": "stream",
     "text": [
      "\tElon Reeve Musk\n"
     ]
    }
   ],
   "source": [
    "extract_name(text1)"
   ]
  },
  {
   "cell_type": "code",
   "execution_count": null,
   "id": "bcbee3e7-482a-4e8b-9b0d-e3f57bad6cce",
   "metadata": {},
   "outputs": [],
   "source": []
  }
 ],
 "metadata": {
  "kernelspec": {
   "display_name": "Python 3 (ipykernel)",
   "language": "python",
   "name": "python3"
  },
  "language_info": {
   "codemirror_mode": {
    "name": "ipython",
    "version": 3
   },
   "file_extension": ".py",
   "mimetype": "text/x-python",
   "name": "python",
   "nbconvert_exporter": "python",
   "pygments_lexer": "ipython3",
   "version": "3.11.5"
  }
 },
 "nbformat": 4,
 "nbformat_minor": 5
}
