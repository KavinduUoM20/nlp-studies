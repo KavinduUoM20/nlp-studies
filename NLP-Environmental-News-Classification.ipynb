{
 "cells": [
  {
   "cell_type": "markdown",
   "metadata": {
    "papermill": {
     "duration": 0.069292,
     "end_time": "2020-12-26T10:33:04.140438",
     "exception": false,
     "start_time": "2020-12-26T10:33:04.071146",
     "status": "completed"
    },
    "tags": []
   },
   "source": [
    "<a class=\"anchor\" id=\"0.1\"></a>\n",
    "## Table of Contents\n",
    "\n",
    "1. [Acknowledgements](#1)\n",
    "1. [Import libraries](#2)\n",
    "1. [Download data](#3)\n",
    "1. [EDA](#4)\n",
    "1. [Data Cleaning](#5)\n",
    "1. [WordCloud](#6)\n",
    "1. [Bag of Words Counts](#7)\n",
    "1. [TF IDF](#8)\n",
    "1. [GloVe](#9)\n",
    "1. [Showing Confusion Matrix for GloVe](#10)"
   ]
  },
  {
   "cell_type": "markdown",
   "metadata": {
    "papermill": {
     "duration": 0.06816,
     "end_time": "2020-12-26T10:33:04.414883",
     "exception": false,
     "start_time": "2020-12-26T10:33:04.346723",
     "status": "completed"
    },
    "tags": []
   },
   "source": [
    "## 2. Import libraries <a class=\"anchor\" id=\"2\"></a>"
   ]
  },
  {
   "cell_type": "code",
   "execution_count": 1,
   "metadata": {
    "execution": {
     "iopub.execute_input": "2020-12-26T10:33:04.588676Z",
     "iopub.status.busy": "2020-12-26T10:33:04.587596Z",
     "iopub.status.idle": "2020-12-26T10:33:16.208331Z",
     "shell.execute_reply": "2020-12-26T10:33:16.207197Z"
    },
    "papermill": {
     "duration": 11.725823,
     "end_time": "2020-12-26T10:33:16.208482",
     "exception": false,
     "start_time": "2020-12-26T10:33:04.482659",
     "status": "completed"
    },
    "tags": []
   },
   "outputs": [],
   "source": [
    "import pandas as pd\n",
    "import numpy as np\n",
    "import os\n",
    "\n",
    "import matplotlib\n",
    "import matplotlib.pyplot as plt\n",
    "import matplotlib.patches as mpatches\n",
    "import seaborn as sns\n",
    "\n",
    "from nltk.corpus import stopwords\n",
    "from nltk.util import ngrams\n",
    "\n",
    "from wordcloud import WordCloud\n",
    "\n",
    "from sklearn.feature_extraction.text import CountVectorizer, TfidfVectorizer\n",
    "from sklearn.model_selection import train_test_split\n",
    "from sklearn.decomposition import PCA, TruncatedSVD\n",
    "from sklearn.metrics import classification_report, confusion_matrix, accuracy_score\n",
    "\n",
    "from collections import defaultdict\n",
    "from collections import Counter\n",
    "plt.style.use('ggplot')\n",
    "stop=set(stopwords.words('english'))\n",
    "\n",
    "import re\n",
    "from nltk.tokenize import word_tokenize\n",
    "import gensim\n",
    "import string\n",
    "\n",
    "from tqdm import tqdm\n",
    "from keras.preprocessing.text import Tokenizer\n",
    "from keras.preprocessing.sequence import pad_sequences\n",
    "from keras.models import Sequential\n",
    "from keras.layers import Embedding, LSTM,Dense, SpatialDropout1D, Dropout\n",
    "from keras.initializers import Constant\n",
    "from keras.optimizers import Adam\n",
    "\n",
    "import warnings\n",
    "warnings.simplefilter('ignore')"
   ]
  },
  {
   "cell_type": "markdown",
   "metadata": {
    "papermill": {
     "duration": 0.105087,
     "end_time": "2020-12-26T10:33:16.419526",
     "exception": false,
     "start_time": "2020-12-26T10:33:16.314439",
     "status": "completed"
    },
    "tags": []
   },
   "source": [
    "## 3. Download data <a class=\"anchor\" id=\"3\"></a>"
   ]
  },
  {
   "cell_type": "code",
   "execution_count": 2,
   "metadata": {
    "execution": {
     "iopub.execute_input": "2020-12-26T10:33:16.662702Z",
     "iopub.status.busy": "2020-12-26T10:33:16.646175Z",
     "iopub.status.idle": "2020-12-26T10:33:16.717901Z",
     "shell.execute_reply": "2020-12-26T10:33:16.718664Z"
    },
    "papermill": {
     "duration": 0.193778,
     "end_time": "2020-12-26T10:33:16.718849",
     "exception": false,
     "start_time": "2020-12-26T10:33:16.525071",
     "status": "completed"
    },
    "tags": []
   },
   "outputs": [
    {
     "data": {
      "text/html": [
       "<div>\n",
       "<style scoped>\n",
       "    .dataframe tbody tr th:only-of-type {\n",
       "        vertical-align: middle;\n",
       "    }\n",
       "\n",
       "    .dataframe tbody tr th {\n",
       "        vertical-align: top;\n",
       "    }\n",
       "\n",
       "    .dataframe thead th {\n",
       "        text-align: right;\n",
       "    }\n",
       "</style>\n",
       "<table border=\"1\" class=\"dataframe\">\n",
       "  <thead>\n",
       "    <tr style=\"text-align: right;\">\n",
       "      <th></th>\n",
       "      <th>text</th>\n",
       "      <th>env_problems</th>\n",
       "      <th>pollution</th>\n",
       "      <th>treatment</th>\n",
       "      <th>climate</th>\n",
       "      <th>biomonitoring</th>\n",
       "    </tr>\n",
       "  </thead>\n",
       "  <tbody>\n",
       "    <tr>\n",
       "      <th>0</th>\n",
       "      <td>In the Southern Bug basin wastewater is discha...</td>\n",
       "      <td>1</td>\n",
       "      <td>1</td>\n",
       "      <td>0</td>\n",
       "      <td>0</td>\n",
       "      <td>0</td>\n",
       "    </tr>\n",
       "    <tr>\n",
       "      <th>1</th>\n",
       "      <td>This amount is distributed as follows: urban a...</td>\n",
       "      <td>1</td>\n",
       "      <td>1</td>\n",
       "      <td>0</td>\n",
       "      <td>0</td>\n",
       "      <td>0</td>\n",
       "    </tr>\n",
       "    <tr>\n",
       "      <th>2</th>\n",
       "      <td>Despite the similar volumes of discharged wast...</td>\n",
       "      <td>1</td>\n",
       "      <td>1</td>\n",
       "      <td>0</td>\n",
       "      <td>0</td>\n",
       "      <td>0</td>\n",
       "    </tr>\n",
       "    <tr>\n",
       "      <th>3</th>\n",
       "      <td>They bring 84% of organic pollution 86% of pho...</td>\n",
       "      <td>1</td>\n",
       "      <td>1</td>\n",
       "      <td>0</td>\n",
       "      <td>0</td>\n",
       "      <td>0</td>\n",
       "    </tr>\n",
       "    <tr>\n",
       "      <th>4</th>\n",
       "      <td>The input of the industry is between 7–21% and...</td>\n",
       "      <td>1</td>\n",
       "      <td>1</td>\n",
       "      <td>0</td>\n",
       "      <td>0</td>\n",
       "      <td>0</td>\n",
       "    </tr>\n",
       "    <tr>\n",
       "      <th>...</th>\n",
       "      <td>...</td>\n",
       "      <td>...</td>\n",
       "      <td>...</td>\n",
       "      <td>...</td>\n",
       "      <td>...</td>\n",
       "      <td>...</td>\n",
       "    </tr>\n",
       "    <tr>\n",
       "      <th>95</th>\n",
       "      <td>Chemical composition of water bodies shall com...</td>\n",
       "      <td>0</td>\n",
       "      <td>0</td>\n",
       "      <td>0</td>\n",
       "      <td>0</td>\n",
       "      <td>0</td>\n",
       "    </tr>\n",
       "    <tr>\n",
       "      <th>96</th>\n",
       "      <td>According to the Directive provisions water bo...</td>\n",
       "      <td>0</td>\n",
       "      <td>0</td>\n",
       "      <td>0</td>\n",
       "      <td>0</td>\n",
       "      <td>0</td>\n",
       "    </tr>\n",
       "    <tr>\n",
       "      <th>97</th>\n",
       "      <td>Besides in the field of data processing during...</td>\n",
       "      <td>0</td>\n",
       "      <td>0</td>\n",
       "      <td>0</td>\n",
       "      <td>0</td>\n",
       "      <td>0</td>\n",
       "    </tr>\n",
       "    <tr>\n",
       "      <th>98</th>\n",
       "      <td>Use of these values was offered by the Monitor...</td>\n",
       "      <td>0</td>\n",
       "      <td>0</td>\n",
       "      <td>0</td>\n",
       "      <td>0</td>\n",
       "      <td>0</td>\n",
       "    </tr>\n",
       "    <tr>\n",
       "      <th>99</th>\n",
       "      <td>To determine confidence levels for assessment ...</td>\n",
       "      <td>0</td>\n",
       "      <td>0</td>\n",
       "      <td>0</td>\n",
       "      <td>0</td>\n",
       "      <td>0</td>\n",
       "    </tr>\n",
       "  </tbody>\n",
       "</table>\n",
       "<p>100 rows × 6 columns</p>\n",
       "</div>"
      ],
      "text/plain": [
       "                                                 text  env_problems  \\\n",
       "0   In the Southern Bug basin wastewater is discha...             1   \n",
       "1   This amount is distributed as follows: urban a...             1   \n",
       "2   Despite the similar volumes of discharged wast...             1   \n",
       "3   They bring 84% of organic pollution 86% of pho...             1   \n",
       "4   The input of the industry is between 7–21% and...             1   \n",
       "..                                                ...           ...   \n",
       "95  Chemical composition of water bodies shall com...             0   \n",
       "96  According to the Directive provisions water bo...             0   \n",
       "97  Besides in the field of data processing during...             0   \n",
       "98  Use of these values was offered by the Monitor...             0   \n",
       "99  To determine confidence levels for assessment ...             0   \n",
       "\n",
       "    pollution  treatment  climate  biomonitoring  \n",
       "0           1          0        0              0  \n",
       "1           1          0        0              0  \n",
       "2           1          0        0              0  \n",
       "3           1          0        0              0  \n",
       "4           1          0        0              0  \n",
       "..        ...        ...      ...            ...  \n",
       "95          0          0        0              0  \n",
       "96          0          0        0              0  \n",
       "97          0          0        0              0  \n",
       "98          0          0        0              0  \n",
       "99          0          0        0              0  \n",
       "\n",
       "[100 rows x 6 columns]"
      ]
     },
     "execution_count": 2,
     "metadata": {},
     "output_type": "execute_result"
    }
   ],
   "source": [
    "data = pd.read_csv('../input/nlp-reports-news-classification/water_problem_nlp_en_for_Kaggle_100.csv', delimiter=';', header=0)\n",
    "data = data.fillna(0)\n",
    "\n",
    "convert_dict = {'text': str, \n",
    "                'env_problems': int,\n",
    "                'pollution': int, \n",
    "                'treatment': int,\n",
    "                'climate': int,\n",
    "                'biomonitoring': int} \n",
    "  \n",
    "data = data.astype(convert_dict)\n",
    "data"
   ]
  },
  {
   "cell_type": "code",
   "execution_count": 3,
   "metadata": {
    "execution": {
     "iopub.execute_input": "2020-12-26T10:33:16.964348Z",
     "iopub.status.busy": "2020-12-26T10:33:16.948746Z",
     "iopub.status.idle": "2020-12-26T10:33:16.968810Z",
     "shell.execute_reply": "2020-12-26T10:33:16.969584Z"
    },
    "papermill": {
     "duration": 0.136714,
     "end_time": "2020-12-26T10:33:16.969767",
     "exception": false,
     "start_time": "2020-12-26T10:33:16.833053",
     "status": "completed"
    },
    "tags": []
   },
   "outputs": [
    {
     "data": {
      "text/html": [
       "<div>\n",
       "<style scoped>\n",
       "    .dataframe tbody tr th:only-of-type {\n",
       "        vertical-align: middle;\n",
       "    }\n",
       "\n",
       "    .dataframe tbody tr th {\n",
       "        vertical-align: top;\n",
       "    }\n",
       "\n",
       "    .dataframe thead th {\n",
       "        text-align: right;\n",
       "    }\n",
       "</style>\n",
       "<table border=\"1\" class=\"dataframe\">\n",
       "  <thead>\n",
       "    <tr style=\"text-align: right;\">\n",
       "      <th></th>\n",
       "      <th>text</th>\n",
       "      <th>target</th>\n",
       "    </tr>\n",
       "  </thead>\n",
       "  <tbody>\n",
       "    <tr>\n",
       "      <th>0</th>\n",
       "      <td>In the Southern Bug basin wastewater is discha...</td>\n",
       "      <td>1</td>\n",
       "    </tr>\n",
       "    <tr>\n",
       "      <th>1</th>\n",
       "      <td>This amount is distributed as follows: urban a...</td>\n",
       "      <td>1</td>\n",
       "    </tr>\n",
       "    <tr>\n",
       "      <th>2</th>\n",
       "      <td>Despite the similar volumes of discharged wast...</td>\n",
       "      <td>1</td>\n",
       "    </tr>\n",
       "    <tr>\n",
       "      <th>3</th>\n",
       "      <td>They bring 84% of organic pollution 86% of pho...</td>\n",
       "      <td>1</td>\n",
       "    </tr>\n",
       "    <tr>\n",
       "      <th>4</th>\n",
       "      <td>The input of the industry is between 7–21% and...</td>\n",
       "      <td>1</td>\n",
       "    </tr>\n",
       "    <tr>\n",
       "      <th>...</th>\n",
       "      <td>...</td>\n",
       "      <td>...</td>\n",
       "    </tr>\n",
       "    <tr>\n",
       "      <th>95</th>\n",
       "      <td>Chemical composition of water bodies shall com...</td>\n",
       "      <td>0</td>\n",
       "    </tr>\n",
       "    <tr>\n",
       "      <th>96</th>\n",
       "      <td>According to the Directive provisions water bo...</td>\n",
       "      <td>0</td>\n",
       "    </tr>\n",
       "    <tr>\n",
       "      <th>97</th>\n",
       "      <td>Besides in the field of data processing during...</td>\n",
       "      <td>0</td>\n",
       "    </tr>\n",
       "    <tr>\n",
       "      <th>98</th>\n",
       "      <td>Use of these values was offered by the Monitor...</td>\n",
       "      <td>0</td>\n",
       "    </tr>\n",
       "    <tr>\n",
       "      <th>99</th>\n",
       "      <td>To determine confidence levels for assessment ...</td>\n",
       "      <td>0</td>\n",
       "    </tr>\n",
       "  </tbody>\n",
       "</table>\n",
       "<p>100 rows × 2 columns</p>\n",
       "</div>"
      ],
      "text/plain": [
       "                                                 text  target\n",
       "0   In the Southern Bug basin wastewater is discha...       1\n",
       "1   This amount is distributed as follows: urban a...       1\n",
       "2   Despite the similar volumes of discharged wast...       1\n",
       "3   They bring 84% of organic pollution 86% of pho...       1\n",
       "4   The input of the industry is between 7–21% and...       1\n",
       "..                                                ...     ...\n",
       "95  Chemical composition of water bodies shall com...       0\n",
       "96  According to the Directive provisions water bo...       0\n",
       "97  Besides in the field of data processing during...       0\n",
       "98  Use of these values was offered by the Monitor...       0\n",
       "99  To determine confidence levels for assessment ...       0\n",
       "\n",
       "[100 rows x 2 columns]"
      ]
     },
     "execution_count": 3,
     "metadata": {},
     "output_type": "execute_result"
    }
   ],
   "source": [
    "# Take \"env_problems\" only\n",
    "target_name = 'env_problems'\n",
    "name_for_plot = 'environmental problems'\n",
    "data = data[['text', target_name]]\n",
    "data.columns = ['text', 'target']\n",
    "data"
   ]
  },
  {
   "cell_type": "code",
   "execution_count": 4,
   "metadata": {
    "execution": {
     "iopub.execute_input": "2020-12-26T10:33:17.202795Z",
     "iopub.status.busy": "2020-12-26T10:33:17.201243Z",
     "iopub.status.idle": "2020-12-26T10:33:17.213412Z",
     "shell.execute_reply": "2020-12-26T10:33:17.214099Z"
    },
    "papermill": {
     "duration": 0.128732,
     "end_time": "2020-12-26T10:33:17.214328",
     "exception": false,
     "start_time": "2020-12-26T10:33:17.085596",
     "status": "completed"
    },
    "tags": []
   },
   "outputs": [],
   "source": [
    "# The TASK for this dataset requires that the test set contain at least 40% of the data \n",
    "train, test = train_test_split(data, test_size=0.4, shuffle=True, random_state=0)\n",
    "train_base = train.copy()\n",
    "train_target = train_base['target']\n",
    "test_base = test.copy()\n",
    "test_target = test_base['target']"
   ]
  },
  {
   "cell_type": "code",
   "execution_count": 5,
   "metadata": {
    "execution": {
     "iopub.execute_input": "2020-12-26T10:33:17.448046Z",
     "iopub.status.busy": "2020-12-26T10:33:17.446874Z",
     "iopub.status.idle": "2020-12-26T10:33:17.450776Z",
     "shell.execute_reply": "2020-12-26T10:33:17.451541Z"
    },
    "papermill": {
     "duration": 0.124004,
     "end_time": "2020-12-26T10:33:17.451713",
     "exception": false,
     "start_time": "2020-12-26T10:33:17.327709",
     "status": "completed"
    },
    "tags": []
   },
   "outputs": [
    {
     "name": "stdout",
     "output_type": "stream",
     "text": [
      "There are 100 rows and 2 columns in train\n",
      "There are 40 rows and 2 columns in train\n"
     ]
    }
   ],
   "source": [
    "print('There are {} rows and {} columns in train'.format(data.shape[0],data.shape[1]))\n",
    "print('There are {} rows and {} columns in train'.format(test.shape[0],test.shape[1]))"
   ]
  },
  {
   "cell_type": "code",
   "execution_count": 6,
   "metadata": {
    "execution": {
     "iopub.execute_input": "2020-12-26T10:33:17.684444Z",
     "iopub.status.busy": "2020-12-26T10:33:17.683767Z",
     "iopub.status.idle": "2020-12-26T10:33:17.689223Z",
     "shell.execute_reply": "2020-12-26T10:33:17.688512Z"
    },
    "papermill": {
     "duration": 0.124302,
     "end_time": "2020-12-26T10:33:17.689333",
     "exception": false,
     "start_time": "2020-12-26T10:33:17.565031",
     "status": "completed"
    },
    "tags": []
   },
   "outputs": [
    {
     "data": {
      "text/html": [
       "<div>\n",
       "<style scoped>\n",
       "    .dataframe tbody tr th:only-of-type {\n",
       "        vertical-align: middle;\n",
       "    }\n",
       "\n",
       "    .dataframe tbody tr th {\n",
       "        vertical-align: top;\n",
       "    }\n",
       "\n",
       "    .dataframe thead th {\n",
       "        text-align: right;\n",
       "    }\n",
       "</style>\n",
       "<table border=\"1\" class=\"dataframe\">\n",
       "  <thead>\n",
       "    <tr style=\"text-align: right;\">\n",
       "      <th></th>\n",
       "      <th>text</th>\n",
       "      <th>target</th>\n",
       "    </tr>\n",
       "  </thead>\n",
       "  <tbody>\n",
       "    <tr>\n",
       "      <th>0</th>\n",
       "      <td>In the Southern Bug basin wastewater is discha...</td>\n",
       "      <td>1</td>\n",
       "    </tr>\n",
       "    <tr>\n",
       "      <th>1</th>\n",
       "      <td>This amount is distributed as follows: urban a...</td>\n",
       "      <td>1</td>\n",
       "    </tr>\n",
       "    <tr>\n",
       "      <th>2</th>\n",
       "      <td>Despite the similar volumes of discharged wast...</td>\n",
       "      <td>1</td>\n",
       "    </tr>\n",
       "    <tr>\n",
       "      <th>3</th>\n",
       "      <td>They bring 84% of organic pollution 86% of pho...</td>\n",
       "      <td>1</td>\n",
       "    </tr>\n",
       "    <tr>\n",
       "      <th>4</th>\n",
       "      <td>The input of the industry is between 7–21% and...</td>\n",
       "      <td>1</td>\n",
       "    </tr>\n",
       "    <tr>\n",
       "      <th>5</th>\n",
       "      <td>Settlements that do not have sewage systems us...</td>\n",
       "      <td>1</td>\n",
       "    </tr>\n",
       "    <tr>\n",
       "      <th>6</th>\n",
       "      <td>Equipment of WWTPs is very worn-out the amount...</td>\n",
       "      <td>1</td>\n",
       "    </tr>\n",
       "    <tr>\n",
       "      <th>7</th>\n",
       "      <td>The current state of sewage networks is a sour...</td>\n",
       "      <td>1</td>\n",
       "    </tr>\n",
       "    <tr>\n",
       "      <th>8</th>\n",
       "      <td>Consequently in Ukraine on average 2 accidents...</td>\n",
       "      <td>1</td>\n",
       "    </tr>\n",
       "    <tr>\n",
       "      <th>9</th>\n",
       "      <td>The load of pollutants from accidental dischar...</td>\n",
       "      <td>0</td>\n",
       "    </tr>\n",
       "  </tbody>\n",
       "</table>\n",
       "</div>"
      ],
      "text/plain": [
       "                                                text  target\n",
       "0  In the Southern Bug basin wastewater is discha...       1\n",
       "1  This amount is distributed as follows: urban a...       1\n",
       "2  Despite the similar volumes of discharged wast...       1\n",
       "3  They bring 84% of organic pollution 86% of pho...       1\n",
       "4  The input of the industry is between 7–21% and...       1\n",
       "5  Settlements that do not have sewage systems us...       1\n",
       "6  Equipment of WWTPs is very worn-out the amount...       1\n",
       "7  The current state of sewage networks is a sour...       1\n",
       "8  Consequently in Ukraine on average 2 accidents...       1\n",
       "9  The load of pollutants from accidental dischar...       0"
      ]
     },
     "execution_count": 6,
     "metadata": {},
     "output_type": "execute_result"
    }
   ],
   "source": [
    "data.head(10)"
   ]
  },
  {
   "cell_type": "markdown",
   "metadata": {
    "papermill": {
     "duration": 0.073808,
     "end_time": "2020-12-26T10:33:17.836816",
     "exception": false,
     "start_time": "2020-12-26T10:33:17.763008",
     "status": "completed"
    },
    "tags": []
   },
   "source": [
    "## 4. EDA <a class=\"anchor\" id=\"4\"></a>"
   ]
  },
  {
   "cell_type": "markdown",
   "metadata": {
    "papermill": {
     "duration": 0.076883,
     "end_time": "2020-12-26T10:33:18.136314",
     "exception": false,
     "start_time": "2020-12-26T10:33:18.059431",
     "status": "completed"
    },
    "tags": []
   },
   "source": [
    "### Class distribution"
   ]
  },
  {
   "cell_type": "markdown",
   "metadata": {
    "papermill": {
     "duration": 0.073049,
     "end_time": "2020-12-26T10:33:18.285312",
     "exception": false,
     "start_time": "2020-12-26T10:33:18.212263",
     "status": "completed"
    },
    "tags": []
   },
   "source": [
    "Before we begin with anything else, let's check the class distribution."
   ]
  },
  {
   "cell_type": "code",
   "execution_count": 7,
   "metadata": {
    "execution": {
     "iopub.execute_input": "2020-12-26T10:33:18.441560Z",
     "iopub.status.busy": "2020-12-26T10:33:18.440844Z",
     "iopub.status.idle": "2020-12-26T10:33:18.481125Z",
     "shell.execute_reply": "2020-12-26T10:33:18.480484Z"
    },
    "papermill": {
     "duration": 0.117721,
     "end_time": "2020-12-26T10:33:18.481273",
     "exception": false,
     "start_time": "2020-12-26T10:33:18.363552",
     "status": "completed"
    },
    "tags": []
   },
   "outputs": [],
   "source": [
    "# extracting the number of examples of each class\n",
    "Real_len = data[data['target'] == 1].shape[0]\n",
    "Not_len = data[data['target'] == 0].shape[0]"
   ]
  },
  {
   "cell_type": "code",
   "execution_count": 8,
   "metadata": {
    "execution": {
     "iopub.execute_input": "2020-12-26T10:33:18.635911Z",
     "iopub.status.busy": "2020-12-26T10:33:18.635106Z",
     "iopub.status.idle": "2020-12-26T10:33:18.903862Z",
     "shell.execute_reply": "2020-12-26T10:33:18.903019Z"
    },
    "papermill": {
     "duration": 0.348723,
     "end_time": "2020-12-26T10:33:18.903987",
     "exception": false,
     "start_time": "2020-12-26T10:33:18.555264",
     "status": "completed"
    },
    "tags": []
   },
   "outputs": [
    {
     "data": {
      "image/png": "[encoded data removed]",
      "text/plain": [
       "<Figure size 504x360 with 1 Axes>"
      ]
     },
     "metadata": {},
     "output_type": "display_data"
    }
   ],
   "source": [
    "# bar plot of the 3 classes\n",
    "plt.rcParams['figure.figsize'] = (7, 5)\n",
    "plt.bar(10,Real_len,3, label=\"Real\", color='blue')\n",
    "plt.bar(15,Not_len,3, label=\"Not\", color='red')\n",
    "plt.legend()\n",
    "plt.ylabel('Number of examples')\n",
    "plt.title('Propertion of examples')\n",
    "plt.show()"
   ]
  },
  {
   "cell_type": "markdown",
   "metadata": {
    "papermill": {
     "duration": 0.07615,
     "end_time": "2020-12-26T10:33:19.051874",
     "exception": false,
     "start_time": "2020-12-26T10:33:18.975724",
     "status": "completed"
    },
    "tags": []
   },
   "source": [
    "### Number of characters in datas"
   ]
  },
  {
   "cell_type": "code",
   "execution_count": 9,
   "metadata": {
    "execution": {
     "iopub.execute_input": "2020-12-26T10:33:19.202356Z",
     "iopub.status.busy": "2020-12-26T10:33:19.201664Z",
     "iopub.status.idle": "2020-12-26T10:33:19.207915Z",
     "shell.execute_reply": "2020-12-26T10:33:19.208530Z"
    },
    "papermill": {
     "duration": 0.08337,
     "end_time": "2020-12-26T10:33:19.208690",
     "exception": false,
     "start_time": "2020-12-26T10:33:19.125320",
     "status": "completed"
    },
    "tags": []
   },
   "outputs": [],
   "source": [
    "def length(text):    \n",
    "    '''a function which returns the length of text'''\n",
    "    return len(text)"
   ]
  },
  {
   "cell_type": "code",
   "execution_count": 10,
   "metadata": {
    "execution": {
     "iopub.execute_input": "2020-12-26T10:33:19.360085Z",
     "iopub.status.busy": "2020-12-26T10:33:19.359454Z",
     "iopub.status.idle": "2020-12-26T10:33:19.367567Z",
     "shell.execute_reply": "2020-12-26T10:33:19.368062Z"
    },
    "papermill": {
     "duration": 0.087103,
     "end_time": "2020-12-26T10:33:19.368240",
     "exception": false,
     "start_time": "2020-12-26T10:33:19.281137",
     "status": "completed"
    },
    "tags": []
   },
   "outputs": [],
   "source": [
    "data['length'] = data['text'].apply(length)"
   ]
  },
  {
   "cell_type": "code",
   "execution_count": 11,
   "metadata": {
    "execution": {
     "iopub.execute_input": "2020-12-26T10:33:19.540218Z",
     "iopub.status.busy": "2020-12-26T10:33:19.525797Z",
     "iopub.status.idle": "2020-12-26T10:33:20.438006Z",
     "shell.execute_reply": "2020-12-26T10:33:20.437419Z"
    },
    "papermill": {
     "duration": 0.99626,
     "end_time": "2020-12-26T10:33:20.438125",
     "exception": false,
     "start_time": "2020-12-26T10:33:19.441865",
     "status": "completed"
    },
    "tags": []
   },
   "outputs": [
    {
     "data": {
      "image/png": "[encoded data removed]",
      "text/plain": [
       "<Figure size 1296x432 with 1 Axes>"
      ]
     },
     "metadata": {},
     "output_type": "display_data"
    }
   ],
   "source": [
    "plt.rcParams['figure.figsize'] = (18.0, 6.0)\n",
    "bins = 150\n",
    "plt.hist(data[data['target'] == 0]['length'], alpha = 0.6, bins=bins, label='Not')\n",
    "plt.hist(data[data['target'] == 1]['length'], alpha = 0.8, bins=bins, label='Real')\n",
    "plt.xlabel('length')\n",
    "plt.ylabel('numbers')\n",
    "plt.legend(loc='upper right')\n",
    "plt.xlim(0,150)\n",
    "plt.grid()\n",
    "plt.show()"
   ]
  },
  {
   "cell_type": "code",
   "execution_count": 12,
   "metadata": {
    "execution": {
     "iopub.execute_input": "2020-12-26T10:33:20.613728Z",
     "iopub.status.busy": "2020-12-26T10:33:20.612758Z",
     "iopub.status.idle": "2020-12-26T10:33:20.947145Z",
     "shell.execute_reply": "2020-12-26T10:33:20.946551Z"
    },
    "papermill": {
     "duration": 0.433327,
     "end_time": "2020-12-26T10:33:20.947295",
     "exception": false,
     "start_time": "2020-12-26T10:33:20.513968",
     "status": "completed"
    },
    "tags": []
   },
   "outputs": [
    {
     "data": {
      "image/png": "[encoded data removed]",
      "text/plain": [
       "<Figure size 720x360 with 2 Axes>"
      ]
     },
     "metadata": {},
     "output_type": "display_data"
    }
   ],
   "source": [
    "fig,(ax1,ax2)=plt.subplots(1,2,figsize=(10,5))\n",
    "data_len=data[data['target']==1]['text'].str.len()\n",
    "ax1.hist(data_len,color='blue')\n",
    "ax1.set_title(f'{name_for_plot} datas')\n",
    "data_len=data[data['target']==0]['text'].str.len()\n",
    "ax2.hist(data_len,color='red')\n",
    "ax2.set_title(f'Not {name_for_plot} datas')\n",
    "fig.suptitle('Characters in datas')\n",
    "plt.show()"
   ]
  },
  {
   "cell_type": "markdown",
   "metadata": {
    "papermill": {
     "duration": 0.077598,
     "end_time": "2020-12-26T10:33:21.102897",
     "exception": false,
     "start_time": "2020-12-26T10:33:21.025299",
     "status": "completed"
    },
    "tags": []
   },
   "source": [
    "The distributions are different. 150 characters in a data are the one of the most common among both."
   ]
  },
  {
   "cell_type": "markdown",
   "metadata": {
    "papermill": {
     "duration": 0.074877,
     "end_time": "2020-12-26T10:33:21.252324",
     "exception": false,
     "start_time": "2020-12-26T10:33:21.177447",
     "status": "completed"
    },
    "tags": []
   },
   "source": [
    "### Number of words in a data"
   ]
  },
  {
   "cell_type": "code",
   "execution_count": 13,
   "metadata": {
    "execution": {
     "iopub.execute_input": "2020-12-26T10:33:21.416153Z",
     "iopub.status.busy": "2020-12-26T10:33:21.414935Z",
     "iopub.status.idle": "2020-12-26T10:33:21.754884Z",
     "shell.execute_reply": "2020-12-26T10:33:21.753651Z"
    },
    "papermill": {
     "duration": 0.42715,
     "end_time": "2020-12-26T10:33:21.755003",
     "exception": false,
     "start_time": "2020-12-26T10:33:21.327853",
     "status": "completed"
    },
    "tags": []
   },
   "outputs": [
    {
     "data": {
      "image/png": "[encoded data removed]",
      "text/plain": [
       "<Figure size 720x360 with 2 Axes>"
      ]
     },
     "metadata": {},
     "output_type": "display_data"
    }
   ],
   "source": [
    "fig,(ax1,ax2)=plt.subplots(1,2,figsize=(10,5))\n",
    "data_len=data[data['target']==1]['text'].str.split().map(lambda x: len(x))\n",
    "ax1.hist(data_len,color='blue')\n",
    "ax1.set_title(f'{name_for_plot} datas')\n",
    "data_len=data[data['target']==0]['text'].str.split().map(lambda x: len(x))\n",
    "ax2.hist(data_len,color='red')\n",
    "ax2.set_title(f'Not {name_for_plot} datas')\n",
    "fig.suptitle('Words in a data')\n",
    "plt.show()\n"
   ]
  },
  {
   "cell_type": "markdown",
   "metadata": {
    "papermill": {
     "duration": 0.074898,
     "end_time": "2020-12-26T10:33:21.905396",
     "exception": false,
     "start_time": "2020-12-26T10:33:21.830498",
     "status": "completed"
    },
    "tags": []
   },
   "source": [
    "###  Average word length in a data"
   ]
  },
  {
   "cell_type": "code",
   "execution_count": 14,
   "metadata": {
    "execution": {
     "iopub.execute_input": "2020-12-26T10:33:22.068671Z",
     "iopub.status.busy": "2020-12-26T10:33:22.067976Z",
     "iopub.status.idle": "2020-12-26T10:33:22.493583Z",
     "shell.execute_reply": "2020-12-26T10:33:22.492876Z"
    },
    "papermill": {
     "duration": 0.511924,
     "end_time": "2020-12-26T10:33:22.493700",
     "exception": false,
     "start_time": "2020-12-26T10:33:21.981776",
     "status": "completed"
    },
    "tags": []
   },
   "outputs": [
    {
     "data": {
      "text/plain": [
       "Text(0.5, 0.98, 'Average word length in each data')"
      ]
     },
     "execution_count": 14,
     "metadata": {},
     "output_type": "execute_result"
    },
    {
     "data": {
      "image/png": "[encoded data removed]",
      "text/plain": [
       "<Figure size 720x360 with 2 Axes>"
      ]
     },
     "metadata": {},
     "output_type": "display_data"
    }
   ],
   "source": [
    "fig,(ax1,ax2)=plt.subplots(1,2,figsize=(10,5))\n",
    "word=data[data['target']==1]['text'].str.split().apply(lambda x : [len(i) for i in x])\n",
    "sns.distplot(word.map(lambda x: np.mean(x)),ax=ax1,color='blue')\n",
    "ax1.set_title(name_for_plot)\n",
    "word=data[data['target']==0]['text'].str.split().apply(lambda x : [len(i) for i in x])\n",
    "sns.distplot(word.map(lambda x: np.mean(x)),ax=ax2,color='red')\n",
    "ax2.set_title(f'Not {name_for_plot}')\n",
    "fig.suptitle('Average word length in each data')"
   ]
  },
  {
   "cell_type": "code",
   "execution_count": 15,
   "metadata": {
    "execution": {
     "iopub.execute_input": "2020-12-26T10:33:22.657405Z",
     "iopub.status.busy": "2020-12-26T10:33:22.656684Z",
     "iopub.status.idle": "2020-12-26T10:33:22.661481Z",
     "shell.execute_reply": "2020-12-26T10:33:22.662091Z"
    },
    "papermill": {
     "duration": 0.091253,
     "end_time": "2020-12-26T10:33:22.662268",
     "exception": false,
     "start_time": "2020-12-26T10:33:22.571015",
     "status": "completed"
    },
    "tags": []
   },
   "outputs": [],
   "source": [
    "def create_corpus(target):\n",
    "    corpus=[]\n",
    "    \n",
    "    for x in data[data['target']==target]['text'].str.split():\n",
    "        for i in x:\n",
    "            corpus.append(i)\n",
    "    return corpus"
   ]
  },
  {
   "cell_type": "code",
   "execution_count": 16,
   "metadata": {
    "execution": {
     "iopub.execute_input": "2020-12-26T10:33:22.828738Z",
     "iopub.status.busy": "2020-12-26T10:33:22.827787Z",
     "iopub.status.idle": "2020-12-26T10:33:22.832446Z",
     "shell.execute_reply": "2020-12-26T10:33:22.831423Z"
    },
    "papermill": {
     "duration": 0.090768,
     "end_time": "2020-12-26T10:33:22.832579",
     "exception": false,
     "start_time": "2020-12-26T10:33:22.741811",
     "status": "completed"
    },
    "tags": []
   },
   "outputs": [],
   "source": [
    "def create_corpus_df(data, target):\n",
    "    corpus=[]\n",
    "    \n",
    "    for x in data[data['target']==target]['text'].str.split():\n",
    "        for i in x:\n",
    "            corpus.append(i)\n",
    "    return corpus"
   ]
  },
  {
   "cell_type": "markdown",
   "metadata": {
    "papermill": {
     "duration": 0.117598,
     "end_time": "2020-12-26T10:33:23.050935",
     "exception": false,
     "start_time": "2020-12-26T10:33:22.933337",
     "status": "completed"
    },
    "tags": []
   },
   "source": [
    "### Common stopwords in datas"
   ]
  },
  {
   "cell_type": "markdown",
   "metadata": {
    "papermill": {
     "duration": 0.118272,
     "end_time": "2020-12-26T10:33:23.290415",
     "exception": false,
     "start_time": "2020-12-26T10:33:23.172143",
     "status": "completed"
    },
    "tags": []
   },
   "source": [
    "First we  will analyze datas with class 0."
   ]
  },
  {
   "cell_type": "code",
   "execution_count": 17,
   "metadata": {
    "execution": {
     "iopub.execute_input": "2020-12-26T10:33:23.536053Z",
     "iopub.status.busy": "2020-12-26T10:33:23.535118Z",
     "iopub.status.idle": "2020-12-26T10:33:23.539960Z",
     "shell.execute_reply": "2020-12-26T10:33:23.540637Z"
    },
    "papermill": {
     "duration": 0.132204,
     "end_time": "2020-12-26T10:33:23.540831",
     "exception": false,
     "start_time": "2020-12-26T10:33:23.408627",
     "status": "completed"
    },
    "tags": []
   },
   "outputs": [],
   "source": [
    "corpus=create_corpus(0)\n",
    "\n",
    "dic=defaultdict(int)\n",
    "for word in corpus:\n",
    "    if word in stop:\n",
    "        dic[word]+=1\n",
    "        \n",
    "top=sorted(dic.items(), key=lambda x:x[1],reverse=True)[:10]"
   ]
  },
  {
   "cell_type": "code",
   "execution_count": 18,
   "metadata": {
    "execution": {
     "iopub.execute_input": "2020-12-26T10:33:23.783563Z",
     "iopub.status.busy": "2020-12-26T10:33:23.782475Z",
     "iopub.status.idle": "2020-12-26T10:33:23.788270Z",
     "shell.execute_reply": "2020-12-26T10:33:23.788889Z"
    },
    "papermill": {
     "duration": 0.130102,
     "end_time": "2020-12-26T10:33:23.789056",
     "exception": false,
     "start_time": "2020-12-26T10:33:23.658954",
     "status": "completed"
    },
    "tags": []
   },
   "outputs": [
    {
     "data": {
      "text/plain": [
       "array({'isn', 'won', 'down', 'its', 'be', 'under', 'again', 'mightn', 'can', 'over', 'aren', 'do', 'we', 'you', \"that'll\", 'the', 'from', 'until', 'yours', 'such', 'itself', 'here', 'o', \"shouldn't\", 'all', \"mightn't\", 'on', 'yourselves', 'if', 'them', 'so', 'or', 'of', 'no', 'wasn', 'herself', 'off', 'some', 'about', 'now', 'll', 's', 'have', 'during', 'hasn', \"shan't\", \"haven't\", 'any', 'these', 'into', 'doesn', 'does', 'doing', 've', 'how', 'did', \"you're\", 'ain', 'he', 'myself', \"hadn't\", 't', 'should', 'when', 'both', 'those', 'up', 'she', 'are', \"you'd\", \"didn't\", 'haven', 'nor', 'own', 'ours', 'same', 'a', \"weren't\", 'our', 'am', 'couldn', 'your', 'has', 'this', \"you'll\", 'below', 'mustn', 're', 'with', 'their', \"won't\", \"couldn't\", 'too', 'wouldn', 'themselves', 'once', 'why', 'hadn', 'there', 'but', 'further', 'having', 'me', 'most', 'his', \"don't\", 'in', 'by', 'y', \"hasn't\", \"needn't\", \"you've\", 'weren', 'between', \"it's\", 'had', 'ourselves', 'while', 'after', 'very', 'what', 'will', 'is', 'than', 'against', 'theirs', 'before', 'to', 'only', 'm', 'were', 'each', 'few', 'at', 'd', 'because', 'himself', 'was', 'who', 'don', \"wouldn't\", 'where', 'other', \"isn't\", 'him', 'and', 'more', 'didn', \"should've\", 'which', 'just', 'that', 'not', 'shouldn', 'my', 'been', 'i', 'for', 'above', \"she's\", 'they', 'out', 'shan', 'her', 'hers', \"wasn't\", 'whom', 'an', \"aren't\", \"doesn't\", 'through', 'then', 'needn', 'it', \"mustn't\", 'yourself', 'as', 'ma', 'being'},\n",
       "      dtype=object)"
      ]
     },
     "execution_count": 18,
     "metadata": {},
     "output_type": "execute_result"
    }
   ],
   "source": [
    "# displaying the stopwords\n",
    "np.array(stop)"
   ]
  },
  {
   "cell_type": "code",
   "execution_count": 19,
   "metadata": {
    "execution": {
     "iopub.execute_input": "2020-12-26T10:33:24.028430Z",
     "iopub.status.busy": "2020-12-26T10:33:24.027249Z",
     "iopub.status.idle": "2020-12-26T10:33:24.225375Z",
     "shell.execute_reply": "2020-12-26T10:33:24.226138Z"
    },
    "papermill": {
     "duration": 0.320506,
     "end_time": "2020-12-26T10:33:24.226410",
     "exception": false,
     "start_time": "2020-12-26T10:33:23.905904",
     "status": "completed"
    },
    "tags": []
   },
   "outputs": [
    {
     "data": {
      "text/plain": [
       "<BarContainer object of 10 artists>"
      ]
     },
     "execution_count": 19,
     "metadata": {},
     "output_type": "execute_result"
    },
    {
     "data": {
      "image/png": "[encoded data removed]",
      "text/plain": [
       "<Figure size 1296x432 with 1 Axes>"
      ]
     },
     "metadata": {},
     "output_type": "display_data"
    }
   ],
   "source": [
    "plt.rcParams['figure.figsize'] = (18.0, 6.0)\n",
    "x,y=zip(*top)\n",
    "plt.bar(x,y)"
   ]
  },
  {
   "cell_type": "markdown",
   "metadata": {
    "papermill": {
     "duration": 0.120307,
     "end_time": "2020-12-26T10:33:24.468097",
     "exception": false,
     "start_time": "2020-12-26T10:33:24.347790",
     "status": "completed"
    },
    "tags": []
   },
   "source": [
    "Now,we will analyze datas with class 1."
   ]
  },
  {
   "cell_type": "code",
   "execution_count": 20,
   "metadata": {
    "execution": {
     "iopub.execute_input": "2020-12-26T10:33:24.726364Z",
     "iopub.status.busy": "2020-12-26T10:33:24.724264Z",
     "iopub.status.idle": "2020-12-26T10:33:24.904120Z",
     "shell.execute_reply": "2020-12-26T10:33:24.904791Z"
    },
    "papermill": {
     "duration": 0.312034,
     "end_time": "2020-12-26T10:33:24.904963",
     "exception": false,
     "start_time": "2020-12-26T10:33:24.592929",
     "status": "completed"
    },
    "tags": []
   },
   "outputs": [
    {
     "data": {
      "text/plain": [
       "<BarContainer object of 10 artists>"
      ]
     },
     "execution_count": 20,
     "metadata": {},
     "output_type": "execute_result"
    },
    {
     "data": {
      "image/png": "[encoded data removed]",
      "text/plain": [
       "<Figure size 1296x432 with 1 Axes>"
      ]
     },
     "metadata": {},
     "output_type": "display_data"
    }
   ],
   "source": [
    "corpus=create_corpus(1)\n",
    "\n",
    "dic=defaultdict(int)\n",
    "for word in corpus:\n",
    "    if word in stop:\n",
    "        dic[word]+=1\n",
    "\n",
    "top=sorted(dic.items(), key=lambda x:x[1],reverse=True)[:10] \n",
    "    \n",
    "\n",
    "plt.rcParams['figure.figsize'] = (18.0, 6.0)\n",
    "x,y=zip(*top)\n",
    "plt.bar(x,y)"
   ]
  },
  {
   "cell_type": "markdown",
   "metadata": {
    "papermill": {
     "duration": 0.124485,
     "end_time": "2020-12-26T10:33:25.152983",
     "exception": false,
     "start_time": "2020-12-26T10:33:25.028498",
     "status": "completed"
    },
    "tags": []
   },
   "source": [
    "In both of them,\"of\" and \"the\" dominates which are followed by \"in\" in class 0 and \"and\" in class 1."
   ]
  },
  {
   "cell_type": "markdown",
   "metadata": {
    "papermill": {
     "duration": 0.096289,
     "end_time": "2020-12-26T10:33:25.375078",
     "exception": false,
     "start_time": "2020-12-26T10:33:25.278789",
     "status": "completed"
    },
    "tags": []
   },
   "source": [
    "### Analyzing punctuations"
   ]
  },
  {
   "cell_type": "markdown",
   "metadata": {
    "papermill": {
     "duration": 0.080039,
     "end_time": "2020-12-26T10:33:25.537741",
     "exception": false,
     "start_time": "2020-12-26T10:33:25.457702",
     "status": "completed"
    },
    "tags": []
   },
   "source": [
    "First let's check datas indicating clas 1."
   ]
  },
  {
   "cell_type": "code",
   "execution_count": 21,
   "metadata": {
    "execution": {
     "iopub.execute_input": "2020-12-26T10:33:25.716013Z",
     "iopub.status.busy": "2020-12-26T10:33:25.715051Z",
     "iopub.status.idle": "2020-12-26T10:33:25.863509Z",
     "shell.execute_reply": "2020-12-26T10:33:25.862806Z"
    },
    "papermill": {
     "duration": 0.243801,
     "end_time": "2020-12-26T10:33:25.863654",
     "exception": false,
     "start_time": "2020-12-26T10:33:25.619853",
     "status": "completed"
    },
    "tags": []
   },
   "outputs": [
    {
     "data": {
      "text/plain": [
       "<BarContainer object of 5 artists>"
      ]
     },
     "execution_count": 21,
     "metadata": {},
     "output_type": "execute_result"
    },
    {
     "data": {
      "image/png": "[encoded data removed]",
      "text/plain": [
       "<Figure size 1152x360 with 1 Axes>"
      ]
     },
     "metadata": {},
     "output_type": "display_data"
    }
   ],
   "source": [
    "plt.figure(figsize=(16,5))\n",
    "corpus=create_corpus(1)\n",
    "\n",
    "dic=defaultdict(int)\n",
    "special = string.punctuation\n",
    "for i in (corpus):\n",
    "    if i in special:\n",
    "        dic[i]+=1\n",
    "        \n",
    "x,y=zip(*dic.items())\n",
    "plt.bar(x,y)"
   ]
  },
  {
   "cell_type": "markdown",
   "metadata": {
    "papermill": {
     "duration": 0.084731,
     "end_time": "2020-12-26T10:33:26.032518",
     "exception": false,
     "start_time": "2020-12-26T10:33:25.947787",
     "status": "completed"
    },
    "tags": []
   },
   "source": [
    "Now,we will move on to class 0."
   ]
  },
  {
   "cell_type": "code",
   "execution_count": 22,
   "metadata": {
    "execution": {
     "iopub.execute_input": "2020-12-26T10:33:26.207080Z",
     "iopub.status.busy": "2020-12-26T10:33:26.206417Z",
     "iopub.status.idle": "2020-12-26T10:33:26.341412Z",
     "shell.execute_reply": "2020-12-26T10:33:26.341921Z"
    },
    "papermill": {
     "duration": 0.226336,
     "end_time": "2020-12-26T10:33:26.342084",
     "exception": false,
     "start_time": "2020-12-26T10:33:26.115748",
     "status": "completed"
    },
    "tags": []
   },
   "outputs": [
    {
     "data": {
      "text/plain": [
       "<BarContainer object of 1 artists>"
      ]
     },
     "execution_count": 22,
     "metadata": {},
     "output_type": "execute_result"
    },
    {
     "data": {
      "image/png": "[encoded data removed]",
      "text/plain": [
       "<Figure size 1152x360 with 1 Axes>"
      ]
     },
     "metadata": {},
     "output_type": "display_data"
    }
   ],
   "source": [
    "plt.figure(figsize=(16,5))\n",
    "corpus=create_corpus(0)\n",
    "dic=defaultdict(int)\n",
    "special = string.punctuation\n",
    "for i in (corpus):\n",
    "    if i in special:\n",
    "        dic[i]+=1\n",
    "        \n",
    "x,y=zip(*dic.items())\n",
    "plt.bar(x,y,color='green')"
   ]
  },
  {
   "cell_type": "markdown",
   "metadata": {
    "papermill": {
     "duration": 0.085361,
     "end_time": "2020-12-26T10:33:26.511226",
     "exception": false,
     "start_time": "2020-12-26T10:33:26.425865",
     "status": "completed"
    },
    "tags": []
   },
   "source": [
    "### Common words"
   ]
  },
  {
   "cell_type": "code",
   "execution_count": 23,
   "metadata": {
    "execution": {
     "iopub.execute_input": "2020-12-26T10:33:26.689717Z",
     "iopub.status.busy": "2020-12-26T10:33:26.685867Z",
     "iopub.status.idle": "2020-12-26T10:33:26.697114Z",
     "shell.execute_reply": "2020-12-26T10:33:26.696528Z"
    },
    "papermill": {
     "duration": 0.100224,
     "end_time": "2020-12-26T10:33:26.697258",
     "exception": false,
     "start_time": "2020-12-26T10:33:26.597034",
     "status": "completed"
    },
    "tags": []
   },
   "outputs": [
    {
     "data": {
      "text/plain": [
       "<Figure size 1152x360 with 0 Axes>"
      ]
     },
     "metadata": {},
     "output_type": "display_data"
    }
   ],
   "source": [
    "plt.figure(figsize=(16,5))\n",
    "counter=Counter(corpus)\n",
    "most=counter.most_common()\n",
    "x=[]\n",
    "y=[]\n",
    "for word,count in most[:40]:\n",
    "    if (word not in stop) :\n",
    "        x.append(word)\n",
    "        y.append(count)"
   ]
  },
  {
   "cell_type": "code",
   "execution_count": 24,
   "metadata": {
    "execution": {
     "iopub.execute_input": "2020-12-26T10:33:26.882591Z",
     "iopub.status.busy": "2020-12-26T10:33:26.881208Z",
     "iopub.status.idle": "2020-12-26T10:33:27.248927Z",
     "shell.execute_reply": "2020-12-26T10:33:27.247970Z"
    },
    "papermill": {
     "duration": 0.46369,
     "end_time": "2020-12-26T10:33:27.249052",
     "exception": false,
     "start_time": "2020-12-26T10:33:26.785362",
     "status": "completed"
    },
    "tags": []
   },
   "outputs": [
    {
     "data": {
      "text/plain": [
       "<matplotlib.axes._subplots.AxesSubplot at 0x7f94dc14be10>"
      ]
     },
     "execution_count": 24,
     "metadata": {},
     "output_type": "execute_result"
    },
    {
     "data": {
      "image/png": "[encoded data removed]",
      "text/plain": [
       "<Figure size 1296x432 with 1 Axes>"
      ]
     },
     "metadata": {},
     "output_type": "display_data"
    }
   ],
   "source": [
    "sns.barplot(x=y,y=x)"
   ]
  },
  {
   "cell_type": "markdown",
   "metadata": {
    "papermill": {
     "duration": 0.087286,
     "end_time": "2020-12-26T10:33:27.423696",
     "exception": false,
     "start_time": "2020-12-26T10:33:27.336410",
     "status": "completed"
    },
    "tags": []
   },
   "source": [
    "Lot of cleaning needed !"
   ]
  },
  {
   "cell_type": "markdown",
   "metadata": {
    "papermill": {
     "duration": 0.086142,
     "end_time": "2020-12-26T10:33:27.595017",
     "exception": false,
     "start_time": "2020-12-26T10:33:27.508875",
     "status": "completed"
    },
    "tags": []
   },
   "source": [
    "### N-gram analysis"
   ]
  },
  {
   "cell_type": "markdown",
   "metadata": {
    "papermill": {
     "duration": 0.088399,
     "end_time": "2020-12-26T10:33:27.775024",
     "exception": false,
     "start_time": "2020-12-26T10:33:27.686625",
     "status": "completed"
    },
    "tags": []
   },
   "source": [
    "we will do a bigram (n=2) analysis over the datas. Let's check the most common bigrams in datas."
   ]
  },
  {
   "cell_type": "code",
   "execution_count": 25,
   "metadata": {
    "execution": {
     "iopub.execute_input": "2020-12-26T10:33:28.043489Z",
     "iopub.status.busy": "2020-12-26T10:33:28.042530Z",
     "iopub.status.idle": "2020-12-26T10:33:28.045942Z",
     "shell.execute_reply": "2020-12-26T10:33:28.046781Z"
    },
    "papermill": {
     "duration": 0.142644,
     "end_time": "2020-12-26T10:33:28.046966",
     "exception": false,
     "start_time": "2020-12-26T10:33:27.904322",
     "status": "completed"
    },
    "tags": []
   },
   "outputs": [],
   "source": [
    "def get_top_data_bigrams(corpus, n=None):\n",
    "    vec = CountVectorizer(ngram_range=(2, 2)).fit(corpus)\n",
    "    bag_of_words = vec.transform(corpus)\n",
    "    sum_words = bag_of_words.sum(axis=0) \n",
    "    words_freq = [(word, sum_words[0, idx]) for word, idx in vec.vocabulary_.items()]\n",
    "    words_freq =sorted(words_freq, key = lambda x: x[1], reverse=True)\n",
    "    return words_freq[:n]"
   ]
  },
  {
   "cell_type": "code",
   "execution_count": 26,
   "metadata": {
    "execution": {
     "iopub.execute_input": "2020-12-26T10:33:28.326562Z",
     "iopub.status.busy": "2020-12-26T10:33:28.325852Z",
     "iopub.status.idle": "2020-12-26T10:33:28.548254Z",
     "shell.execute_reply": "2020-12-26T10:33:28.547532Z"
    },
    "papermill": {
     "duration": 0.368758,
     "end_time": "2020-12-26T10:33:28.548372",
     "exception": false,
     "start_time": "2020-12-26T10:33:28.179614",
     "status": "completed"
    },
    "tags": []
   },
   "outputs": [
    {
     "data": {
      "text/plain": [
       "<matplotlib.axes._subplots.AxesSubplot at 0x7f94dc13a590>"
      ]
     },
     "execution_count": 26,
     "metadata": {},
     "output_type": "execute_result"
    },
    {
     "data": {
      "image/png": "[encoded data removed]",
      "text/plain": [
       "<Figure size 1152x360 with 1 Axes>"
      ]
     },
     "metadata": {},
     "output_type": "display_data"
    }
   ],
   "source": [
    "plt.figure(figsize=(16,5))\n",
    "top_data_bigrams=get_top_data_bigrams(data['text'])[:10]\n",
    "x,y=map(list,zip(*top_data_bigrams))\n",
    "sns.barplot(x=y,y=x)"
   ]
  },
  {
   "cell_type": "markdown",
   "metadata": {
    "papermill": {
     "duration": 0.090152,
     "end_time": "2020-12-26T10:33:28.726925",
     "exception": false,
     "start_time": "2020-12-26T10:33:28.636773",
     "status": "completed"
    },
    "tags": []
   },
   "source": [
    "## 5. Data Cleaning <a class=\"anchor\" id=\"5\"></a>\n",
    "\n",
    "[Back to Table of Contents](#0.1)"
   ]
  },
  {
   "cell_type": "markdown",
   "metadata": {
    "papermill": {
     "duration": 0.098863,
     "end_time": "2020-12-26T10:33:28.935736",
     "exception": false,
     "start_time": "2020-12-26T10:33:28.836873",
     "status": "completed"
    },
    "tags": []
   },
   "source": [
    "Thanks to https://www.kaggle.com/shahules/basic-eda-cleaning-and-glove"
   ]
  },
  {
   "cell_type": "code",
   "execution_count": 27,
   "metadata": {
    "execution": {
     "iopub.execute_input": "2020-12-26T10:33:29.137789Z",
     "iopub.status.busy": "2020-12-26T10:33:29.136894Z",
     "iopub.status.idle": "2020-12-26T10:33:29.143507Z",
     "shell.execute_reply": "2020-12-26T10:33:29.142855Z"
    },
    "papermill": {
     "duration": 0.113381,
     "end_time": "2020-12-26T10:33:29.143632",
     "exception": false,
     "start_time": "2020-12-26T10:33:29.030251",
     "status": "completed"
    },
    "tags": []
   },
   "outputs": [
    {
     "data": {
      "text/plain": [
       "(100, 2)"
      ]
     },
     "execution_count": 27,
     "metadata": {},
     "output_type": "execute_result"
    }
   ],
   "source": [
    "df = pd.concat([train,test])\n",
    "df.shape"
   ]
  },
  {
   "cell_type": "markdown",
   "metadata": {
    "papermill": {
     "duration": 0.089994,
     "end_time": "2020-12-26T10:33:29.324003",
     "exception": false,
     "start_time": "2020-12-26T10:33:29.234009",
     "status": "completed"
    },
    "tags": []
   },
   "source": [
    "### Removing urls"
   ]
  },
  {
   "cell_type": "code",
   "execution_count": 28,
   "metadata": {
    "execution": {
     "iopub.execute_input": "2020-12-26T10:33:29.506602Z",
     "iopub.status.busy": "2020-12-26T10:33:29.504897Z",
     "iopub.status.idle": "2020-12-26T10:33:29.507629Z",
     "shell.execute_reply": "2020-12-26T10:33:29.508340Z"
    },
    "papermill": {
     "duration": 0.096878,
     "end_time": "2020-12-26T10:33:29.508518",
     "exception": false,
     "start_time": "2020-12-26T10:33:29.411640",
     "status": "completed"
    },
    "tags": []
   },
   "outputs": [],
   "source": [
    "example=\"New competition launched :https://www.kaggle.com/c/nlp-getting-started\""
   ]
  },
  {
   "cell_type": "code",
   "execution_count": 29,
   "metadata": {
    "execution": {
     "iopub.execute_input": "2020-12-26T10:33:29.786399Z",
     "iopub.status.busy": "2020-12-26T10:33:29.781024Z",
     "iopub.status.idle": "2020-12-26T10:33:29.796665Z",
     "shell.execute_reply": "2020-12-26T10:33:29.795663Z"
    },
    "papermill": {
     "duration": 0.151434,
     "end_time": "2020-12-26T10:33:29.796804",
     "exception": false,
     "start_time": "2020-12-26T10:33:29.645370",
     "status": "completed"
    },
    "tags": []
   },
   "outputs": [
    {
     "data": {
      "text/plain": [
       "'New competition launched :'"
      ]
     },
     "execution_count": 29,
     "metadata": {},
     "output_type": "execute_result"
    }
   ],
   "source": [
    "def remove_URL(text):\n",
    "    url = re.compile(r'https?://\\S+|www\\.\\S+')\n",
    "    return url.sub(r'',text)\n",
    "\n",
    "remove_URL(example)"
   ]
  },
  {
   "cell_type": "code",
   "execution_count": 30,
   "metadata": {
    "execution": {
     "iopub.execute_input": "2020-12-26T10:33:30.079121Z",
     "iopub.status.busy": "2020-12-26T10:33:30.078290Z",
     "iopub.status.idle": "2020-12-26T10:33:30.080820Z",
     "shell.execute_reply": "2020-12-26T10:33:30.081748Z"
    },
    "papermill": {
     "duration": 0.148343,
     "end_time": "2020-12-26T10:33:30.081935",
     "exception": false,
     "start_time": "2020-12-26T10:33:29.933592",
     "status": "completed"
    },
    "tags": []
   },
   "outputs": [],
   "source": [
    "df['text']=df['text'].apply(lambda x : remove_URL(x))"
   ]
  },
  {
   "cell_type": "markdown",
   "metadata": {
    "papermill": {
     "duration": 0.13371,
     "end_time": "2020-12-26T10:33:30.349321",
     "exception": false,
     "start_time": "2020-12-26T10:33:30.215611",
     "status": "completed"
    },
    "tags": []
   },
   "source": [
    "### Removing HTML tags"
   ]
  },
  {
   "cell_type": "code",
   "execution_count": 31,
   "metadata": {
    "execution": {
     "iopub.execute_input": "2020-12-26T10:33:30.625309Z",
     "iopub.status.busy": "2020-12-26T10:33:30.624234Z",
     "iopub.status.idle": "2020-12-26T10:33:30.628613Z",
     "shell.execute_reply": "2020-12-26T10:33:30.627999Z"
    },
    "papermill": {
     "duration": 0.147408,
     "end_time": "2020-12-26T10:33:30.628736",
     "exception": false,
     "start_time": "2020-12-26T10:33:30.481328",
     "status": "completed"
    },
    "tags": []
   },
   "outputs": [],
   "source": [
    "example = \"\"\"<div>\n",
    "<h1>Real or Fake</h1>\n",
    "<p>Kaggle </p>\n",
    "<a href=\"https://www.kaggle.com/c/nlp-getting-started\">getting started</a>\n",
    "</div>\"\"\""
   ]
  },
  {
   "cell_type": "code",
   "execution_count": 32,
   "metadata": {
    "execution": {
     "iopub.execute_input": "2020-12-26T10:33:30.819156Z",
     "iopub.status.busy": "2020-12-26T10:33:30.818319Z",
     "iopub.status.idle": "2020-12-26T10:33:30.826276Z",
     "shell.execute_reply": "2020-12-26T10:33:30.824262Z"
    },
    "papermill": {
     "duration": 0.10516,
     "end_time": "2020-12-26T10:33:30.826535",
     "exception": false,
     "start_time": "2020-12-26T10:33:30.721375",
     "status": "completed"
    },
    "tags": []
   },
   "outputs": [
    {
     "name": "stdout",
     "output_type": "stream",
     "text": [
      "\n",
      "Real or Fake\n",
      "Kaggle \n",
      "getting started\n",
      "\n"
     ]
    }
   ],
   "source": [
    "def remove_html(text):\n",
    "    html=re.compile(r'<.*?>')\n",
    "    return html.sub(r'',text)\n",
    "print(remove_html(example))"
   ]
  },
  {
   "cell_type": "code",
   "execution_count": 33,
   "metadata": {
    "execution": {
     "iopub.execute_input": "2020-12-26T10:33:31.018674Z",
     "iopub.status.busy": "2020-12-26T10:33:31.017304Z",
     "iopub.status.idle": "2020-12-26T10:33:31.022319Z",
     "shell.execute_reply": "2020-12-26T10:33:31.021711Z"
    },
    "papermill": {
     "duration": 0.103201,
     "end_time": "2020-12-26T10:33:31.022438",
     "exception": false,
     "start_time": "2020-12-26T10:33:30.919237",
     "status": "completed"
    },
    "tags": []
   },
   "outputs": [],
   "source": [
    "df['text']=df['text'].apply(lambda x : remove_html(x))"
   ]
  },
  {
   "cell_type": "markdown",
   "metadata": {
    "papermill": {
     "duration": 0.092093,
     "end_time": "2020-12-26T10:33:31.204433",
     "exception": false,
     "start_time": "2020-12-26T10:33:31.112340",
     "status": "completed"
    },
    "tags": []
   },
   "source": [
    "### Removing Emojis"
   ]
  },
  {
   "cell_type": "code",
   "execution_count": 34,
   "metadata": {
    "execution": {
     "iopub.execute_input": "2020-12-26T10:33:31.396358Z",
     "iopub.status.busy": "2020-12-26T10:33:31.394000Z",
     "iopub.status.idle": "2020-12-26T10:33:31.401324Z",
     "shell.execute_reply": "2020-12-26T10:33:31.401872Z"
    },
    "papermill": {
     "duration": 0.107252,
     "end_time": "2020-12-26T10:33:31.402019",
     "exception": false,
     "start_time": "2020-12-26T10:33:31.294767",
     "status": "completed"
    },
    "tags": []
   },
   "outputs": [
    {
     "data": {
      "text/plain": [
       "'Omg another Earthquake '"
      ]
     },
     "execution_count": 34,
     "metadata": {},
     "output_type": "execute_result"
    }
   ],
   "source": [
    "# Reference : https://gist.github.com/slowkow/7a7f61f495e3dbb7e3d767f97bd7304b\n",
    "def remove_emoji(text):\n",
    "    emoji_pattern = re.compile(\"[\"\n",
    "                           u\"\\U0001F600-\\U0001F64F\"  # emoticons\n",
    "                           u\"\\U0001F300-\\U0001F5FF\"  # symbols & pictographs\n",
    "                           u\"\\U0001F680-\\U0001F6FF\"  # transport & map symbols\n",
    "                           u\"\\U0001F1E0-\\U0001F1FF\"  # flags (iOS)\n",
    "                           u\"\\U00002702-\\U000027B0\"\n",
    "                           u\"\\U000024C2-\\U0001F251\"\n",
    "                           \"]+\", flags=re.UNICODE)\n",
    "    return emoji_pattern.sub(r'', text)\n",
    "\n",
    "remove_emoji(\"Omg another Earthquake 😔😔\")"
   ]
  },
  {
   "cell_type": "code",
   "execution_count": 35,
   "metadata": {
    "execution": {
     "iopub.execute_input": "2020-12-26T10:33:31.593706Z",
     "iopub.status.busy": "2020-12-26T10:33:31.592946Z",
     "iopub.status.idle": "2020-12-26T10:33:31.599573Z",
     "shell.execute_reply": "2020-12-26T10:33:31.598612Z"
    },
    "papermill": {
     "duration": 0.107095,
     "end_time": "2020-12-26T10:33:31.599717",
     "exception": false,
     "start_time": "2020-12-26T10:33:31.492622",
     "status": "completed"
    },
    "tags": []
   },
   "outputs": [],
   "source": [
    "df['text']=df['text'].apply(lambda x: remove_emoji(x))"
   ]
  },
  {
   "cell_type": "markdown",
   "metadata": {
    "papermill": {
     "duration": 0.134915,
     "end_time": "2020-12-26T10:33:31.871126",
     "exception": false,
     "start_time": "2020-12-26T10:33:31.736211",
     "status": "completed"
    },
    "tags": []
   },
   "source": [
    "### Removing punctuations"
   ]
  },
  {
   "cell_type": "code",
   "execution_count": 36,
   "metadata": {
    "execution": {
     "iopub.execute_input": "2020-12-26T10:33:32.152139Z",
     "iopub.status.busy": "2020-12-26T10:33:32.151298Z",
     "iopub.status.idle": "2020-12-26T10:33:32.154560Z",
     "shell.execute_reply": "2020-12-26T10:33:32.155430Z"
    },
    "papermill": {
     "duration": 0.149296,
     "end_time": "2020-12-26T10:33:32.155630",
     "exception": false,
     "start_time": "2020-12-26T10:33:32.006334",
     "status": "completed"
    },
    "tags": []
   },
   "outputs": [
    {
     "name": "stdout",
     "output_type": "stream",
     "text": [
      "I am a king\n"
     ]
    }
   ],
   "source": [
    "def remove_punct(text):\n",
    "    table=str.maketrans('','',string.punctuation)\n",
    "    return text.translate(table)\n",
    "\n",
    "example=\"I am a #king\"\n",
    "print(remove_punct(example))"
   ]
  },
  {
   "cell_type": "code",
   "execution_count": 37,
   "metadata": {
    "execution": {
     "iopub.execute_input": "2020-12-26T10:33:32.514202Z",
     "iopub.status.busy": "2020-12-26T10:33:32.512545Z",
     "iopub.status.idle": "2020-12-26T10:33:32.519252Z",
     "shell.execute_reply": "2020-12-26T10:33:32.520093Z"
    },
    "papermill": {
     "duration": 0.149759,
     "end_time": "2020-12-26T10:33:32.520372",
     "exception": false,
     "start_time": "2020-12-26T10:33:32.370613",
     "status": "completed"
    },
    "tags": []
   },
   "outputs": [],
   "source": [
    "df['text']=df['text'].apply(lambda x : remove_punct(x))"
   ]
  },
  {
   "cell_type": "markdown",
   "metadata": {
    "papermill": {
     "duration": 0.138562,
     "end_time": "2020-12-26T10:33:32.797229",
     "exception": false,
     "start_time": "2020-12-26T10:33:32.658667",
     "status": "completed"
    },
    "tags": []
   },
   "source": [
    "### Big target correction"
   ]
  },
  {
   "cell_type": "code",
   "execution_count": 38,
   "metadata": {
    "execution": {
     "iopub.execute_input": "2020-12-26T10:33:33.087875Z",
     "iopub.status.busy": "2020-12-26T10:33:33.086766Z",
     "iopub.status.idle": "2020-12-26T10:33:33.090956Z",
     "shell.execute_reply": "2020-12-26T10:33:33.090308Z"
    },
    "papermill": {
     "duration": 0.151118,
     "end_time": "2020-12-26T10:33:33.091078",
     "exception": false,
     "start_time": "2020-12-26T10:33:32.939960",
     "status": "completed"
    },
    "tags": []
   },
   "outputs": [],
   "source": [
    "target_big_corrected = True"
   ]
  },
  {
   "cell_type": "code",
   "execution_count": 39,
   "metadata": {
    "execution": {
     "iopub.execute_input": "2020-12-26T10:33:33.286481Z",
     "iopub.status.busy": "2020-12-26T10:33:33.285777Z",
     "iopub.status.idle": "2020-12-26T10:33:33.295852Z",
     "shell.execute_reply": "2020-12-26T10:33:33.295251Z"
    },
    "papermill": {
     "duration": 0.110433,
     "end_time": "2020-12-26T10:33:33.295969",
     "exception": false,
     "start_time": "2020-12-26T10:33:33.185536",
     "status": "completed"
    },
    "tags": []
   },
   "outputs": [],
   "source": [
    "# Thanks to https://www.kaggle.com/rftexas/text-only-kfold-bert\n",
    "def clean_datas(data):\n",
    "    \"\"\"Removes links and non-ASCII characters\"\"\"\n",
    "    \n",
    "    data = ''.join([x for x in data if x in string.printable])\n",
    "    \n",
    "    # Removing URLs\n",
    "    data = re.sub(r\"http\\S+\", \"\", data)\n",
    "    \n",
    "    return data"
   ]
  },
  {
   "cell_type": "code",
   "execution_count": 40,
   "metadata": {
    "execution": {
     "iopub.execute_input": "2020-12-26T10:33:33.485141Z",
     "iopub.status.busy": "2020-12-26T10:33:33.484458Z",
     "iopub.status.idle": "2020-12-26T10:33:33.486975Z",
     "shell.execute_reply": "2020-12-26T10:33:33.487570Z"
    },
    "papermill": {
     "duration": 0.10199,
     "end_time": "2020-12-26T10:33:33.487735",
     "exception": false,
     "start_time": "2020-12-26T10:33:33.385745",
     "status": "completed"
    },
    "tags": []
   },
   "outputs": [],
   "source": [
    "# Thanks to https://www.kaggle.com/rftexas/text-only-kfold-bert\n",
    "def remove_emoji(text):\n",
    "    emoji_pattern = re.compile(\"[\"\n",
    "                           u\"\\U0001F600-\\U0001F64F\"  # emoticons\n",
    "                           u\"\\U0001F300-\\U0001F5FF\"  # symbols & pictographs\n",
    "                           u\"\\U0001F680-\\U0001F6FF\"  # transport & map symbols\n",
    "                           u\"\\U0001F1E0-\\U0001F1FF\"  # flags (iOS)\n",
    "                           u\"\\U00002702-\\U000027B0\"\n",
    "                           u\"\\U000024C2-\\U0001F251\"\n",
    "                           \"]+\", flags=re.UNICODE)\n",
    "    return emoji_pattern.sub(r'', text)"
   ]
  },
  {
   "cell_type": "code",
   "execution_count": 41,
   "metadata": {
    "execution": {
     "iopub.execute_input": "2020-12-26T10:33:33.682041Z",
     "iopub.status.busy": "2020-12-26T10:33:33.680596Z",
     "iopub.status.idle": "2020-12-26T10:33:33.687614Z",
     "shell.execute_reply": "2020-12-26T10:33:33.686913Z"
    },
    "papermill": {
     "duration": 0.107981,
     "end_time": "2020-12-26T10:33:33.687749",
     "exception": false,
     "start_time": "2020-12-26T10:33:33.579768",
     "status": "completed"
    },
    "tags": []
   },
   "outputs": [],
   "source": [
    "# Thanks to https://www.kaggle.com/rftexas/text-only-kfold-bert\n",
    "def remove_punctuations(text):\n",
    "    punctuations = '@#!?+&*[]-%.:/();$=><|{}^' + \"'`\"\n",
    "    \n",
    "    for p in punctuations:\n",
    "        text = text.replace(p, f' {p} ')\n",
    "\n",
    "    text = text.replace('...', ' ... ')\n",
    "    \n",
    "    if '...' not in text:\n",
    "        text = text.replace('..', ' ... ')\n",
    "    \n",
    "    return text"
   ]
  },
  {
   "cell_type": "code",
   "execution_count": 42,
   "metadata": {
    "execution": {
     "iopub.execute_input": "2020-12-26T10:33:33.898242Z",
     "iopub.status.busy": "2020-12-26T10:33:33.891247Z",
     "iopub.status.idle": "2020-12-26T10:33:33.923981Z",
     "shell.execute_reply": "2020-12-26T10:33:33.923426Z"
    },
    "papermill": {
     "duration": 0.140216,
     "end_time": "2020-12-26T10:33:33.924113",
     "exception": false,
     "start_time": "2020-12-26T10:33:33.783897",
     "status": "completed"
    },
    "tags": []
   },
   "outputs": [],
   "source": [
    "# Thanks to https://www.kaggle.com/rftexas/text-only-kfold-bert\n",
    "abbreviations = {\n",
    "    \"$\" : \" dollar \",\n",
    "    \"€\" : \" euro \",\n",
    "    \"4ao\" : \"for adults only\",\n",
    "    \"a.m\" : \"before midday\",\n",
    "    \"a3\" : \"anytime anywhere anyplace\",\n",
    "    \"aamof\" : \"as a matter of fact\",\n",
    "    \"acct\" : \"account\",\n",
    "    \"adih\" : \"another day in hell\",\n",
    "    \"afaic\" : \"as far as i am concerned\",\n",
    "    \"afaict\" : \"as far as i can tell\",\n",
    "    \"afaik\" : \"as far as i know\",\n",
    "    \"afair\" : \"as far as i remember\",\n",
    "    \"afk\" : \"away from keyboard\",\n",
    "    \"app\" : \"application\",\n",
    "    \"approx\" : \"approximately\",\n",
    "    \"apps\" : \"applications\",\n",
    "    \"asap\" : \"as soon as possible\",\n",
    "    \"asl\" : \"age, sex, location\",\n",
    "    \"atk\" : \"at the keyboard\",\n",
    "    \"ave.\" : \"avenue\",\n",
    "    \"aymm\" : \"are you my mother\",\n",
    "    \"ayor\" : \"at your own risk\", \n",
    "    \"b&b\" : \"bed and breakfast\",\n",
    "    \"b+b\" : \"bed and breakfast\",\n",
    "    \"b.c\" : \"before christ\",\n",
    "    \"b2b\" : \"business to business\",\n",
    "    \"b2c\" : \"business to customer\",\n",
    "    \"b4\" : \"before\",\n",
    "    \"b4n\" : \"bye for now\",\n",
    "    \"b@u\" : \"back at you\",\n",
    "    \"bae\" : \"before anyone else\",\n",
    "    \"bak\" : \"back at keyboard\",\n",
    "    \"bbbg\" : \"bye bye be good\",\n",
    "    \"bbc\" : \"british broadcasting corporation\",\n",
    "    \"bbias\" : \"be back in a second\",\n",
    "    \"bbl\" : \"be back later\",\n",
    "    \"bbs\" : \"be back soon\",\n",
    "    \"be4\" : \"before\",\n",
    "    \"bfn\" : \"bye for now\",\n",
    "    \"blvd\" : \"boulevard\",\n",
    "    \"bout\" : \"about\",\n",
    "    \"brb\" : \"be right back\",\n",
    "    \"bros\" : \"brothers\",\n",
    "    \"brt\" : \"be right there\",\n",
    "    \"bsaaw\" : \"big smile and a wink\",\n",
    "    \"btw\" : \"by the way\",\n",
    "    \"bwl\" : \"bursting with laughter\",\n",
    "    \"c/o\" : \"care of\",\n",
    "    \"cet\" : \"central european time\",\n",
    "    \"cf\" : \"compare\",\n",
    "    \"cia\" : \"central intelligence agency\",\n",
    "    \"csl\" : \"can not stop laughing\",\n",
    "    \"cu\" : \"see you\",\n",
    "    \"cul8r\" : \"see you later\",\n",
    "    \"cv\" : \"curriculum vitae\",\n",
    "    \"cwot\" : \"complete waste of time\",\n",
    "    \"cya\" : \"see you\",\n",
    "    \"cyt\" : \"see you tomorrow\",\n",
    "    \"dae\" : \"does anyone else\",\n",
    "    \"dbmib\" : \"do not bother me i am busy\",\n",
    "    \"diy\" : \"do it yourself\",\n",
    "    \"dm\" : \"direct message\",\n",
    "    \"dwh\" : \"during work hours\",\n",
    "    \"e123\" : \"easy as one two three\",\n",
    "    \"eet\" : \"eastern european time\",\n",
    "    \"eg\" : \"example\",\n",
    "    \"embm\" : \"early morning business meeting\",\n",
    "    \"encl\" : \"enclosed\",\n",
    "    \"encl.\" : \"enclosed\",\n",
    "    \"etc\" : \"and so on\",\n",
    "    \"faq\" : \"frequently asked questions\",\n",
    "    \"fawc\" : \"for anyone who cares\",\n",
    "    \"fb\" : \"facebook\",\n",
    "    \"fc\" : \"fingers crossed\",\n",
    "    \"fig\" : \"figure\",\n",
    "    \"fimh\" : \"forever in my heart\", \n",
    "    \"ft.\" : \"feet\",\n",
    "    \"ft\" : \"featuring\",\n",
    "    \"ftl\" : \"for the loss\",\n",
    "    \"ftw\" : \"for the win\",\n",
    "    \"fwiw\" : \"for what it is worth\",\n",
    "    \"fyi\" : \"for your information\",\n",
    "    \"g9\" : \"genius\",\n",
    "    \"gahoy\" : \"get a hold of yourself\",\n",
    "    \"gal\" : \"get a life\",\n",
    "    \"gcse\" : \"general certificate of secondary education\",\n",
    "    \"gfn\" : \"gone for now\",\n",
    "    \"gg\" : \"good game\",\n",
    "    \"gl\" : \"good luck\",\n",
    "    \"glhf\" : \"good luck have fun\",\n",
    "    \"gmt\" : \"greenwich mean time\",\n",
    "    \"gmta\" : \"great minds think alike\",\n",
    "    \"gn\" : \"good night\",\n",
    "    \"g.o.a.t\" : \"greatest of all time\",\n",
    "    \"goat\" : \"greatest of all time\",\n",
    "    \"goi\" : \"get over it\",\n",
    "    \"gps\" : \"global positioning system\",\n",
    "    \"gr8\" : \"great\",\n",
    "    \"gratz\" : \"congratulations\",\n",
    "    \"gyal\" : \"girl\",\n",
    "    \"h&c\" : \"hot and cold\",\n",
    "    \"hp\" : \"horsepower\",\n",
    "    \"hr\" : \"hour\",\n",
    "    \"hrh\" : \"his royal highness\",\n",
    "    \"ht\" : \"height\",\n",
    "    \"ibrb\" : \"i will be right back\",\n",
    "    \"ic\" : \"i see\",\n",
    "    \"icq\" : \"i seek you\",\n",
    "    \"icymi\" : \"in case you missed it\",\n",
    "    \"idc\" : \"i do not care\",\n",
    "    \"idgadf\" : \"i do not give a damn fuck\",\n",
    "    \"idgaf\" : \"i do not give a fuck\",\n",
    "    \"idk\" : \"i do not know\",\n",
    "    \"ie\" : \"that is\",\n",
    "    \"i.e\" : \"that is\",\n",
    "    \"ifyp\" : \"i feel your pain\",\n",
    "    \"IG\" : \"instagram\",\n",
    "    \"iirc\" : \"if i remember correctly\",\n",
    "    \"ilu\" : \"i love you\",\n",
    "    \"ily\" : \"i love you\",\n",
    "    \"imho\" : \"in my humble opinion\",\n",
    "    \"imo\" : \"in my opinion\",\n",
    "    \"imu\" : \"i miss you\",\n",
    "    \"iow\" : \"in other words\",\n",
    "    \"irl\" : \"in real life\",\n",
    "    \"j4f\" : \"just for fun\",\n",
    "    \"jic\" : \"just in case\",\n",
    "    \"jk\" : \"just kidding\",\n",
    "    \"jsyk\" : \"just so you know\",\n",
    "    \"l8r\" : \"later\",\n",
    "    \"lb\" : \"pound\",\n",
    "    \"lbs\" : \"pounds\",\n",
    "    \"ldr\" : \"long distance relationship\",\n",
    "    \"lmao\" : \"laugh my ass off\",\n",
    "    \"lmfao\" : \"laugh my fucking ass off\",\n",
    "    \"lol\" : \"laughing out loud\",\n",
    "    \"ltd\" : \"limited\",\n",
    "    \"ltns\" : \"long time no see\",\n",
    "    \"m8\" : \"mate\",\n",
    "    \"mf\" : \"motherfucker\",\n",
    "    \"mfs\" : \"motherfuckers\",\n",
    "    \"mfw\" : \"my face when\",\n",
    "    \"mofo\" : \"motherfucker\",\n",
    "    \"mph\" : \"miles per hour\",\n",
    "    \"mr\" : \"mister\",\n",
    "    \"mrw\" : \"my reaction when\",\n",
    "    \"ms\" : \"miss\",\n",
    "    \"mte\" : \"my thoughts exactly\",\n",
    "    \"nagi\" : \"not a good idea\",\n",
    "    \"nbc\" : \"national broadcasting company\",\n",
    "    \"nbd\" : \"not big deal\",\n",
    "    \"nfs\" : \"not for sale\",\n",
    "    \"ngl\" : \"not going to lie\",\n",
    "    \"nhs\" : \"national health service\",\n",
    "    \"nrn\" : \"no reply necessary\",\n",
    "    \"nsfl\" : \"not safe for life\",\n",
    "    \"nsfw\" : \"not safe for work\",\n",
    "    \"nth\" : \"nice to have\",\n",
    "    \"nvr\" : \"never\",\n",
    "    \"nyc\" : \"new york city\",\n",
    "    \"oc\" : \"original content\",\n",
    "    \"og\" : \"original\",\n",
    "    \"ohp\" : \"overhead projector\",\n",
    "    \"oic\" : \"oh i see\",\n",
    "    \"omdb\" : \"over my dead body\",\n",
    "    \"omg\" : \"oh my god\",\n",
    "    \"omw\" : \"on my way\",\n",
    "    \"p.a\" : \"per annum\",\n",
    "    \"p.m\" : \"after midday\",\n",
    "    \"pm\" : \"prime minister\",\n",
    "    \"poc\" : \"people of color\",\n",
    "    \"pov\" : \"point of view\",\n",
    "    \"pp\" : \"pages\",\n",
    "    \"ppl\" : \"people\",\n",
    "    \"prw\" : \"parents are watching\",\n",
    "    \"ps\" : \"postscript\",\n",
    "    \"pt\" : \"point\",\n",
    "    \"ptb\" : \"please text back\",\n",
    "    \"pto\" : \"please turn over\",\n",
    "    \"qpsa\" : \"what happens\", #\"que pasa\",\n",
    "    \"ratchet\" : \"rude\",\n",
    "    \"rbtl\" : \"read between the lines\",\n",
    "    \"rlrt\" : \"real life redata\", \n",
    "    \"rofl\" : \"rolling on the floor laughing\",\n",
    "    \"roflol\" : \"rolling on the floor laughing out loud\",\n",
    "    \"rotflmao\" : \"rolling on the floor laughing my ass off\",\n",
    "    \"rt\" : \"redata\",\n",
    "    \"ruok\" : \"are you ok\",\n",
    "    \"sfw\" : \"safe for work\",\n",
    "    \"sk8\" : \"skate\",\n",
    "    \"smh\" : \"shake my head\",\n",
    "    \"sq\" : \"square\",\n",
    "    \"srsly\" : \"seriously\", \n",
    "    \"ssdd\" : \"same stuff different day\",\n",
    "    \"tbh\" : \"to be honest\",\n",
    "    \"tbs\" : \"tablespooful\",\n",
    "    \"tbsp\" : \"tablespooful\",\n",
    "    \"tfw\" : \"that feeling when\",\n",
    "    \"thks\" : \"thank you\",\n",
    "    \"tho\" : \"though\",\n",
    "    \"thx\" : \"thank you\",\n",
    "    \"tia\" : \"thanks in advance\",\n",
    "    \"til\" : \"today i learned\",\n",
    "    \"tl;dr\" : \"too long i did not read\",\n",
    "    \"tldr\" : \"too long i did not read\",\n",
    "    \"tmb\" : \"data me back\",\n",
    "    \"tntl\" : \"trying not to laugh\",\n",
    "    \"ttyl\" : \"talk to you later\",\n",
    "    \"u\" : \"you\",\n",
    "    \"u2\" : \"you too\",\n",
    "    \"u4e\" : \"yours for ever\",\n",
    "    \"utc\" : \"coordinated universal time\",\n",
    "    \"w/\" : \"with\",\n",
    "    \"w/o\" : \"without\",\n",
    "    \"w8\" : \"wait\",\n",
    "    \"wassup\" : \"what is up\",\n",
    "    \"wb\" : \"welcome back\",\n",
    "    \"wtf\" : \"what the fuck\",\n",
    "    \"wtg\" : \"way to go\",\n",
    "    \"wtpa\" : \"where the party at\",\n",
    "    \"wuf\" : \"where are you from\",\n",
    "    \"wuzup\" : \"what is up\",\n",
    "    \"wywh\" : \"wish you were here\",\n",
    "    \"yd\" : \"yard\",\n",
    "    \"ygtr\" : \"you got that right\",\n",
    "    \"ynk\" : \"you never know\",\n",
    "    \"zzz\" : \"sleeping bored and tired\"\n",
    "}"
   ]
  },
  {
   "cell_type": "code",
   "execution_count": 43,
   "metadata": {
    "execution": {
     "iopub.execute_input": "2020-12-26T10:33:34.121547Z",
     "iopub.status.busy": "2020-12-26T10:33:34.120835Z",
     "iopub.status.idle": "2020-12-26T10:33:34.126864Z",
     "shell.execute_reply": "2020-12-26T10:33:34.125971Z"
    },
    "papermill": {
     "duration": 0.1091,
     "end_time": "2020-12-26T10:33:34.126991",
     "exception": false,
     "start_time": "2020-12-26T10:33:34.017891",
     "status": "completed"
    },
    "tags": []
   },
   "outputs": [],
   "source": [
    "# Thanks to https://www.kaggle.com/rftexas/text-only-kfold-bert\n",
    "def convert_abbrev(word):\n",
    "    return abbreviations[word.lower()] if word.lower() in abbreviations.keys() else word"
   ]
  },
  {
   "cell_type": "code",
   "execution_count": 44,
   "metadata": {
    "execution": {
     "iopub.execute_input": "2020-12-26T10:33:34.323007Z",
     "iopub.status.busy": "2020-12-26T10:33:34.322386Z",
     "iopub.status.idle": "2020-12-26T10:33:34.326290Z",
     "shell.execute_reply": "2020-12-26T10:33:34.326842Z"
    },
    "papermill": {
     "duration": 0.105301,
     "end_time": "2020-12-26T10:33:34.326987",
     "exception": false,
     "start_time": "2020-12-26T10:33:34.221686",
     "status": "completed"
    },
    "tags": []
   },
   "outputs": [],
   "source": [
    "# Thanks to https://www.kaggle.com/rftexas/text-only-kfold-bert\n",
    "def convert_abbrev_in_text(text):\n",
    "    tokens = word_tokenize(text)\n",
    "    tokens = [convert_abbrev(word) for word in tokens]\n",
    "    text = ' '.join(tokens)\n",
    "    return text"
   ]
  },
  {
   "cell_type": "code",
   "execution_count": 45,
   "metadata": {
    "execution": {
     "iopub.execute_input": "2020-12-26T10:33:34.554368Z",
     "iopub.status.busy": "2020-12-26T10:33:34.553455Z",
     "iopub.status.idle": "2020-12-26T10:33:34.562102Z",
     "shell.execute_reply": "2020-12-26T10:33:34.561488Z"
    },
    "papermill": {
     "duration": 0.142616,
     "end_time": "2020-12-26T10:33:34.562248",
     "exception": false,
     "start_time": "2020-12-26T10:33:34.419632",
     "status": "completed"
    },
    "tags": []
   },
   "outputs": [],
   "source": [
    "def data_clearning(df):\n",
    "    # Data clearning\n",
    "    df[\"text\"] = df[\"text\"].apply(lambda x: clean_datas(x))\n",
    "    df[\"text\"] = df[\"text\"].apply(lambda x: remove_emoji(x))\n",
    "    df[\"text\"] = df[\"text\"].apply(lambda x: remove_punctuations(x))\n",
    "    df[\"text\"] = df[\"text\"].apply(lambda x: convert_abbrev_in_text(x))\n",
    "    return df"
   ]
  },
  {
   "cell_type": "code",
   "execution_count": 46,
   "metadata": {
    "execution": {
     "iopub.execute_input": "2020-12-26T10:33:34.768109Z",
     "iopub.status.busy": "2020-12-26T10:33:34.767463Z",
     "iopub.status.idle": "2020-12-26T10:33:34.864276Z",
     "shell.execute_reply": "2020-12-26T10:33:34.863559Z"
    },
    "papermill": {
     "duration": 0.206088,
     "end_time": "2020-12-26T10:33:34.864391",
     "exception": false,
     "start_time": "2020-12-26T10:33:34.658303",
     "status": "completed"
    },
    "tags": []
   },
   "outputs": [],
   "source": [
    "# Thanks to https://www.kaggle.com/rftexas/text-only-kfold-bert\n",
    "if target_big_corrected:\n",
    "    train = data_clearning(train)\n",
    "    test = data_clearning(test)\n",
    "    data = data_clearning(data)"
   ]
  },
  {
   "cell_type": "markdown",
   "metadata": {
    "papermill": {
     "duration": 0.09545,
     "end_time": "2020-12-26T10:33:35.055673",
     "exception": false,
     "start_time": "2020-12-26T10:33:34.960223",
     "status": "completed"
    },
    "tags": []
   },
   "source": [
    "## 6. WordCloud <a class=\"anchor\" id=\"6\"></a>\n",
    "\n",
    "[Back to Table of Contents](#0.1)"
   ]
  },
  {
   "cell_type": "markdown",
   "metadata": {
    "papermill": {
     "duration": 0.09132,
     "end_time": "2020-12-26T10:33:35.241767",
     "exception": false,
     "start_time": "2020-12-26T10:33:35.150447",
     "status": "completed"
    },
    "tags": []
   },
   "source": [
    "Thanks to https://www.kaggle.com/arthurtok/spooky-nlp-and-topic-modelling-tutorial"
   ]
  },
  {
   "cell_type": "markdown",
   "metadata": {
    "papermill": {
     "duration": 0.09143,
     "end_time": "2020-12-26T10:33:35.428743",
     "exception": false,
     "start_time": "2020-12-26T10:33:35.337313",
     "status": "completed"
    },
    "tags": []
   },
   "source": [
    "### Target = 1"
   ]
  },
  {
   "cell_type": "code",
   "execution_count": 47,
   "metadata": {
    "execution": {
     "iopub.execute_input": "2020-12-26T10:33:35.619929Z",
     "iopub.status.busy": "2020-12-26T10:33:35.619096Z",
     "iopub.status.idle": "2020-12-26T10:33:35.625145Z",
     "shell.execute_reply": "2020-12-26T10:33:35.624511Z"
    },
    "papermill": {
     "duration": 0.106223,
     "end_time": "2020-12-26T10:33:35.625279",
     "exception": false,
     "start_time": "2020-12-26T10:33:35.519056",
     "status": "completed"
    },
    "tags": []
   },
   "outputs": [
    {
     "data": {
      "text/plain": [
       "1365"
      ]
     },
     "execution_count": 47,
     "metadata": {},
     "output_type": "execute_result"
    }
   ],
   "source": [
    "corpus_new1=create_corpus_df(df,1)\n",
    "len(corpus_new1)"
   ]
  },
  {
   "cell_type": "code",
   "execution_count": 48,
   "metadata": {
    "execution": {
     "iopub.execute_input": "2020-12-26T10:33:35.826103Z",
     "iopub.status.busy": "2020-12-26T10:33:35.825254Z",
     "iopub.status.idle": "2020-12-26T10:33:35.830386Z",
     "shell.execute_reply": "2020-12-26T10:33:35.829796Z"
    },
    "papermill": {
     "duration": 0.111216,
     "end_time": "2020-12-26T10:33:35.830499",
     "exception": false,
     "start_time": "2020-12-26T10:33:35.719283",
     "status": "completed"
    },
    "tags": []
   },
   "outputs": [
    {
     "data": {
      "text/plain": [
       "['This',\n",
       " 'amount',\n",
       " 'is',\n",
       " 'distributed',\n",
       " 'as',\n",
       " 'follows',\n",
       " 'urban',\n",
       " 'and',\n",
       " 'rural',\n",
       " 'housing']"
      ]
     },
     "execution_count": 48,
     "metadata": {},
     "output_type": "execute_result"
    }
   ],
   "source": [
    "corpus_new1[:10]"
   ]
  },
  {
   "cell_type": "code",
   "execution_count": 49,
   "metadata": {
    "execution": {
     "iopub.execute_input": "2020-12-26T10:33:36.034437Z",
     "iopub.status.busy": "2020-12-26T10:33:36.033235Z",
     "iopub.status.idle": "2020-12-26T10:33:36.266073Z",
     "shell.execute_reply": "2020-12-26T10:33:36.264941Z"
    },
    "papermill": {
     "duration": 0.34113,
     "end_time": "2020-12-26T10:33:36.266259",
     "exception": false,
     "start_time": "2020-12-26T10:33:35.925129",
     "status": "completed"
    },
    "tags": []
   },
   "outputs": [
    {
     "data": {
      "image/png": "[encoded data removed]",
      "text/plain": [
       "<Figure size 864x576 with 1 Axes>"
      ]
     },
     "metadata": {},
     "output_type": "display_data"
    }
   ],
   "source": [
    "# Generating the wordcloud with the values under the category dataframe\n",
    "plt.figure(figsize=(12,8))\n",
    "word_cloud = WordCloud(\n",
    "                          background_color='black',\n",
    "                          max_font_size = 80\n",
    "                         ).generate(\" \".join(corpus_new1[:50]))\n",
    "plt.imshow(word_cloud)\n",
    "plt.axis('off')\n",
    "plt.show()"
   ]
  },
  {
   "cell_type": "markdown",
   "metadata": {
    "papermill": {
     "duration": 0.151265,
     "end_time": "2020-12-26T10:33:36.565087",
     "exception": false,
     "start_time": "2020-12-26T10:33:36.413822",
     "status": "completed"
    },
    "tags": []
   },
   "source": [
    "### Target = 0"
   ]
  },
  {
   "cell_type": "code",
   "execution_count": 50,
   "metadata": {
    "execution": {
     "iopub.execute_input": "2020-12-26T10:33:36.871464Z",
     "iopub.status.busy": "2020-12-26T10:33:36.870531Z",
     "iopub.status.idle": "2020-12-26T10:33:36.879010Z",
     "shell.execute_reply": "2020-12-26T10:33:36.877075Z"
    },
    "papermill": {
     "duration": 0.164024,
     "end_time": "2020-12-26T10:33:36.879374",
     "exception": false,
     "start_time": "2020-12-26T10:33:36.715350",
     "status": "completed"
    },
    "tags": []
   },
   "outputs": [
    {
     "data": {
      "text/plain": [
       "1072"
      ]
     },
     "execution_count": 50,
     "metadata": {},
     "output_type": "execute_result"
    }
   ],
   "source": [
    "corpus_new0=create_corpus_df(df,0)\n",
    "len(corpus_new0)"
   ]
  },
  {
   "cell_type": "code",
   "execution_count": 51,
   "metadata": {
    "execution": {
     "iopub.execute_input": "2020-12-26T10:33:37.087267Z",
     "iopub.status.busy": "2020-12-26T10:33:37.086256Z",
     "iopub.status.idle": "2020-12-26T10:33:37.090926Z",
     "shell.execute_reply": "2020-12-26T10:33:37.090322Z"
    },
    "papermill": {
     "duration": 0.110944,
     "end_time": "2020-12-26T10:33:37.091044",
     "exception": false,
     "start_time": "2020-12-26T10:33:36.980100",
     "status": "completed"
    },
    "tags": []
   },
   "outputs": [
    {
     "data": {
      "text/plain": [
       "['The',\n",
       " 'basin',\n",
       " 'includes',\n",
       " '189',\n",
       " 'water',\n",
       " 'storage',\n",
       " 'reservoirs',\n",
       " 'and',\n",
       " '9640',\n",
       " 'lakes']"
      ]
     },
     "execution_count": 51,
     "metadata": {},
     "output_type": "execute_result"
    }
   ],
   "source": [
    "corpus_new0[:10]"
   ]
  },
  {
   "cell_type": "code",
   "execution_count": 52,
   "metadata": {
    "execution": {
     "iopub.execute_input": "2020-12-26T10:33:37.303582Z",
     "iopub.status.busy": "2020-12-26T10:33:37.301123Z",
     "iopub.status.idle": "2020-12-26T10:33:37.529267Z",
     "shell.execute_reply": "2020-12-26T10:33:37.528555Z"
    },
    "papermill": {
     "duration": 0.336736,
     "end_time": "2020-12-26T10:33:37.529386",
     "exception": false,
     "start_time": "2020-12-26T10:33:37.192650",
     "status": "completed"
    },
    "tags": []
   },
   "outputs": [
    {
     "data": {
      "image/png": "[encoded data removed]",
      "text/plain": [
       "<Figure size 864x576 with 1 Axes>"
      ]
     },
     "metadata": {},
     "output_type": "display_data"
    }
   ],
   "source": [
    "# Generating the wordcloud with the values under the category dataframe\n",
    "plt.figure(figsize=(12,8))\n",
    "word_cloud = WordCloud(\n",
    "                          background_color='black',\n",
    "                          max_font_size = 80\n",
    "                         ).generate(\" \".join(corpus_new0[:50]))\n",
    "plt.imshow(word_cloud)\n",
    "plt.axis('off')\n",
    "plt.show()"
   ]
  },
  {
   "cell_type": "code",
   "execution_count": 53,
   "metadata": {
    "execution": {
     "iopub.execute_input": "2020-12-26T10:33:37.748020Z",
     "iopub.status.busy": "2020-12-26T10:33:37.747351Z",
     "iopub.status.idle": "2020-12-26T10:33:37.752650Z",
     "shell.execute_reply": "2020-12-26T10:33:37.751973Z"
    },
    "papermill": {
     "duration": 0.120285,
     "end_time": "2020-12-26T10:33:37.752762",
     "exception": false,
     "start_time": "2020-12-26T10:33:37.632477",
     "status": "completed"
    },
    "tags": []
   },
   "outputs": [
    {
     "data": {
      "text/html": [
       "<div>\n",
       "<style scoped>\n",
       "    .dataframe tbody tr th:only-of-type {\n",
       "        vertical-align: middle;\n",
       "    }\n",
       "\n",
       "    .dataframe tbody tr th {\n",
       "        vertical-align: top;\n",
       "    }\n",
       "\n",
       "    .dataframe thead th {\n",
       "        text-align: right;\n",
       "    }\n",
       "</style>\n",
       "<table border=\"1\" class=\"dataframe\">\n",
       "  <thead>\n",
       "    <tr style=\"text-align: right;\">\n",
       "      <th></th>\n",
       "      <th>text</th>\n",
       "      <th>target</th>\n",
       "    </tr>\n",
       "  </thead>\n",
       "  <tbody>\n",
       "    <tr>\n",
       "      <th>1</th>\n",
       "      <td>This amount is distributed as follows urban an...</td>\n",
       "      <td>1</td>\n",
       "    </tr>\n",
       "    <tr>\n",
       "      <th>61</th>\n",
       "      <td>The basin includes 189 water storage reservoir...</td>\n",
       "      <td>0</td>\n",
       "    </tr>\n",
       "    <tr>\n",
       "      <th>42</th>\n",
       "      <td>Dynamics of phosphate ions along the length of...</td>\n",
       "      <td>1</td>\n",
       "    </tr>\n",
       "    <tr>\n",
       "      <th>41</th>\n",
       "      <td>Phosphorus belongs to the elements which hardl...</td>\n",
       "      <td>0</td>\n",
       "    </tr>\n",
       "    <tr>\n",
       "      <th>4</th>\n",
       "      <td>The input of the industry is between 7–21 and ...</td>\n",
       "      <td>1</td>\n",
       "    </tr>\n",
       "    <tr>\n",
       "      <th>15</th>\n",
       "      <td>This method allows extracting only a part of p...</td>\n",
       "      <td>1</td>\n",
       "    </tr>\n",
       "    <tr>\n",
       "      <th>17</th>\n",
       "      <td>The existing wastewater treatment facilities w...</td>\n",
       "      <td>1</td>\n",
       "    </tr>\n",
       "    <tr>\n",
       "      <th>40</th>\n",
       "      <td>It is worth of mentioning the low level of tre...</td>\n",
       "      <td>1</td>\n",
       "    </tr>\n",
       "    <tr>\n",
       "      <th>38</th>\n",
       "      <td>This leads to balance destruction between soli...</td>\n",
       "      <td>1</td>\n",
       "    </tr>\n",
       "    <tr>\n",
       "      <th>5</th>\n",
       "      <td>Settlements that do not have sewage systems us...</td>\n",
       "      <td>1</td>\n",
       "    </tr>\n",
       "  </tbody>\n",
       "</table>\n",
       "</div>"
      ],
      "text/plain": [
       "                                                 text  target\n",
       "1   This amount is distributed as follows urban an...       1\n",
       "61  The basin includes 189 water storage reservoir...       0\n",
       "42  Dynamics of phosphate ions along the length of...       1\n",
       "41  Phosphorus belongs to the elements which hardl...       0\n",
       "4   The input of the industry is between 7–21 and ...       1\n",
       "15  This method allows extracting only a part of p...       1\n",
       "17  The existing wastewater treatment facilities w...       1\n",
       "40  It is worth of mentioning the low level of tre...       1\n",
       "38  This leads to balance destruction between soli...       1\n",
       "5   Settlements that do not have sewage systems us...       1"
      ]
     },
     "execution_count": 53,
     "metadata": {},
     "output_type": "execute_result"
    }
   ],
   "source": [
    "df.head(10)"
   ]
  },
  {
   "cell_type": "markdown",
   "metadata": {
    "papermill": {
     "duration": 0.132372,
     "end_time": "2020-12-26T10:33:37.992252",
     "exception": false,
     "start_time": "2020-12-26T10:33:37.859880",
     "status": "completed"
    },
    "tags": []
   },
   "source": [
    "## 7. Bag of Words Counts <a class=\"anchor\" id=\"7\"></a>\n",
    "\n",
    "[Back to Table of Contents](#0.1)"
   ]
  },
  {
   "cell_type": "markdown",
   "metadata": {
    "papermill": {
     "duration": 0.105681,
     "end_time": "2020-12-26T10:33:38.224346",
     "exception": false,
     "start_time": "2020-12-26T10:33:38.118665",
     "status": "completed"
    },
    "tags": []
   },
   "source": [
    "Thanks to https://github.com/hundredblocks/concrete_NLP_tutorial/blob/master/NLP_notebook.ipynb"
   ]
  },
  {
   "cell_type": "code",
   "execution_count": 54,
   "metadata": {
    "execution": {
     "iopub.execute_input": "2020-12-26T10:33:38.441293Z",
     "iopub.status.busy": "2020-12-26T10:33:38.440351Z",
     "iopub.status.idle": "2020-12-26T10:33:38.445134Z",
     "shell.execute_reply": "2020-12-26T10:33:38.444460Z"
    },
    "papermill": {
     "duration": 0.112064,
     "end_time": "2020-12-26T10:33:38.445274",
     "exception": false,
     "start_time": "2020-12-26T10:33:38.333210",
     "status": "completed"
    },
    "tags": []
   },
   "outputs": [],
   "source": [
    "def cv(data):\n",
    "    count_vectorizer = CountVectorizer()\n",
    "\n",
    "    emb = count_vectorizer.fit_transform(data)\n",
    "\n",
    "    return emb, count_vectorizer"
   ]
  },
  {
   "cell_type": "code",
   "execution_count": 55,
   "metadata": {
    "execution": {
     "iopub.execute_input": "2020-12-26T10:33:38.666116Z",
     "iopub.status.busy": "2020-12-26T10:33:38.662334Z",
     "iopub.status.idle": "2020-12-26T10:33:38.672139Z",
     "shell.execute_reply": "2020-12-26T10:33:38.672723Z"
    },
    "papermill": {
     "duration": 0.122994,
     "end_time": "2020-12-26T10:33:38.672880",
     "exception": false,
     "start_time": "2020-12-26T10:33:38.549886",
     "status": "completed"
    },
    "tags": []
   },
   "outputs": [],
   "source": [
    "# Preparation data for processing\n",
    "X_train = train[\"text\"].tolist()\n",
    "y_train = train[\"target\"].tolist()\n",
    "X_train_counts, count_vectorizer = cv(X_train)\n",
    "\n",
    "X_test = test[\"text\"].tolist()\n",
    "y_test = test[\"target\"].tolist()\n",
    "X_test_counts = count_vectorizer.transform(X_test)"
   ]
  },
  {
   "cell_type": "markdown",
   "metadata": {
    "papermill": {
     "duration": 0.10408,
     "end_time": "2020-12-26T10:33:38.889318",
     "exception": false,
     "start_time": "2020-12-26T10:33:38.785238",
     "status": "completed"
    },
    "tags": []
   },
   "source": [
    "### Visualizing the embeddings"
   ]
  },
  {
   "cell_type": "code",
   "execution_count": 56,
   "metadata": {
    "execution": {
     "iopub.execute_input": "2020-12-26T10:33:39.118730Z",
     "iopub.status.busy": "2020-12-26T10:33:39.114414Z",
     "iopub.status.idle": "2020-12-26T10:33:39.450157Z",
     "shell.execute_reply": "2020-12-26T10:33:39.449591Z"
    },
    "papermill": {
     "duration": 0.454929,
     "end_time": "2020-12-26T10:33:39.450326",
     "exception": false,
     "start_time": "2020-12-26T10:33:38.995397",
     "status": "completed"
    },
    "tags": []
   },
   "outputs": [
    {
     "data": {
      "image/png": "[encoded data removed]",
      "text/plain": [
       "<Figure size 1008x576 with 1 Axes>"
      ]
     },
     "metadata": {},
     "output_type": "display_data"
    }
   ],
   "source": [
    "def plot_LSA(test_data, test_labels, savepath=\"PCA_demo.csv\", plot=True):\n",
    "        lsa = TruncatedSVD(n_components=2)\n",
    "        lsa.fit(test_data)\n",
    "        lsa_scores = lsa.transform(test_data)\n",
    "        color_mapper = {label:idx for idx,label in enumerate(set(test_labels))}\n",
    "        color_column = [color_mapper[label] for label in test_labels]\n",
    "        colors = ['orange','blue']\n",
    "        if plot:\n",
    "            plt.scatter(lsa_scores[:,0], lsa_scores[:,1], s=150, alpha=.8, c=test_labels, cmap=matplotlib.colors.ListedColormap(colors))\n",
    "            orange_patch = mpatches.Patch(color='orange', label='Not')\n",
    "            blue_patch = mpatches.Patch(color='blue', label='Real')\n",
    "            plt.legend(handles=[orange_patch, blue_patch], prop={'size': 20})\n",
    "\n",
    "fig = plt.figure(figsize=(14, 8))          \n",
    "plot_LSA(X_train_counts, y_train)\n",
    "plt.show()"
   ]
  },
  {
   "cell_type": "markdown",
   "metadata": {
    "papermill": {
     "duration": 0.106959,
     "end_time": "2020-12-26T10:33:39.665153",
     "exception": false,
     "start_time": "2020-12-26T10:33:39.558194",
     "status": "completed"
    },
    "tags": []
   },
   "source": [
    "These embeddings don't look very cleanly separated. Let's see if we can still fit a useful model on them."
   ]
  },
  {
   "cell_type": "markdown",
   "metadata": {
    "papermill": {
     "duration": 0.105957,
     "end_time": "2020-12-26T10:33:39.876609",
     "exception": false,
     "start_time": "2020-12-26T10:33:39.770652",
     "status": "completed"
    },
    "tags": []
   },
   "source": [
    "## 8. TF IDF <a class=\"anchor\" id=\"8\"></a>\n",
    "\n",
    "[Back to Table of Contents](#0.1)"
   ]
  },
  {
   "cell_type": "code",
   "execution_count": 57,
   "metadata": {
    "execution": {
     "iopub.execute_input": "2020-12-26T10:33:40.099025Z",
     "iopub.status.busy": "2020-12-26T10:33:40.097845Z",
     "iopub.status.idle": "2020-12-26T10:33:40.111945Z",
     "shell.execute_reply": "2020-12-26T10:33:40.111366Z"
    },
    "papermill": {
     "duration": 0.129433,
     "end_time": "2020-12-26T10:33:40.112058",
     "exception": false,
     "start_time": "2020-12-26T10:33:39.982625",
     "status": "completed"
    },
    "tags": []
   },
   "outputs": [],
   "source": [
    "def tfidf(data):\n",
    "    tfidf_vectorizer = TfidfVectorizer()\n",
    "\n",
    "    train = tfidf_vectorizer.fit_transform(data)\n",
    "\n",
    "    return train, tfidf_vectorizer\n",
    "\n",
    "X_train_tfidf, tfidf_vectorizer = tfidf(X_train)\n",
    "X_test_tfidf = tfidf_vectorizer.transform(X_test)"
   ]
  },
  {
   "cell_type": "code",
   "execution_count": 58,
   "metadata": {
    "execution": {
     "iopub.execute_input": "2020-12-26T10:33:40.329719Z",
     "iopub.status.busy": "2020-12-26T10:33:40.328658Z",
     "iopub.status.idle": "2020-12-26T10:33:40.579812Z",
     "shell.execute_reply": "2020-12-26T10:33:40.579110Z"
    },
    "papermill": {
     "duration": 0.363949,
     "end_time": "2020-12-26T10:33:40.579966",
     "exception": false,
     "start_time": "2020-12-26T10:33:40.216017",
     "status": "completed"
    },
    "tags": []
   },
   "outputs": [
    {
     "data": {
      "image/png": "[encoded data removed]",
      "text/plain": [
       "<Figure size 1008x576 with 1 Axes>"
      ]
     },
     "metadata": {},
     "output_type": "display_data"
    }
   ],
   "source": [
    "fig = plt.figure(figsize=(14, 8))\n",
    "plot_LSA(X_train_tfidf, y_train)\n",
    "plt.show()"
   ]
  },
  {
   "cell_type": "markdown",
   "metadata": {
    "papermill": {
     "duration": 0.108497,
     "end_time": "2020-12-26T10:33:40.797787",
     "exception": false,
     "start_time": "2020-12-26T10:33:40.689290",
     "status": "completed"
    },
    "tags": []
   },
   "source": [
    "These embeddings are not badly separated."
   ]
  },
  {
   "cell_type": "markdown",
   "metadata": {
    "papermill": {
     "duration": 0.10865,
     "end_time": "2020-12-26T10:33:41.014480",
     "exception": false,
     "start_time": "2020-12-26T10:33:40.905830",
     "status": "completed"
    },
    "tags": []
   },
   "source": [
    "## 9. GloVe <a class=\"anchor\" id=\"9\"></a>\n",
    "\n",
    "[Back to Table of Contents](#0.1)"
   ]
  },
  {
   "cell_type": "markdown",
   "metadata": {
    "papermill": {
     "duration": 0.111102,
     "end_time": "2020-12-26T10:33:41.231068",
     "exception": false,
     "start_time": "2020-12-26T10:33:41.119966",
     "status": "completed"
    },
    "tags": []
   },
   "source": [
    "Thanks to https://www.kaggle.com/shahules/basic-eda-cleaning-and-glove"
   ]
  },
  {
   "cell_type": "markdown",
   "metadata": {
    "papermill": {
     "duration": 0.106036,
     "end_time": "2020-12-26T10:33:41.446918",
     "exception": false,
     "start_time": "2020-12-26T10:33:41.340882",
     "status": "completed"
    },
    "tags": []
   },
   "source": [
    "Here we will use GloVe pretrained corpus model to represent our words. It is available in 3 varieties : 50D, 100D and 200 Dimentional. We will try 100D here."
   ]
  },
  {
   "cell_type": "code",
   "execution_count": 59,
   "metadata": {
    "execution": {
     "iopub.execute_input": "2020-12-26T10:33:41.672646Z",
     "iopub.status.busy": "2020-12-26T10:33:41.671945Z",
     "iopub.status.idle": "2020-12-26T10:33:41.674551Z",
     "shell.execute_reply": "2020-12-26T10:33:41.675374Z"
    },
    "papermill": {
     "duration": 0.120822,
     "end_time": "2020-12-26T10:33:41.675525",
     "exception": false,
     "start_time": "2020-12-26T10:33:41.554703",
     "status": "completed"
    },
    "tags": []
   },
   "outputs": [],
   "source": [
    "def create_corpus_new(df):\n",
    "    corpus=[]\n",
    "    for data in tqdm(df['text']):\n",
    "        words=[word.lower() for word in word_tokenize(data)]\n",
    "        corpus.append(words)\n",
    "    return corpus   "
   ]
  },
  {
   "cell_type": "code",
   "execution_count": 60,
   "metadata": {
    "execution": {
     "iopub.execute_input": "2020-12-26T10:33:41.901198Z",
     "iopub.status.busy": "2020-12-26T10:33:41.900571Z",
     "iopub.status.idle": "2020-12-26T10:33:41.960222Z",
     "shell.execute_reply": "2020-12-26T10:33:41.960856Z"
    },
    "papermill": {
     "duration": 0.172211,
     "end_time": "2020-12-26T10:33:41.961002",
     "exception": false,
     "start_time": "2020-12-26T10:33:41.788791",
     "status": "completed"
    },
    "tags": []
   },
   "outputs": [
    {
     "name": "stderr",
     "output_type": "stream",
     "text": [
      "100%|██████████| 100/100 [00:00<00:00, 2052.88it/s]\n"
     ]
    }
   ],
   "source": [
    "corpus=create_corpus_new(df)"
   ]
  },
  {
   "cell_type": "code",
   "execution_count": 61,
   "metadata": {
    "execution": {
     "iopub.execute_input": "2020-12-26T10:33:42.182969Z",
     "iopub.status.busy": "2020-12-26T10:33:42.182280Z",
     "iopub.status.idle": "2020-12-26T10:34:07.911517Z",
     "shell.execute_reply": "2020-12-26T10:34:07.910616Z"
    },
    "papermill": {
     "duration": 25.840336,
     "end_time": "2020-12-26T10:34:07.911648",
     "exception": false,
     "start_time": "2020-12-26T10:33:42.071312",
     "status": "completed"
    },
    "tags": []
   },
   "outputs": [],
   "source": [
    "embedding_dict={}\n",
    "with open('../input/glove-global-vectors-for-word-representation/glove.6B.100d.txt','r') as f:\n",
    "    for line in f:\n",
    "        values=line.split()\n",
    "        word = values[0]\n",
    "        vectors=np.asarray(values[1:],'float32')\n",
    "        embedding_dict[word]=vectors\n",
    "f.close()"
   ]
  },
  {
   "cell_type": "code",
   "execution_count": 62,
   "metadata": {
    "execution": {
     "iopub.execute_input": "2020-12-26T10:34:08.148441Z",
     "iopub.status.busy": "2020-12-26T10:34:08.147629Z",
     "iopub.status.idle": "2020-12-26T10:34:08.156497Z",
     "shell.execute_reply": "2020-12-26T10:34:08.155380Z"
    },
    "papermill": {
     "duration": 0.131194,
     "end_time": "2020-12-26T10:34:08.156748",
     "exception": false,
     "start_time": "2020-12-26T10:34:08.025554",
     "status": "completed"
    },
    "tags": []
   },
   "outputs": [],
   "source": [
    "MAX_LEN=50\n",
    "tokenizer_obj=Tokenizer()\n",
    "tokenizer_obj.fit_on_texts(corpus)\n",
    "sequences=tokenizer_obj.texts_to_sequences(corpus)\n",
    "\n",
    "data_pad=pad_sequences(sequences,maxlen=MAX_LEN,truncating='post',padding='post')"
   ]
  },
  {
   "cell_type": "code",
   "execution_count": 63,
   "metadata": {
    "execution": {
     "iopub.execute_input": "2020-12-26T10:34:08.393162Z",
     "iopub.status.busy": "2020-12-26T10:34:08.392236Z",
     "iopub.status.idle": "2020-12-26T10:34:08.398287Z",
     "shell.execute_reply": "2020-12-26T10:34:08.399073Z"
    },
    "papermill": {
     "duration": 0.123716,
     "end_time": "2020-12-26T10:34:08.399325",
     "exception": false,
     "start_time": "2020-12-26T10:34:08.275609",
     "status": "completed"
    },
    "tags": []
   },
   "outputs": [
    {
     "name": "stdout",
     "output_type": "stream",
     "text": [
      "Number of unique words: 815\n"
     ]
    }
   ],
   "source": [
    "word_index=tokenizer_obj.word_index\n",
    "print('Number of unique words:',len(word_index))"
   ]
  },
  {
   "cell_type": "code",
   "execution_count": 64,
   "metadata": {
    "execution": {
     "iopub.execute_input": "2020-12-26T10:34:08.627441Z",
     "iopub.status.busy": "2020-12-26T10:34:08.625922Z",
     "iopub.status.idle": "2020-12-26T10:34:08.642779Z",
     "shell.execute_reply": "2020-12-26T10:34:08.641339Z"
    },
    "papermill": {
     "duration": 0.133921,
     "end_time": "2020-12-26T10:34:08.642983",
     "exception": false,
     "start_time": "2020-12-26T10:34:08.509062",
     "status": "completed"
    },
    "tags": []
   },
   "outputs": [
    {
     "name": "stderr",
     "output_type": "stream",
     "text": [
      "100%|██████████| 815/815 [00:00<00:00, 263274.63it/s]\n"
     ]
    }
   ],
   "source": [
    "num_words=len(word_index)+1\n",
    "embedding_matrix=np.zeros((num_words,100))\n",
    "\n",
    "for word,i in tqdm(word_index.items()):\n",
    "    if i < num_words:\n",
    "        emb_vec=embedding_dict.get(word)\n",
    "        if emb_vec is not None:\n",
    "            embedding_matrix[i]=emb_vec           "
   ]
  },
  {
   "cell_type": "code",
   "execution_count": 65,
   "metadata": {
    "execution": {
     "iopub.execute_input": "2020-12-26T10:34:08.983766Z",
     "iopub.status.busy": "2020-12-26T10:34:08.982830Z",
     "iopub.status.idle": "2020-12-26T10:34:08.987115Z",
     "shell.execute_reply": "2020-12-26T10:34:08.987865Z"
    },
    "papermill": {
     "duration": 0.183564,
     "end_time": "2020-12-26T10:34:08.988040",
     "exception": false,
     "start_time": "2020-12-26T10:34:08.804476",
     "status": "completed"
    },
    "tags": []
   },
   "outputs": [
    {
     "data": {
      "text/plain": [
       "array([ 44,  51,   6, 311,  36, 312, 132,   4, 185, 186,  16,  29,  37,\n",
       "        45, 133,  19, 313,  68,  69, 314,  52, 187,  19, 315,  68,  69,\n",
       "       188,  52, 189,  19, 316,  68,  69, 317,  52, 134,  52,  19,  70,\n",
       "        68,  69, 190,  52,  91, 318,   0,   0,   0,   0,   0], dtype=int32)"
      ]
     },
     "execution_count": 65,
     "metadata": {},
     "output_type": "execute_result"
    }
   ],
   "source": [
    "data_pad[0][0:]"
   ]
  },
  {
   "cell_type": "markdown",
   "metadata": {
    "papermill": {
     "duration": 0.160311,
     "end_time": "2020-12-26T10:34:09.311935",
     "exception": false,
     "start_time": "2020-12-26T10:34:09.151624",
     "status": "completed"
    },
    "tags": []
   },
   "source": [
    "## Baseline Model with GloVe results"
   ]
  },
  {
   "cell_type": "code",
   "execution_count": 66,
   "metadata": {
    "execution": {
     "iopub.execute_input": "2020-12-26T10:34:09.644107Z",
     "iopub.status.busy": "2020-12-26T10:34:09.642901Z",
     "iopub.status.idle": "2020-12-26T10:34:10.149342Z",
     "shell.execute_reply": "2020-12-26T10:34:10.149848Z"
    },
    "papermill": {
     "duration": 0.674014,
     "end_time": "2020-12-26T10:34:10.150012",
     "exception": false,
     "start_time": "2020-12-26T10:34:09.475998",
     "status": "completed"
    },
    "tags": []
   },
   "outputs": [],
   "source": [
    "model=Sequential()\n",
    "\n",
    "embedding=Embedding(num_words,100,embeddings_initializer=Constant(embedding_matrix),\n",
    "                   input_length=MAX_LEN,trainable=False)\n",
    "\n",
    "model.add(embedding)\n",
    "model.add(SpatialDropout1D(0.2))\n",
    "model.add(LSTM(100, dropout=0.2, recurrent_dropout=0.2))\n",
    "model.add(Dense(1, activation='sigmoid'))\n",
    "\n",
    "\n",
    "optimzer=Adam(learning_rate=4e-4)\n",
    "\n",
    "model.compile(loss='binary_crossentropy',optimizer=optimzer,metrics=['accuracy'])"
   ]
  },
  {
   "cell_type": "code",
   "execution_count": 67,
   "metadata": {
    "execution": {
     "iopub.execute_input": "2020-12-26T10:34:10.380666Z",
     "iopub.status.busy": "2020-12-26T10:34:10.379957Z",
     "iopub.status.idle": "2020-12-26T10:34:10.389967Z",
     "shell.execute_reply": "2020-12-26T10:34:10.388770Z"
    },
    "papermill": {
     "duration": 0.128893,
     "end_time": "2020-12-26T10:34:10.390323",
     "exception": false,
     "start_time": "2020-12-26T10:34:10.261430",
     "status": "completed"
    },
    "tags": []
   },
   "outputs": [
    {
     "name": "stdout",
     "output_type": "stream",
     "text": [
      "Model: \"sequential\"\n",
      "_________________________________________________________________\n",
      "Layer (type)                 Output Shape              Param #   \n",
      "=================================================================\n",
      "embedding (Embedding)        (None, 50, 100)           81600     \n",
      "_________________________________________________________________\n",
      "spatial_dropout1d (SpatialDr (None, 50, 100)           0         \n",
      "_________________________________________________________________\n",
      "lstm (LSTM)                  (None, 100)               80400     \n",
      "_________________________________________________________________\n",
      "dense (Dense)                (None, 1)                 101       \n",
      "=================================================================\n",
      "Total params: 162,101\n",
      "Trainable params: 80,501\n",
      "Non-trainable params: 81,600\n",
      "_________________________________________________________________\n"
     ]
    }
   ],
   "source": [
    "model.summary()"
   ]
  },
  {
   "cell_type": "code",
   "execution_count": 68,
   "metadata": {
    "execution": {
     "iopub.execute_input": "2020-12-26T10:34:10.620084Z",
     "iopub.status.busy": "2020-12-26T10:34:10.619359Z",
     "iopub.status.idle": "2020-12-26T10:34:10.624402Z",
     "shell.execute_reply": "2020-12-26T10:34:10.624950Z"
    },
    "papermill": {
     "duration": 0.122517,
     "end_time": "2020-12-26T10:34:10.625091",
     "exception": false,
     "start_time": "2020-12-26T10:34:10.502574",
     "status": "completed"
    },
    "tags": []
   },
   "outputs": [
    {
     "data": {
      "text/plain": [
       "(100, 50)"
      ]
     },
     "execution_count": 68,
     "metadata": {},
     "output_type": "execute_result"
    }
   ],
   "source": [
    "data_pad.shape"
   ]
  },
  {
   "cell_type": "code",
   "execution_count": 69,
   "metadata": {
    "execution": {
     "iopub.execute_input": "2020-12-26T10:34:10.864703Z",
     "iopub.status.busy": "2020-12-26T10:34:10.864030Z",
     "iopub.status.idle": "2020-12-26T10:34:10.867422Z",
     "shell.execute_reply": "2020-12-26T10:34:10.868385Z"
    },
    "papermill": {
     "duration": 0.124751,
     "end_time": "2020-12-26T10:34:10.868585",
     "exception": false,
     "start_time": "2020-12-26T10:34:10.743834",
     "status": "completed"
    },
    "tags": []
   },
   "outputs": [],
   "source": [
    "train=data_pad[:train.shape[0]]\n",
    "test=data_pad[train.shape[0]:]"
   ]
  },
  {
   "cell_type": "code",
   "execution_count": 70,
   "metadata": {
    "execution": {
     "iopub.execute_input": "2020-12-26T10:34:11.143705Z",
     "iopub.status.busy": "2020-12-26T10:34:11.143043Z",
     "iopub.status.idle": "2020-12-26T10:34:11.367397Z",
     "shell.execute_reply": "2020-12-26T10:34:11.366757Z"
    },
    "papermill": {
     "duration": 0.371721,
     "end_time": "2020-12-26T10:34:11.367513",
     "exception": false,
     "start_time": "2020-12-26T10:34:10.995792",
     "status": "completed"
    },
    "tags": []
   },
   "outputs": [
    {
     "data": {
      "image/png": "[encoded data removed]",
      "text/plain": [
       "<Figure size 1008x576 with 1 Axes>"
      ]
     },
     "metadata": {},
     "output_type": "display_data"
    }
   ],
   "source": [
    "# Training data\n",
    "fig = plt.figure(figsize=(14, 8))          \n",
    "plot_LSA(train,train_target)\n",
    "plt.show()"
   ]
  },
  {
   "cell_type": "code",
   "execution_count": 71,
   "metadata": {
    "execution": {
     "iopub.execute_input": "2020-12-26T10:34:11.601142Z",
     "iopub.status.busy": "2020-12-26T10:34:11.600348Z",
     "iopub.status.idle": "2020-12-26T10:34:11.811495Z",
     "shell.execute_reply": "2020-12-26T10:34:11.812134Z"
    },
    "papermill": {
     "duration": 0.331321,
     "end_time": "2020-12-26T10:34:11.812309",
     "exception": false,
     "start_time": "2020-12-26T10:34:11.480988",
     "status": "completed"
    },
    "tags": []
   },
   "outputs": [
    {
     "data": {
      "image/png": "[encoded data removed]",
      "text/plain": [
       "<Figure size 1008x576 with 1 Axes>"
      ]
     },
     "metadata": {},
     "output_type": "display_data"
    }
   ],
   "source": [
    "# Test data\n",
    "fig = plt.figure(figsize=(14, 8))          \n",
    "plot_LSA(test,test_target)\n",
    "plt.show()"
   ]
  },
  {
   "cell_type": "code",
   "execution_count": 72,
   "metadata": {
    "execution": {
     "iopub.execute_input": "2020-12-26T10:34:12.052496Z",
     "iopub.status.busy": "2020-12-26T10:34:12.051802Z",
     "iopub.status.idle": "2020-12-26T10:34:22.335838Z",
     "shell.execute_reply": "2020-12-26T10:34:22.336383Z"
    },
    "papermill": {
     "duration": 10.409061,
     "end_time": "2020-12-26T10:34:22.336536",
     "exception": false,
     "start_time": "2020-12-26T10:34:11.927475",
     "status": "completed"
    },
    "tags": []
   },
   "outputs": [
    {
     "name": "stdout",
     "output_type": "stream",
     "text": [
      "Epoch 1/20\n",
      "5/5 - 1s - loss: 0.6963 - accuracy: 0.4833 - val_loss: 0.6919 - val_accuracy: 0.5000\n",
      "Epoch 2/20\n",
      "5/5 - 0s - loss: 0.6871 - accuracy: 0.5167 - val_loss: 0.6902 - val_accuracy: 0.5000\n",
      "Epoch 3/20\n",
      "5/5 - 0s - loss: 0.6811 - accuracy: 0.5167 - val_loss: 0.6884 - val_accuracy: 0.5000\n",
      "Epoch 4/20\n",
      "5/5 - 0s - loss: 0.6791 - accuracy: 0.5167 - val_loss: 0.6864 - val_accuracy: 0.5000\n",
      "Epoch 5/20\n",
      "5/5 - 0s - loss: 0.6748 - accuracy: 0.5167 - val_loss: 0.6848 - val_accuracy: 0.5000\n",
      "Epoch 6/20\n",
      "5/5 - 0s - loss: 0.6709 - accuracy: 0.5167 - val_loss: 0.6829 - val_accuracy: 0.5000\n",
      "Epoch 7/20\n",
      "5/5 - 0s - loss: 0.6700 - accuracy: 0.5333 - val_loss: 0.6807 - val_accuracy: 0.5250\n",
      "Epoch 8/20\n",
      "5/5 - 0s - loss: 0.6632 - accuracy: 0.5167 - val_loss: 0.6786 - val_accuracy: 0.5500\n",
      "Epoch 9/20\n",
      "5/5 - 0s - loss: 0.6573 - accuracy: 0.5667 - val_loss: 0.6764 - val_accuracy: 0.5750\n",
      "Epoch 10/20\n",
      "5/5 - 0s - loss: 0.6589 - accuracy: 0.5833 - val_loss: 0.6733 - val_accuracy: 0.5750\n",
      "Epoch 11/20\n",
      "5/5 - 0s - loss: 0.6507 - accuracy: 0.6333 - val_loss: 0.6713 - val_accuracy: 0.7750\n",
      "Epoch 12/20\n",
      "5/5 - 0s - loss: 0.6461 - accuracy: 0.7167 - val_loss: 0.6663 - val_accuracy: 0.7500\n",
      "Epoch 13/20\n",
      "5/5 - 0s - loss: 0.6295 - accuracy: 0.7000 - val_loss: 0.6378 - val_accuracy: 0.7750\n",
      "Epoch 14/20\n",
      "5/5 - 0s - loss: 0.5980 - accuracy: 0.7000 - val_loss: 0.5596 - val_accuracy: 0.8250\n",
      "Epoch 15/20\n",
      "5/5 - 0s - loss: 0.5754 - accuracy: 0.7667 - val_loss: 0.4664 - val_accuracy: 0.9000\n",
      "Epoch 16/20\n",
      "5/5 - 0s - loss: 0.5524 - accuracy: 0.7833 - val_loss: 0.4306 - val_accuracy: 0.9000\n",
      "Epoch 17/20\n",
      "5/5 - 0s - loss: 0.4725 - accuracy: 0.8167 - val_loss: 0.4615 - val_accuracy: 0.7750\n",
      "Epoch 18/20\n",
      "5/5 - 0s - loss: 0.4777 - accuracy: 0.7500 - val_loss: 0.3935 - val_accuracy: 0.8000\n",
      "Epoch 19/20\n",
      "5/5 - 0s - loss: 0.3967 - accuracy: 0.8667 - val_loss: 0.3601 - val_accuracy: 0.9250\n",
      "Epoch 20/20\n",
      "5/5 - 0s - loss: 0.3829 - accuracy: 0.8667 - val_loss: 0.4284 - val_accuracy: 0.8000\n"
     ]
    }
   ],
   "source": [
    "# Model tuning\n",
    "history=model.fit(train,train_target,batch_size=12,epochs=20,validation_data=(test,test_target),verbose=2)"
   ]
  },
  {
   "cell_type": "code",
   "execution_count": 73,
   "metadata": {
    "execution": {
     "iopub.execute_input": "2020-12-26T10:34:22.602612Z",
     "iopub.status.busy": "2020-12-26T10:34:22.601942Z",
     "iopub.status.idle": "2020-12-26T10:34:23.054588Z",
     "shell.execute_reply": "2020-12-26T10:34:23.053447Z"
    },
    "papermill": {
     "duration": 0.587812,
     "end_time": "2020-12-26T10:34:23.054811",
     "exception": false,
     "start_time": "2020-12-26T10:34:22.466999",
     "status": "completed"
    },
    "tags": []
   },
   "outputs": [],
   "source": [
    "train_pred_GloVe = model.predict(train)\n",
    "train_pred_GloVe_int = train_pred_GloVe.round().astype('int')"
   ]
  },
  {
   "cell_type": "markdown",
   "metadata": {
    "papermill": {
     "duration": 0.131203,
     "end_time": "2020-12-26T10:34:23.319058",
     "exception": false,
     "start_time": "2020-12-26T10:34:23.187855",
     "status": "completed"
    },
    "tags": []
   },
   "source": [
    "## 10. Showing Confusion Matrix for GloVe <a class=\"anchor\" id=\"10\"></a>\n",
    "\n",
    "[Back to Table of Contents](#0.1)"
   ]
  },
  {
   "cell_type": "code",
   "execution_count": 74,
   "metadata": {
    "execution": {
     "iopub.execute_input": "2020-12-26T10:34:23.588397Z",
     "iopub.status.busy": "2020-12-26T10:34:23.587430Z",
     "iopub.status.idle": "2020-12-26T10:34:23.598134Z",
     "shell.execute_reply": "2020-12-26T10:34:23.597228Z"
    },
    "papermill": {
     "duration": 0.150735,
     "end_time": "2020-12-26T10:34:23.598307",
     "exception": false,
     "start_time": "2020-12-26T10:34:23.447572",
     "status": "completed"
    },
    "tags": []
   },
   "outputs": [],
   "source": [
    "# Showing Confusion Matrix\n",
    "# Thanks to https://www.kaggle.com/marcovasquez/basic-nlp-with-tensorflow-and-wordcloud\n",
    "def plot_cm(y_true, y_pred, title, figsize=(5,4)):\n",
    "    cm = confusion_matrix(y_true, y_pred, labels=np.unique(y_true))\n",
    "    cm_sum = np.sum(cm, axis=1, keepdims=True)\n",
    "    cm_perc = cm / cm_sum.astype(float) * 100\n",
    "    annot = np.empty_like(cm).astype(str)\n",
    "    nrows, ncols = cm.shape\n",
    "    for i in range(nrows):\n",
    "        for j in range(ncols):\n",
    "            c = cm[i, j]\n",
    "            p = cm_perc[i, j]\n",
    "            if i == j:\n",
    "                s = cm_sum[i]\n",
    "                annot[i, j] = '%.1f%%\\n%d/%d' % (p, c, s)\n",
    "            elif c == 0:\n",
    "                annot[i, j] = ''\n",
    "            else:\n",
    "                annot[i, j] = '%.1f%%\\n%d' % (p, c)\n",
    "    cm = pd.DataFrame(cm, index=np.unique(y_true), columns=np.unique(y_true))\n",
    "    cm.index.name = 'Actual'\n",
    "    cm.columns.name = 'Predicted'\n",
    "    fig, ax = plt.subplots(figsize=figsize)\n",
    "    plt.title(title)\n",
    "    sns.heatmap(cm, cmap= \"YlGnBu\", annot=annot, fmt='', ax=ax)"
   ]
  },
  {
   "cell_type": "code",
   "execution_count": 75,
   "metadata": {
    "execution": {
     "iopub.execute_input": "2020-12-26T10:34:23.986703Z",
     "iopub.status.busy": "2020-12-26T10:34:23.985763Z",
     "iopub.status.idle": "2020-12-26T10:34:24.174688Z",
     "shell.execute_reply": "2020-12-26T10:34:24.173810Z"
    },
    "papermill": {
     "duration": 0.386432,
     "end_time": "2020-12-26T10:34:24.174821",
     "exception": false,
     "start_time": "2020-12-26T10:34:23.788389",
     "status": "completed"
    },
    "tags": []
   },
   "outputs": [
    {
     "data": {
      "image/png": "[encoded data removed]",
      "text/plain": [
       "<Figure size 504x504 with 2 Axes>"
      ]
     },
     "metadata": {},
     "output_type": "display_data"
    }
   ],
   "source": [
    "# Showing Confusion Matrix for GloVe model\n",
    "plot_cm(y_train, train_pred_GloVe_int, 'Confusion matrix for GloVe model', figsize=(7,7))"
   ]
  },
  {
   "cell_type": "code",
   "execution_count": 76,
   "metadata": {
    "execution": {
     "iopub.execute_input": "2020-12-26T10:34:24.445467Z",
     "iopub.status.busy": "2020-12-26T10:34:24.443259Z",
     "iopub.status.idle": "2020-12-26T10:34:24.518421Z",
     "shell.execute_reply": "2020-12-26T10:34:24.517386Z"
    },
    "papermill": {
     "duration": 0.211865,
     "end_time": "2020-12-26T10:34:24.518530",
     "exception": false,
     "start_time": "2020-12-26T10:34:24.306665",
     "status": "completed"
    },
    "tags": []
   },
   "outputs": [
    {
     "name": "stdout",
     "output_type": "stream",
     "text": [
      "Accuracy score of the test prediction by the GloVe model - 0.8\n"
     ]
    }
   ],
   "source": [
    "# Test prediction\n",
    "test_pred = model.predict(test).round().astype('int')\n",
    "print('Accuracy score of the test prediction by the GloVe model -', accuracy_score(test_target, test_pred))"
   ]
  },
  {
   "cell_type": "markdown",
   "metadata": {
    "papermill": {
     "duration": 0.130666,
     "end_time": "2020-12-26T10:34:25.312495",
     "exception": false,
     "start_time": "2020-12-26T10:34:25.181829",
     "status": "completed"
    },
    "tags": []
   },
   "source": [
    "[Go to Top](#0)"
   ]
  }
 ],
 "metadata": {
  "kernelspec": {
   "display_name": "Python 3 (ipykernel)",
   "language": "python",
   "name": "python3"
  },
  "language_info": {
   "codemirror_mode": {
    "name": "ipython",
    "version": 3
   },
   "file_extension": ".py",
   "mimetype": "text/x-python",
   "name": "python",
   "nbconvert_exporter": "python",
   "pygments_lexer": "ipython3",
   "version": "3.11.5"
  },
  "papermill": {
   "duration": 88.27303,
   "end_time": "2020-12-26T10:34:25.560591",
   "environment_variables": {},
   "exception": null,
   "input_path": "__notebook__.ipynb",
   "output_path": "__notebook__.ipynb",
   "parameters": {},
   "start_time": "2020-12-26T10:32:57.287561",
   "version": "2.1.0"
  }
 },
 "nbformat": 4,
 "nbformat_minor": 4
}
